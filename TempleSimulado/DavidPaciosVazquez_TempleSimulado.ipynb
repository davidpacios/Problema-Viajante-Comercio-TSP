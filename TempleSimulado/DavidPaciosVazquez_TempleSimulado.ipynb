{
 "cells": [
  {
   "cell_type": "markdown",
   "id": "3d57d457",
   "metadata": {},
   "source": [
    "\n",
    "# Práctica 1: Metaheurísticas basadas en trayectorias: Temple Simulado"
   ]
  },
  {
   "cell_type": "markdown",
   "id": "dc9d72a9",
   "metadata": {},
   "source": [
    "<center><h3>\n",
    "    Nombre Apellidos\n",
    "</h3></center>\n"
   ]
  },
  {
   "cell_type": "markdown",
   "id": "8087aede",
   "metadata": {},
   "source": [
    "## Instrucciones"
   ]
  },
  {
   "cell_type": "markdown",
   "id": "a351019b",
   "metadata": {},
   "source": [
    "Esto es **Jupyter Notebook**, un documento que integra código Python en un archivo Markdown.\n",
    "Esto nos permite ir ejecutando celdas de código poco a poco, así como generar un informe bien formateado de la práctica.\n",
    "\n",
    "Puedes añadir una celda con el botón **\"Insert\"** de la barra de herramentas, y cambiar su tipo con **\"Cell > Cell Type\"**\n",
    "\n",
    "Para ejecutar una celda de código, la seleccionaremos y pulsaremos el botón **\"▶ Run\"** de la barra de herramentas.\n",
    "Para pasar el documento a HTML, seleccionaremos **\"File > Download as > HTML (.html)\"**\n",
    "\n",
    "Sigue este guion hasta el final. Ejecuta el código proporcionado paso a paso comprendiendo lo que estás haciendo y reflexionando sobre los resultados. Habrá preguntas intercaladas a lo largo del guion. Responde a todas ellas en la sección reservada para ese fin: **\"Respuestas a los ejercicios\"**. Por favor, no modifiques ninguna línea de código excepto cuando se te pida explícitamente.\n",
    "\n",
    "No olvides insertar tu **nombre y apellidos** en la celda superior."
   ]
  },
  {
   "cell_type": "markdown",
   "id": "3c804f80",
   "metadata": {},
   "source": [
    "## Entrega de la práctica"
   ]
  },
  {
   "cell_type": "markdown",
   "id": "797d20ec",
   "metadata": {},
   "source": [
    "La fecha límite de entrega será la indicada en el Campus Virtual. La entrega consistirá de un único archivo comprimido con nombre `APELIDOS_NOME_TempleSimulado.zip` que contenga los siguientes ficheros:\n",
    "\n",
    " * `APELIDOS_NOME_TempleSimulado.html`: Archivo HTML fruto de la exportación del presente Notebook, con las preguntas respondidas al final del documento.\n",
    " * `APELIDOS_NOME_TempleSimulado.ipynb`: Archivo fuente Jupyter Notebook.\n",
    " * Archivo de datos de los problemas utilizados en la resolución."
   ]
  },
  {
   "cell_type": "markdown",
   "id": "f7f872a1",
   "metadata": {},
   "source": [
    "\n",
    "## Preliminares adicionales sobre Python para esta práctica\n"
   ]
  },
  {
   "cell_type": "markdown",
   "id": "3c2f982c",
   "metadata": {},
   "source": [
    "Conviene familiarizarse con algunas funciones disponibles en Python que pueden resultarte especialmente útiles más adelante en la realización de esta práctica.\n"
   ]
  },
  {
   "cell_type": "markdown",
   "id": "b69c9368",
   "metadata": {},
   "source": [
    "Por ejemplo, puedes generar números aleatorios de la siguiente forma utilizando el paquete `random`."
   ]
  },
  {
   "cell_type": "code",
   "execution_count": 1,
   "id": "d6354e9a",
   "metadata": {},
   "outputs": [
    {
     "name": "stdout",
     "output_type": "stream",
     "text": [
      "4\n",
      "0.27026871439272904\n"
     ]
    }
   ],
   "source": [
    "import random\n",
    "\n",
    "# podemos crear un numero aleatorio entre 1 y 10\n",
    "numero_aleatorio = random.randint(1, 10)\n",
    "print(numero_aleatorio)\n",
    "\n",
    "# y números aleatorios entre 0 y 1 siguiendo también una distribución uniforme\n",
    "numero_U = random.uniform(0,1)\n",
    "print (numero_U)\n"
   ]
  },
  {
   "cell_type": "markdown",
   "id": "a9c96428",
   "metadata": {},
   "source": [
    "Puedes generar vectores de números fijos y aleatorios que a su vez estén barajados de manera aleatoria como se ilustra a continuación."
   ]
  },
  {
   "cell_type": "code",
   "execution_count": 2,
   "id": "371102aa",
   "metadata": {},
   "outputs": [
    {
     "name": "stdout",
     "output_type": "stream",
     "text": [
      "vector fijo  [1, 2, 3, 4, 5, 6, 7, 8, 9]\n",
      "[9, 7, 4, 6, 3, 5, 2, 1, 8]\n",
      "vector aleatorio  [7, 6, 1, 6, 10, 7, 4, 4, 5]\n",
      "[7, 4, 5, 4, 6, 7, 6, 1, 10]\n"
     ]
    }
   ],
   "source": [
    "vector = [x for x in range (1,10)]\n",
    "print (\"vector fijo \", vector)\n",
    "\n",
    "random.shuffle(vector)\n",
    "print (vector)\n",
    "\n",
    "vector_aleatorio = [ random.randint(1, 10) for i in range(1,10) ]\n",
    "print (\"vector aleatorio \", vector_aleatorio)\n",
    "\n",
    "random.shuffle(vector_aleatorio)\n",
    "print (vector_aleatorio)\n"
   ]
  },
  {
   "cell_type": "markdown",
   "id": "400362c7",
   "metadata": {},
   "source": [
    "Puedes incluso fijar la semilla para generar números aleatorios si quisieras que la aleatorización fuera determinista (i.e., secuencias de números aletorios que pueden ser reproducibles). Fíjate en el siguiente ejemplo que muestra como esta determina la secuencia de número si se establece una semilla y por tanto su repitibilidad. Esto puede ser útil si queremos asegurar que dos ejecuciones den el mismo resultado."
   ]
  },
  {
   "cell_type": "code",
   "execution_count": 3,
   "id": "f0cf8558",
   "metadata": {},
   "outputs": [
    {
     "name": "stdout",
     "output_type": "stream",
     "text": [
      "vector aleatorio  [8, 10, 2, 6, 3, 1, 6, 5, 9]\n",
      "vector aleatorio  [5, 1, 3, 1, 2, 1, 5, 1, 2]\n",
      "vector aleatorio igual que el anterior [5, 1, 3, 1, 2, 1, 5, 1, 2]\n"
     ]
    }
   ],
   "source": [
    "import time\n",
    "\n",
    "# este vector será aleatorio si no habíamos establecido una semilla previamente.\n",
    "# Podríamos tener incluso una semilla basada en el tiempo actual para forzar que se aleatorice \n",
    "# si ejecutamos esta celda múltiples veces\n",
    "random.seed(time.time())\n",
    "\n",
    "vector_aleatorio = [ random.randint(1, 10) for i in range(1,10) ]\n",
    "print (\"vector aleatorio \", vector_aleatorio)\n",
    "\n",
    "# aquí establecemos una semilla totalmente fija\n",
    "# que no depende del tiempo y por tanto está bajo nuestro control\n",
    "semilla = 123456\n",
    "random.seed (semilla)\n",
    "\n",
    "# este viene determinado por la semilla\n",
    "vector_aleatorio = [ random.randint(1, 10) for i in range(1,10) ]\n",
    "print (\"vector aleatorio \", vector_aleatorio)\n",
    "\n",
    "# y ahora somos capaces de generar la misma serie \"aleatoria\"\n",
    "random.seed (semilla)\n",
    "vector_aleatorio = [ random.randint(1, 10) for i in range(1,10) ]\n",
    "print (\"vector aleatorio igual que el anterior\", vector_aleatorio)\n",
    "\n"
   ]
  },
  {
   "cell_type": "markdown",
   "id": "79f4e85f",
   "metadata": {},
   "source": [
    "Un último ejemplo del uso de la semilla sería establecerla justo antes de invocar a una función que queremos hacer la aleatorización totalmente determinista por cuestiones reproducibilidad. Puedes averiguar más en: https://docs.python.org/3/library/random.html"
   ]
  },
  {
   "cell_type": "code",
   "execution_count": 4,
   "id": "6c565400",
   "metadata": {},
   "outputs": [
    {
     "name": "stdout",
     "output_type": "stream",
     "text": [
      "vector aleatorio  [7, 1, 5, 6, 4, 5, 10, 7, 3]\n",
      "vector aleatorio  [8, 2, 4, 3, 9, 9, 7, 3, 6]\n",
      "vector aleatorio  [7, 1, 5, 6, 4, 5, 10, 7, 3]\n",
      "vector aleatorio  [7, 1, 5, 6, 4, 5, 10, 7, 3]\n"
     ]
    }
   ],
   "source": [
    "\n",
    "def mi_funcion_pseudo_aleatoria (semilla=None):\n",
    "    # también podemos recibir la semilla y establecerla en la primera línea\n",
    "    if (semilla is not None):\n",
    "        random.seed(semilla)\n",
    "        \n",
    "    mi_vector_aleatorio = [ random.randint(1, 10) for i in range(1,10) ]\n",
    "    return mi_vector_aleatorio\n",
    "    \n",
    "\n",
    "random.seed(12345)\n",
    "vector_aleatorio = mi_funcion_pseudo_aleatoria()\n",
    "print (\"vector aleatorio \", vector_aleatorio)\n",
    "\n",
    "random.seed(54321)\n",
    "vector_aleatorio = mi_funcion_pseudo_aleatoria()\n",
    "print (\"vector aleatorio \", vector_aleatorio)\n",
    "\n",
    "random.seed(12345)\n",
    "vector_aleatorio = mi_funcion_pseudo_aleatoria()\n",
    "print (\"vector aleatorio \", vector_aleatorio)\n",
    "\n",
    "\n",
    "vector_aleatorio = mi_funcion_pseudo_aleatoria(12345)\n",
    "print (\"vector aleatorio \", vector_aleatorio)\n",
    "\n"
   ]
  },
  {
   "cell_type": "markdown",
   "id": "3a5608a8",
   "metadata": {},
   "source": [
    "Otro conjunto de funciones importantes son las que vienen del módulo `math`. Puedes encontrar una lista de las funciones disponibles en https://docs.python.org/3/library/math.html. Ponemos a continuación algunos ejemplos de uso."
   ]
  },
  {
   "cell_type": "code",
   "execution_count": 5,
   "id": "670e454e",
   "metadata": {},
   "outputs": [
    {
     "name": "stdout",
     "output_type": "stream",
     "text": [
      "2.718281828459045\n",
      "7.38905609893065\n",
      "2.718281828459045\n",
      "7.3890560989306495\n",
      "1.0\n",
      "1.0\n"
     ]
    }
   ],
   "source": [
    "import math \n",
    "\n",
    "# número e elevado a la potencia indicada\n",
    "e=math.exp(1)\n",
    "print (e)\n",
    "\n",
    "power2_e=math.exp(2)\n",
    "print (power2_e)\n",
    "\n",
    "# ejemplo de potencia\n",
    "print(math.pow(e, 1))\n",
    "print(math.pow(e, 2))\n",
    "\n",
    "# ejemplo del logaritmo natural de base e\n",
    "base = e\n",
    "print (math.log(e))\n",
    "print (math.log(e, base))\n"
   ]
  },
  {
   "cell_type": "markdown",
   "id": "c1077d04",
   "metadata": {},
   "source": [
    "Finalmente, las funciones del módulo `time` te permiten obtener de manera aproximada tiempos de ejecución de secciones concretas de código. "
   ]
  },
  {
   "cell_type": "code",
   "execution_count": 6,
   "id": "f19e7fd6",
   "metadata": {},
   "outputs": [
    {
     "name": "stdout",
     "output_type": "stream",
     "text": [
      "---- 0.08433794975280762 segundos ----\n"
     ]
    }
   ],
   "source": [
    "import time\n",
    "start_time = time.time()\n",
    "\n",
    "sum = 0\n",
    "for i in range(1000000):\n",
    "    sum = sum * 1\n",
    "\n",
    "print(\"---- %s segundos ----\" % (time.time() - start_time))"
   ]
  },
  {
   "cell_type": "markdown",
   "id": "f73d01d4",
   "metadata": {},
   "source": [
    "## El Problema del Viajante de Comercio (VC) con Temple Simulado\n",
    "\n",
    "El objetivo de esta práctica es modelar e implementar un agente inteligente que sea capaz de resolver el problema del VC mediante la metaheurística (MH) de Enfriamiento o Temple Simulado (SA, del inglés Simulated Annealing). Para ello, realizarás una implementación del algoritmo básico visto en la clase expositiva y valorarás si la introducción de modificaciones en el diseño del algoritmo te permite mejorar la calidad de las soluciones alcanzadas."
   ]
  },
  {
   "cell_type": "markdown",
   "id": "8d0f75f2",
   "metadata": {},
   "source": [
    "\n",
    "### Definición del problema de Viajante de Comercio (VC)\n"
   ]
  },
  {
   "cell_type": "markdown",
   "id": "2d8f430b",
   "metadata": {},
   "source": [
    "\n",
    "El problema del viajante de comercio (VC) es el problema de la persona que quiere vender un producto, y que para ello quiere encontrar el viaje más corto posible a través de las ciudades de los clientes, haciendo una única visita a cada una, empezando y acabando el recorrido en su propia ciudad (recorrido circular desde la ciudad inicial).\n",
    "\n",
    "Típicamente, el problema parte de una representación mediante un grafo ponderado G=(N, A), donde N es el conjunto de n=|N| nodos (ciudades), y siendo A el conjunto de arcos conectando los nodos. Cada arco (i, j) ∈ A tiene asignado un peso d_ij que representa la distancia entre las ciudades i y j.\n"
   ]
  },
  {
   "cell_type": "markdown",
   "id": "bbcfc483",
   "metadata": {},
   "source": [
    "Para facilitar vuestra labor de implementación, os proporcionamos la clase `Localizaciones`, que permite cargar las localizaciones GPS que representan los vértices del grafo G de N ciudades, y permite calcular de manera transparente la distancia entre cualquier par de ciudades usando la fórmula del semiverseno https://es.wikipedia.org/wiki/F%C3%B3rmula_del_semiverseno, que sirve para calcular las distancias teniendo en cuenta la curvatura de la Tierra.\n"
   ]
  },
  {
   "cell_type": "markdown",
   "id": "3a2d6367",
   "metadata": {},
   "source": [
    "En primer lugar deberás importar el módulo Python que acompaña esta práctica, que trae alguna función de apoyo implementada así como la clase de carga de datos."
   ]
  },
  {
   "cell_type": "code",
   "execution_count": 7,
   "id": "7e422090",
   "metadata": {},
   "outputs": [],
   "source": [
    "from helpers_mod_sa import *"
   ]
  },
  {
   "cell_type": "markdown",
   "id": "6438416b",
   "metadata": {},
   "source": [
    "Inspecciona el código de carga de localizaciones mediante `psource(Localizaciones)`"
   ]
  },
  {
   "cell_type": "code",
   "execution_count": 8,
   "id": "b4b9896c",
   "metadata": {},
   "outputs": [
    {
     "data": {
      "text/html": [
       "<!DOCTYPE html PUBLIC \"-//W3C//DTD HTML 4.01//EN\"\n",
       "   \"http://www.w3.org/TR/html4/strict.dtd\">\n",
       "<!--\n",
       "generated by Pygments <https://pygments.org/>\n",
       "Copyright 2006-2023 by the Pygments team.\n",
       "Licensed under the BSD license, see LICENSE for details.\n",
       "-->\n",
       "<html>\n",
       "<head>\n",
       "  <title></title>\n",
       "  <meta http-equiv=\"content-type\" content=\"text/html; charset=None\">\n",
       "  <style type=\"text/css\">\n",
       "/*\n",
       "generated by Pygments <https://pygments.org/>\n",
       "Copyright 2006-2023 by the Pygments team.\n",
       "Licensed under the BSD license, see LICENSE for details.\n",
       "*/\n",
       "pre { line-height: 125%; }\n",
       "td.linenos .normal { color: inherit; background-color: transparent; padding-left: 5px; padding-right: 5px; }\n",
       "span.linenos { color: inherit; background-color: transparent; padding-left: 5px; padding-right: 5px; }\n",
       "td.linenos .special { color: #000000; background-color: #ffffc0; padding-left: 5px; padding-right: 5px; }\n",
       "span.linenos.special { color: #000000; background-color: #ffffc0; padding-left: 5px; padding-right: 5px; }\n",
       "body .hll { background-color: #ffffcc }\n",
       "body { background: #f8f8f8; }\n",
       "body .c { color: #3D7B7B; font-style: italic } /* Comment */\n",
       "body .err { border: 1px solid #FF0000 } /* Error */\n",
       "body .k { color: #008000; font-weight: bold } /* Keyword */\n",
       "body .o { color: #666666 } /* Operator */\n",
       "body .ch { color: #3D7B7B; font-style: italic } /* Comment.Hashbang */\n",
       "body .cm { color: #3D7B7B; font-style: italic } /* Comment.Multiline */\n",
       "body .cp { color: #9C6500 } /* Comment.Preproc */\n",
       "body .cpf { color: #3D7B7B; font-style: italic } /* Comment.PreprocFile */\n",
       "body .c1 { color: #3D7B7B; font-style: italic } /* Comment.Single */\n",
       "body .cs { color: #3D7B7B; font-style: italic } /* Comment.Special */\n",
       "body .gd { color: #A00000 } /* Generic.Deleted */\n",
       "body .ge { font-style: italic } /* Generic.Emph */\n",
       "body .ges { font-weight: bold; font-style: italic } /* Generic.EmphStrong */\n",
       "body .gr { color: #E40000 } /* Generic.Error */\n",
       "body .gh { color: #000080; font-weight: bold } /* Generic.Heading */\n",
       "body .gi { color: #008400 } /* Generic.Inserted */\n",
       "body .go { color: #717171 } /* Generic.Output */\n",
       "body .gp { color: #000080; font-weight: bold } /* Generic.Prompt */\n",
       "body .gs { font-weight: bold } /* Generic.Strong */\n",
       "body .gu { color: #800080; font-weight: bold } /* Generic.Subheading */\n",
       "body .gt { color: #0044DD } /* Generic.Traceback */\n",
       "body .kc { color: #008000; font-weight: bold } /* Keyword.Constant */\n",
       "body .kd { color: #008000; font-weight: bold } /* Keyword.Declaration */\n",
       "body .kn { color: #008000; font-weight: bold } /* Keyword.Namespace */\n",
       "body .kp { color: #008000 } /* Keyword.Pseudo */\n",
       "body .kr { color: #008000; font-weight: bold } /* Keyword.Reserved */\n",
       "body .kt { color: #B00040 } /* Keyword.Type */\n",
       "body .m { color: #666666 } /* Literal.Number */\n",
       "body .s { color: #BA2121 } /* Literal.String */\n",
       "body .na { color: #687822 } /* Name.Attribute */\n",
       "body .nb { color: #008000 } /* Name.Builtin */\n",
       "body .nc { color: #0000FF; font-weight: bold } /* Name.Class */\n",
       "body .no { color: #880000 } /* Name.Constant */\n",
       "body .nd { color: #AA22FF } /* Name.Decorator */\n",
       "body .ni { color: #717171; font-weight: bold } /* Name.Entity */\n",
       "body .ne { color: #CB3F38; font-weight: bold } /* Name.Exception */\n",
       "body .nf { color: #0000FF } /* Name.Function */\n",
       "body .nl { color: #767600 } /* Name.Label */\n",
       "body .nn { color: #0000FF; font-weight: bold } /* Name.Namespace */\n",
       "body .nt { color: #008000; font-weight: bold } /* Name.Tag */\n",
       "body .nv { color: #19177C } /* Name.Variable */\n",
       "body .ow { color: #AA22FF; font-weight: bold } /* Operator.Word */\n",
       "body .w { color: #bbbbbb } /* Text.Whitespace */\n",
       "body .mb { color: #666666 } /* Literal.Number.Bin */\n",
       "body .mf { color: #666666 } /* Literal.Number.Float */\n",
       "body .mh { color: #666666 } /* Literal.Number.Hex */\n",
       "body .mi { color: #666666 } /* Literal.Number.Integer */\n",
       "body .mo { color: #666666 } /* Literal.Number.Oct */\n",
       "body .sa { color: #BA2121 } /* Literal.String.Affix */\n",
       "body .sb { color: #BA2121 } /* Literal.String.Backtick */\n",
       "body .sc { color: #BA2121 } /* Literal.String.Char */\n",
       "body .dl { color: #BA2121 } /* Literal.String.Delimiter */\n",
       "body .sd { color: #BA2121; font-style: italic } /* Literal.String.Doc */\n",
       "body .s2 { color: #BA2121 } /* Literal.String.Double */\n",
       "body .se { color: #AA5D1F; font-weight: bold } /* Literal.String.Escape */\n",
       "body .sh { color: #BA2121 } /* Literal.String.Heredoc */\n",
       "body .si { color: #A45A77; font-weight: bold } /* Literal.String.Interpol */\n",
       "body .sx { color: #008000 } /* Literal.String.Other */\n",
       "body .sr { color: #A45A77 } /* Literal.String.Regex */\n",
       "body .s1 { color: #BA2121 } /* Literal.String.Single */\n",
       "body .ss { color: #19177C } /* Literal.String.Symbol */\n",
       "body .bp { color: #008000 } /* Name.Builtin.Pseudo */\n",
       "body .fm { color: #0000FF } /* Name.Function.Magic */\n",
       "body .vc { color: #19177C } /* Name.Variable.Class */\n",
       "body .vg { color: #19177C } /* Name.Variable.Global */\n",
       "body .vi { color: #19177C } /* Name.Variable.Instance */\n",
       "body .vm { color: #19177C } /* Name.Variable.Magic */\n",
       "body .il { color: #666666 } /* Literal.Number.Integer.Long */\n",
       "\n",
       "  </style>\n",
       "</head>\n",
       "<body>\n",
       "<h2></h2>\n",
       "\n",
       "<div class=\"highlight\"><pre><span></span><span class=\"k\">class</span> <span class=\"nc\">Localizaciones</span> <span class=\"p\">():</span>\n",
       "\n",
       "    <span class=\"k\">def</span> <span class=\"fm\">__init__</span> <span class=\"p\">(</span><span class=\"bp\">self</span><span class=\"p\">,</span> <span class=\"n\">filename</span><span class=\"o\">=</span><span class=\"s1\">&#39;./data/grafo8cidades.txt&#39;</span><span class=\"p\">):</span>\n",
       "        <span class=\"bp\">self</span><span class=\"o\">.</span><span class=\"n\">filename</span> <span class=\"o\">=</span> <span class=\"n\">filename</span>\n",
       "        <span class=\"n\">file</span> <span class=\"o\">=</span> <span class=\"nb\">open</span><span class=\"p\">(</span><span class=\"n\">filename</span><span class=\"p\">,</span> <span class=\"s1\">&#39;r&#39;</span><span class=\"p\">)</span>\n",
       "        <span class=\"n\">Lines</span> <span class=\"o\">=</span> <span class=\"n\">file</span><span class=\"o\">.</span><span class=\"n\">readlines</span><span class=\"p\">()</span>\n",
       "\n",
       "        <span class=\"n\">count</span> <span class=\"o\">=</span> <span class=\"o\">-</span><span class=\"mi\">1</span>\n",
       "        <span class=\"bp\">self</span><span class=\"o\">.</span><span class=\"n\">nciudades</span> <span class=\"o\">=</span> <span class=\"mi\">0</span> \n",
       "        <span class=\"bp\">self</span><span class=\"o\">.</span><span class=\"n\">tablaciudades</span> <span class=\"o\">=</span> <span class=\"nb\">dict</span><span class=\"p\">()</span>\n",
       "        <span class=\"k\">for</span> <span class=\"n\">line</span> <span class=\"ow\">in</span> <span class=\"n\">Lines</span><span class=\"p\">:</span>\n",
       "            <span class=\"k\">if</span> <span class=\"n\">count</span> <span class=\"o\">==</span> <span class=\"o\">-</span><span class=\"mi\">1</span><span class=\"p\">:</span>\n",
       "                <span class=\"bp\">self</span><span class=\"o\">.</span><span class=\"n\">nciudades</span> <span class=\"o\">=</span> <span class=\"nb\">int</span><span class=\"p\">(</span><span class=\"n\">line</span><span class=\"o\">.</span><span class=\"n\">strip</span><span class=\"p\">()</span><span class=\"o\">.</span><span class=\"n\">split</span><span class=\"p\">()[</span><span class=\"mi\">0</span><span class=\"p\">])</span>        \n",
       "            <span class=\"k\">else</span><span class=\"p\">:</span>\n",
       "                <span class=\"n\">tokens</span> <span class=\"o\">=</span> <span class=\"n\">line</span><span class=\"o\">.</span><span class=\"n\">strip</span><span class=\"p\">()</span><span class=\"o\">.</span><span class=\"n\">split</span><span class=\"p\">()</span>\n",
       "                <span class=\"bp\">self</span><span class=\"o\">.</span><span class=\"n\">tablaciudades</span><span class=\"p\">[</span><span class=\"n\">count</span><span class=\"p\">]</span><span class=\"o\">=</span><span class=\"nb\">tuple</span><span class=\"p\">((</span><span class=\"nb\">float</span><span class=\"p\">(</span><span class=\"n\">tokens</span><span class=\"p\">[</span><span class=\"mi\">0</span><span class=\"p\">]),</span><span class=\"nb\">float</span><span class=\"p\">(</span><span class=\"n\">tokens</span><span class=\"p\">[</span><span class=\"mi\">1</span><span class=\"p\">])))</span>                \n",
       "\n",
       "            <span class=\"n\">count</span><span class=\"o\">+=</span><span class=\"mi\">1</span>\n",
       "    \n",
       "        <span class=\"bp\">self</span><span class=\"o\">.</span><span class=\"n\">matriz</span> <span class=\"o\">=</span> <span class=\"p\">[]</span>\n",
       "        <span class=\"k\">for</span> <span class=\"n\">c1</span> <span class=\"ow\">in</span> <span class=\"nb\">range</span><span class=\"p\">(</span><span class=\"bp\">self</span><span class=\"o\">.</span><span class=\"n\">nciudades</span><span class=\"p\">):</span>\n",
       "            <span class=\"n\">a</span> <span class=\"o\">=</span> <span class=\"p\">[</span><span class=\"mi\">0</span><span class=\"p\">]</span><span class=\"o\">*</span><span class=\"bp\">self</span><span class=\"o\">.</span><span class=\"n\">nciudades</span>\n",
       "            <span class=\"bp\">self</span><span class=\"o\">.</span><span class=\"n\">matriz</span><span class=\"o\">.</span><span class=\"n\">append</span><span class=\"p\">(</span><span class=\"n\">a</span><span class=\"p\">)</span>\n",
       "            <span class=\"k\">for</span> <span class=\"n\">c2</span> <span class=\"ow\">in</span> <span class=\"nb\">range</span><span class=\"p\">(</span><span class=\"bp\">self</span><span class=\"o\">.</span><span class=\"n\">nciudades</span><span class=\"p\">):</span>\n",
       "                <span class=\"bp\">self</span><span class=\"o\">.</span><span class=\"n\">matriz</span><span class=\"p\">[</span><span class=\"n\">c1</span><span class=\"p\">][</span><span class=\"n\">c2</span><span class=\"p\">]</span> <span class=\"o\">=</span> <span class=\"bp\">self</span><span class=\"o\">.</span><span class=\"n\">__distancia_semiverseno__</span><span class=\"p\">(</span><span class=\"n\">c1</span><span class=\"p\">,</span> <span class=\"n\">c2</span><span class=\"p\">)</span>\n",
       "    \n",
       "    <span class=\"k\">def</span> <span class=\"nf\">__distancia_semiverseno__</span> <span class=\"p\">(</span><span class=\"bp\">self</span><span class=\"p\">,</span> <span class=\"n\">c1</span><span class=\"p\">,</span> <span class=\"n\">c2</span><span class=\"p\">):</span>\n",
       "        <span class=\"n\">radioTierra</span> <span class=\"o\">=</span> <span class=\"mi\">6371</span>\n",
       "        <span class=\"n\">lat1</span> <span class=\"o\">=</span> <span class=\"n\">math</span><span class=\"o\">.</span><span class=\"n\">radians</span><span class=\"p\">(</span><span class=\"bp\">self</span><span class=\"o\">.</span><span class=\"n\">tablaciudades</span><span class=\"p\">[</span><span class=\"n\">c1</span><span class=\"p\">][</span><span class=\"mi\">0</span><span class=\"p\">]);</span>\n",
       "        <span class=\"n\">lon1</span> <span class=\"o\">=</span> <span class=\"n\">math</span><span class=\"o\">.</span><span class=\"n\">radians</span><span class=\"p\">(</span><span class=\"bp\">self</span><span class=\"o\">.</span><span class=\"n\">tablaciudades</span><span class=\"p\">[</span><span class=\"n\">c1</span><span class=\"p\">][</span><span class=\"mi\">1</span><span class=\"p\">]);</span>\n",
       "        <span class=\"n\">lat2</span> <span class=\"o\">=</span> <span class=\"n\">math</span><span class=\"o\">.</span><span class=\"n\">radians</span><span class=\"p\">(</span><span class=\"bp\">self</span><span class=\"o\">.</span><span class=\"n\">tablaciudades</span><span class=\"p\">[</span><span class=\"n\">c2</span><span class=\"p\">][</span><span class=\"mi\">0</span><span class=\"p\">]);</span>\n",
       "        <span class=\"n\">lon2</span> <span class=\"o\">=</span> <span class=\"n\">math</span><span class=\"o\">.</span><span class=\"n\">radians</span><span class=\"p\">(</span><span class=\"bp\">self</span><span class=\"o\">.</span><span class=\"n\">tablaciudades</span><span class=\"p\">[</span><span class=\"n\">c2</span><span class=\"p\">][</span><span class=\"mi\">1</span><span class=\"p\">]);</span>\n",
       "        \n",
       "        <span class=\"n\">sinChi</span> <span class=\"o\">=</span> <span class=\"n\">math</span><span class=\"o\">.</span><span class=\"n\">sin</span><span class=\"p\">((</span><span class=\"n\">lat2</span> <span class=\"o\">-</span> <span class=\"n\">lat1</span><span class=\"p\">)</span> <span class=\"o\">/</span> <span class=\"mi\">2</span><span class=\"p\">);</span>\n",
       "        <span class=\"n\">sinLambda</span> <span class=\"o\">=</span> <span class=\"n\">math</span><span class=\"o\">.</span><span class=\"n\">sin</span><span class=\"p\">((</span><span class=\"n\">lon2</span> <span class=\"o\">-</span> <span class=\"n\">lon1</span><span class=\"p\">)</span> <span class=\"o\">/</span> <span class=\"mi\">2</span><span class=\"p\">);</span>\n",
       "\n",
       "        <span class=\"n\">raiz</span> <span class=\"o\">=</span> <span class=\"p\">(</span><span class=\"n\">sinChi</span> <span class=\"o\">*</span> <span class=\"n\">sinChi</span><span class=\"p\">)</span> <span class=\"o\">+</span> <span class=\"n\">math</span><span class=\"o\">.</span><span class=\"n\">cos</span><span class=\"p\">(</span><span class=\"n\">lat1</span><span class=\"p\">)</span> <span class=\"o\">*</span> <span class=\"n\">math</span><span class=\"o\">.</span><span class=\"n\">cos</span><span class=\"p\">(</span><span class=\"n\">lat2</span><span class=\"p\">)</span> <span class=\"o\">*</span> <span class=\"p\">(</span><span class=\"n\">sinLambda</span> <span class=\"o\">*</span> <span class=\"n\">sinLambda</span><span class=\"p\">);</span>\n",
       "\n",
       "        <span class=\"k\">return</span> <span class=\"mi\">2</span> <span class=\"o\">*</span> <span class=\"n\">radioTierra</span> <span class=\"o\">*</span> <span class=\"n\">math</span><span class=\"o\">.</span><span class=\"n\">asin</span><span class=\"p\">(</span><span class=\"n\">math</span><span class=\"o\">.</span><span class=\"n\">sqrt</span><span class=\"p\">(</span><span class=\"n\">raiz</span><span class=\"p\">));</span>\n",
       "    \n",
       "    <span class=\"k\">def</span> <span class=\"nf\">distancia</span> <span class=\"p\">(</span><span class=\"bp\">self</span><span class=\"p\">,</span> <span class=\"n\">c1</span><span class=\"p\">,</span> <span class=\"n\">c2</span><span class=\"p\">):</span>        \n",
       "        <span class=\"k\">return</span> <span class=\"bp\">self</span><span class=\"o\">.</span><span class=\"n\">matriz</span> <span class=\"p\">[</span><span class=\"n\">c1</span><span class=\"p\">][</span><span class=\"n\">c2</span><span class=\"p\">]</span>\n",
       "</pre></div>\n",
       "</body>\n",
       "</html>\n"
      ],
      "text/plain": [
       "<IPython.core.display.HTML object>"
      ]
     },
     "metadata": {},
     "output_type": "display_data"
    }
   ],
   "source": [
    "psource (Localizaciones)"
   ]
  },
  {
   "cell_type": "markdown",
   "id": "87ee11d6",
   "metadata": {},
   "source": [
    "Fíjate que por defecto se carga el fichero `./data/grafo8cidades.txt`, que contiene las coordenadas GPS de 8 ciudades gallegas, siendo Santiago de Compostela la primera de ellas. La primera línea de estos ficheros indica el número de ciudades n, mientras que cada una de las líneas sucesivas especifican las coordenadas de cada ciudad, especificadas como coordenadas GPS (latitud y longitud en grados).\n",
    "\n",
    "Puedes cargar otro fichero haciendo uso del parámetro `filename` como se muestra a continuación. Si todo va bien, la primera distancia entre la ciudad 0 y 1 debe ser unos 55 km."
   ]
  },
  {
   "cell_type": "code",
   "execution_count": 9,
   "id": "12ff980c",
   "metadata": {},
   "outputs": [
    {
     "name": "stdout",
     "output_type": "stream",
     "text": [
      "55.88273580792048\n",
      "119.30959564041359\n"
     ]
    }
   ],
   "source": [
    "g1=Localizaciones(filename='./data/grafo8cidades.txt')\n",
    "print (g1.distancia(0,1))\n",
    "g2=Localizaciones(filename='./data/grafos10_10/grafo_1.txt')\n",
    "print (g2.distancia(0,1))"
   ]
  },
  {
   "cell_type": "markdown",
   "id": "61163804",
   "metadata": {},
   "source": [
    "El VC se reduce al problema de crear el circuito Hamiltoniano de longitud mínima sobre el grafo G. La solución a una instancia del problema del VC puede representarse como una permutación de los índices de las ciudades, donde lo importante es el orden de visita, que determinará el coste del viaje en términos de la distancia recorrida total. \n",
    "\n",
    "El problema pertenece a la categoría de problemas NP, ya que el espacio de búsqueda posible está formado por todas las permutaciones de las n ciudades. Esto hace que resolver instancias de problemas con muchas ciudades (n grande) haga el problema impracticable con estrategias de búsqueda no-informadas y éste pueda beneficiarse de ciertas metaheurísticas (MH), pudiendo abordar de problemas con tallas más grande a la vez que se obtienen soluciones razonablemente buenas. En esta primera práctica, te vas a centrar en implementar y estudiar la MH Enfriamiento o Temple Simulado."
   ]
  },
  {
   "cell_type": "markdown",
   "id": "045122c3",
   "metadata": {},
   "source": [
    "\n",
    "## P1.1: Implementación básica de Temple Simulado\n"
   ]
  },
  {
   "cell_type": "markdown",
   "id": "88a4e0a6",
   "metadata": {},
   "source": [
    "\n",
    "Implementa el algoritmo básico de Temple Simulado para resolver el problema del VC enunciado arriba. Para ello, revisa la descripción algorítmica de la MH vista en la clase expositiva (Véase T1, diapositiva 40 y asociadas).\n",
    "\n",
    "Ten en cuenta las siguientes consideraciones de diseño para completar la implementación básica:\n",
    "- Representación  de  las  soluciones:  representación  de  orden  (permutaciones)  comenzando y finalizando en la ciudad 0. \n",
    "\n",
    "- Solución inicial: generación aleatoria de una permutación válida.\n",
    "\n",
    "- Operador  de  selección  de  la  solución  siguiente  Scand  a  partir  de  la  actual  Sact:  operador  de  intercambio. \n",
    "\n",
    "- Velocidad de enfriamiento: se ha generado un único vecino. \n",
    "\n",
    "- Función de coste: suma de las distancias del camino según el orden del recorrido.\n",
    "\n",
    "- Mecanismo de enfriamiento: mecanismo exponencial decreciente que sigue la expressión 𝑇(𝑘)=T0·𝑒(−𝜆𝑘), donde 𝑘 es el número de iteración y T0, λ son los parámetros de diseño.\n",
    "\n",
    "    Para esta implementación básica considera, 𝑇(𝑘) = 20 · 𝑒(−0.0045𝑘), para establecer los parámetros por defecto de T0 y 𝜆, con temperatura inicial fija T0=20 y 𝜆=0.0045 respectivamente.\n",
    "\n",
    "- Condición de parada: número fijo de iteraciones (limite=1000). No se precisa definir Tfinal.\n",
    "\n",
    "Para verificar tu implementación, puedes utilizar el fichero de localizaciones de 8 ciudades gallegas (*grafo8cidades.txt*). La solución óptima resuelta con una búsqueda informada como A* se sitúa en torno a los 382km.\n",
    "\n",
    "Para comprobar que tu implementación es suficientemente general como para manejar problemas del VC diferentes tallas, puedes probar también con el fichero de localizaciones de 120 ciudades de USA proporcionado en esta práctica (*US120.txt*).\n",
    "\n",
    "**IMPORTANTE**: Es imprescindible que en tu implementación tengas funciones totalmente parametrizadas para el mecanismo de enfriamiento y la función de coste; también deberías parametrizar el algoritmo para poder recibir una solución inicial y una semilla para inicializar el generador de números aleatorios al principio de la ejecución del algoritmo de Temple Simulado. Estas recomendaciones sobre modularidad te facilitará la resolución de las cuestiones del test automático de evaluación.\n"
   ]
  },
  {
   "cell_type": "code",
   "execution_count": 10,
   "id": "a10b556f-c7d6-448c-b5d0-c8a51dec34df",
   "metadata": {},
   "outputs": [],
   "source": [
    "def N_solution(Sact):\n",
    "    Scand = Sact.copy()\n",
    "    swap_a = random.randint(1, len(Scand)-2) #posicion 1 cambiar\n",
    "    swap_b = random.randint(1, len(Scand)-2) #posicion 2 a cambiar\n",
    "    while(swap_a == swap_b): # posicion 1 != posicion 2\n",
    "        swap_b = random.randint(1, len(Scand)-2)\n",
    "    \n",
    "    #intercambio\n",
    "    bubble = Scand[swap_a]\n",
    "    Scand[swap_a] = Scand[swap_b]\n",
    "    Scand[swap_b] = bubble\n",
    "    \n",
    "    return Scand"
   ]
  },
  {
   "cell_type": "code",
   "execution_count": 11,
   "id": "622283fa-3554-4605-8247-e66326b82300",
   "metadata": {},
   "outputs": [],
   "source": [
    "def gen_initial_solution(Loc):\n",
    "    vector = [x for x in range (1,Loc.nciudades)] # Todas las posibles ciudades a añadir a initial_solution\n",
    "    random_value = random.randint(0, Loc.nciudades-2) # Primera posible ciudad \n",
    "    initial_solution = [0]; # Inicio en 0 siempre\n",
    "    \n",
    "    while(len(initial_solution) != Loc.nciudades): # Mientras no se hayan acabado las ciudades\n",
    "        \n",
    "        if(vector[random_value] != 0): # Si no se ha añadido la ciudad\n",
    "            initial_solution.append(vector[random_value])\n",
    "            vector[random_value] = 0 # Marcar como añadida la ciudad\n",
    "            \n",
    "        random_value = random.randint(0, Loc.nciudades-2)\n",
    "    \n",
    "    initial_solution.append(0) # Terminal en la misma ciudad que empezaste\n",
    "    return initial_solution "
   ]
  },
  {
   "cell_type": "code",
   "execution_count": 12,
   "id": "d6a69a9a-b466-4933-8034-c46b767e955e",
   "metadata": {},
   "outputs": [],
   "source": [
    "def cost(Sact, Loc):\n",
    "    cost=0\n",
    "    for i in range(0,len(Sact)-1):\n",
    "        cost+= Loc.distancia(Sact[i], Sact[i+1])\n",
    "    return cost;"
   ]
  },
  {
   "cell_type": "code",
   "execution_count": 13,
   "id": "3ca68e1b-441e-4c8e-b5e0-fd195748cca6",
   "metadata": {},
   "outputs": [],
   "source": [
    "def mecanismo_enfriamiento(k):\n",
    "    return 20*math.exp(-0.0045*k)"
   ]
  },
  {
   "cell_type": "code",
   "execution_count": 14,
   "id": "f3bac76c",
   "metadata": {},
   "outputs": [],
   "source": [
    "def simulated_annealing(alpha, Loc, L=1):\n",
    "    T = 20\n",
    "    Sact = gen_initial_solution(Loc)\n",
    "    k = 0\n",
    "    while(k < 1000):\n",
    "        for i in range(0,L): # Velocidad de enfriamiento, cada cuato hay q enfriar\n",
    "            Scand = N_solution(Sact)\n",
    "            subtraction = cost(Scand,Loc) - cost(Sact,Loc)\n",
    "            if ( (subtraction < 0) or (random.uniform(0,1) < math.exp(-subtraction/T))):\n",
    "                Sact=Scand\n",
    "        T= alpha(k)\n",
    "        k+=1\n",
    "    return Sact"
   ]
  },
  {
   "cell_type": "code",
   "execution_count": 15,
   "id": "82fff2d4-fbc7-409f-a4a1-1856343d6f31",
   "metadata": {},
   "outputs": [
    {
     "data": {
      "text/plain": [
       "381.6699617675482"
      ]
     },
     "execution_count": 15,
     "metadata": {},
     "output_type": "execute_result"
    }
   ],
   "source": [
    "a = Localizaciones(filename='./data/grafo8cidades.txt')\n",
    "b = simulated_annealing(mecanismo_enfriamiento,a)\n",
    "cost(b,a)"
   ]
  },
  {
   "cell_type": "markdown",
   "id": "a981c2f1",
   "metadata": {},
   "source": [
    "❓ **Pregunta 1**. Explica brevemente los detalles relevantes de tu código para entender tu implementación (p.ej., estructura de tu código, funciones, etc.)"
   ]
  },
  {
   "cell_type": "code",
   "execution_count": 16,
   "id": "77557fbb-9db9-4156-ae2c-d02f8c94cfbe",
   "metadata": {},
   "outputs": [],
   "source": [
    "def pruebas(alpha, Loc):\n",
    "    n_pruebas = 300\n",
    "    solucion = []\n",
    "    coste = float('inf')\n",
    "    for i in range(0, n_pruebas):\n",
    "        solucionCand = simulated_annealing(mecanismo_enfriamiento,Loc)\n",
    "        costeCand = cost(solucionCand,Loc)\n",
    "        if (coste < costeCand):\n",
    "            continue\n",
    "        coste = costeCand\n",
    "        solucion = solucionCand\n",
    "\n",
    "    return (coste,solucion)"
   ]
  },
  {
   "cell_type": "code",
   "execution_count": 17,
   "id": "a790089a-37c4-468f-8753-94f237c3968c",
   "metadata": {},
   "outputs": [
    {
     "name": "stdout",
     "output_type": "stream",
     "text": [
      "(75085.04834981167, [0, 69, 13, 109, 83, 2, 58, 11, 66, 27, 93, 26, 75, 62, 70, 106, 4, 35, 64, 84, 53, 16, 119, 82, 37, 89, 105, 28, 47, 49, 73, 52, 48, 104, 103, 65, 86, 92, 41, 50, 18, 59, 24, 63, 14, 113, 80, 78, 74, 36, 71, 42, 68, 91, 110, 10, 32, 90, 22, 107, 114, 81, 99, 19, 17, 23, 57, 44, 45, 30, 6, 102, 85, 116, 118, 76, 39, 98, 38, 40, 21, 55, 111, 67, 1, 88, 25, 20, 61, 115, 29, 54, 46, 97, 87, 7, 9, 117, 56, 12, 15, 72, 95, 96, 34, 60, 31, 33, 108, 112, 5, 8, 3, 94, 43, 100, 79, 101, 51, 77, 0])\n"
     ]
    }
   ],
   "source": [
    "soluciones = pruebas(mecanismo_enfriamiento,Loc=Localizaciones(filename='./data/US120.txt'))\n",
    "print(soluciones)"
   ]
  },
  {
   "cell_type": "code",
   "execution_count": 18,
   "id": "89fcd06c-6866-44d4-9359-8239c28be84e",
   "metadata": {},
   "outputs": [],
   "source": [
    "def pruebas_distribucion(alpha, Loc):\n",
    "    n_pruebas = 300\n",
    "    soluciones = {}\n",
    "    for i in range(0, n_pruebas):\n",
    "        solucionCand = simulated_annealing(mecanismo_enfriamiento,Loc)\n",
    "        costeCand = cost(solucionCand,Loc)\n",
    "        if (costeCand not in soluciones):\n",
    "            soluciones[costeCand]=1\n",
    "            continue\n",
    "        soluciones[costeCand]+=1\n",
    "    return soluciones"
   ]
  },
  {
   "cell_type": "code",
   "execution_count": 19,
   "id": "f1380a63-4a54-4e77-8fb2-44f1bd97bc2a",
   "metadata": {},
   "outputs": [
    {
     "data": {
      "image/png": "[encoded data removed]",
      "text/plain": [
       "<Figure size 640x480 with 1 Axes>"
      ]
     },
     "metadata": {},
     "output_type": "display_data"
    }
   ],
   "source": [
    "import matplotlib.pyplot as plt\n",
    "def graficar(soluciones):\n",
    "    fig, ax = plt.subplots()\n",
    "    ax.hist(soluciones)\n",
    "\n",
    "soluciones = pruebas_distribucion(mecanismo_enfriamiento,Loc=Localizaciones(filename='./data/US120.txt'))\n",
    "graficar(soluciones)"
   ]
  },
  {
   "cell_type": "markdown",
   "id": "f9c05313",
   "metadata": {},
   "source": [
    "❓ **Pregunta 2. ¿Siempre obtienes soluciones óptimas en cada problema? ¿En qué proporción? Muestra cómo has realizado la verificación y explica brevemente los resultados obtenidos.**\n",
    "\n",
    "**Notas: sé conservador en tu estrategia para verificar tu implementación, especialmente cuando empleas ficheros de datos grandes como el del problema de las ciudades USA. Si dejas ejecutando tu algoritmo por un número elevado de iteraciones, puede resultarte útil medir el tiempo que tarda para tomar decisiones sobre donde establecer el límite.**"
   ]
  },
  {
   "cell_type": "markdown",
   "id": "beb24520",
   "metadata": {},
   "source": [
    "### Ajuste dinámico de temperatura inicial"
   ]
  },
  {
   "cell_type": "markdown",
   "id": "0debc616",
   "metadata": {},
   "source": [
    "\n",
    "En tu implementación has establecido la temperatura inicial siguiendo un valor fijo completamente arbitrario. Esto puede no resultar siempre adecuado, y suele ser más conveniente disponer de un ajuste de la temperatura inicial (T0) que tenga en cuenta la instancia del problema a resolver. \n",
    "\n",
    "Modifica la implementación anterior para que puedas parametrizar el valor inicial del parámetro de control T0 utilizando la siguiente fórmula:\n",
    "\n",
    "    𝑇0 = (−𝜇/ln(𝜙))·𝐶(𝑆0), que permite aceptar (con una probabilidad 𝜙) soluciones siguientes que empeoren en μ (tanto por uno) a S0 (esto es, que sean (1+ μ) veces peores).\n",
    "\n",
    "En la fórmula, C(S0) es el coste de la solución inicial, con valores por defecto 𝜙=0.50 y 𝜇=0.01.\n"
   ]
  },
  {
   "cell_type": "code",
   "execution_count": 20,
   "id": "2529f9ae",
   "metadata": {},
   "outputs": [],
   "source": [
    "import numpy as np\n",
    "\n",
    "def T_calculate(tetha, mu, S0, Loc):\n",
    "    return (-mu/np.log(tetha)*cost(S0,Loc))\n"
   ]
  },
  {
   "cell_type": "code",
   "execution_count": 21,
   "id": "48c555a7-933c-40ab-ad4c-e88b90fd660a",
   "metadata": {},
   "outputs": [],
   "source": [
    "def N_solution(Sact):\n",
    "    Scand = Sact.copy()\n",
    "    swap_a = random.randint(1, len(Scand)-2) #posicion 1 cambiar\n",
    "    swap_b = random.randint(1, len(Scand)-2) #posicion 2 a cambiar\n",
    "    while(swap_a == swap_b): # posicion 1 != posicion 2\n",
    "        swap_b = random.randint(1, len(Scand)-2)\n",
    "    \n",
    "    #intercambio\n",
    "    bubble = Scand[swap_a]\n",
    "    Scand[swap_a] = Scand[swap_b]\n",
    "    Scand[swap_b] = bubble\n",
    "    \n",
    "    return Scand"
   ]
  },
  {
   "cell_type": "code",
   "execution_count": 22,
   "id": "004cc29c-b982-4ff4-b276-6328ebc025cd",
   "metadata": {},
   "outputs": [],
   "source": [
    "def gen_initial_solution(Loc):\n",
    "    vector = [x for x in range (1,Loc.nciudades)] # Todas las posibles ciudades a añadir a initial_solution\n",
    "    random_value = random.randint(0, Loc.nciudades-2) # Primera posible ciudad \n",
    "    initial_solution = [0]; # Inicio en 0 siempre\n",
    "    \n",
    "    while(len(initial_solution) != Loc.nciudades): # Mientras no se hayan acabado las ciudades\n",
    "        \n",
    "        if(vector[random_value] != 0): # Si no se ha añadido la ciudad\n",
    "            initial_solution.append(vector[random_value])\n",
    "            vector[random_value] = 0 # Marcar como añadida la ciudad\n",
    "            \n",
    "        random_value = random.randint(0, Loc.nciudades-2)\n",
    "    \n",
    "    initial_solution.append(0) # Terminal en la misma ciudad que empezaste\n",
    "    return initial_solution "
   ]
  },
  {
   "cell_type": "code",
   "execution_count": 23,
   "id": "7baf7036-e0fd-4223-89b9-0e0aeff49645",
   "metadata": {},
   "outputs": [],
   "source": [
    "def cost(Sact, Loc):\n",
    "    cost=0\n",
    "    for i in range(0,len(Sact)-1):\n",
    "        cost+= Loc.distancia(Sact[i], Sact[i+1])\n",
    "    return cost;"
   ]
  },
  {
   "cell_type": "code",
   "execution_count": 24,
   "id": "5fcb11f5-ee19-466f-8cd1-74da2910716d",
   "metadata": {},
   "outputs": [],
   "source": [
    "def mecanismo_enfriamiento(k):\n",
    "    return 20*math.exp(-0.0045*k)"
   ]
  },
  {
   "cell_type": "code",
   "execution_count": 25,
   "id": "0b0dcd37-e918-4539-b05e-b835220c0ac8",
   "metadata": {},
   "outputs": [],
   "source": [
    "def simulated_annealing(alpha, Loc, L=1):\n",
    "    Sact = gen_initial_solution(Loc)\n",
    "    T = T_calculate(0.5,0.01,Sact,Loc)\n",
    "    k = 0\n",
    "    while(k < 1000):\n",
    "        for i in range(0,L): # Velocidad de enfriamiento, cada cuato hay q enfriar\n",
    "            Scand = N_solution(Sact)\n",
    "            subtraction = cost(Scand,Loc) - cost(Sact,Loc)\n",
    "            if ( (subtraction < 0) or (random.uniform(0,1) < math.exp(-subtraction/T))):\n",
    "                Sact=Scand\n",
    "        T= alpha(k)\n",
    "        k+=1\n",
    "    return Sact"
   ]
  },
  {
   "cell_type": "code",
   "execution_count": 26,
   "id": "eed0ad3f-4afe-482e-8309-24252e754008",
   "metadata": {},
   "outputs": [
    {
     "data": {
      "text/plain": [
       "87686.41764063742"
      ]
     },
     "execution_count": 26,
     "metadata": {},
     "output_type": "execute_result"
    }
   ],
   "source": [
    "a = Localizaciones(filename='./data/US120.txt')\n",
    "b = simulated_annealing(mecanismo_enfriamiento,a)\n",
    "cost(b,a)"
   ]
  },
  {
   "cell_type": "code",
   "execution_count": 27,
   "id": "37c82dee-ee7d-45b7-943e-f71de2f34365",
   "metadata": {},
   "outputs": [
    {
     "name": "stdout",
     "output_type": "stream",
     "text": [
      "(74912.52918362424, [0, 39, 30, 97, 6, 76, 45, 47, 11, 52, 17, 15, 54, 5, 112, 73, 34, 98, 55, 63, 62, 58, 2, 8, 119, 7, 96, 92, 60, 118, 61, 12, 115, 67, 1, 36, 66, 65, 27, 33, 95, 44, 102, 106, 116, 29, 46, 88, 9, 26, 64, 24, 41, 74, 78, 81, 89, 82, 49, 70, 111, 16, 38, 71, 42, 4, 113, 14, 84, 18, 104, 108, 48, 57, 85, 72, 87, 20, 31, 103, 25, 117, 23, 93, 86, 43, 105, 35, 28, 3, 40, 91, 110, 37, 50, 53, 94, 83, 69, 80, 101, 109, 51, 10, 56, 19, 99, 59, 21, 75, 13, 77, 68, 32, 79, 22, 114, 100, 90, 107, 0])\n"
     ]
    }
   ],
   "source": [
    "a = Localizaciones(filename='./data/US120.txt')\n",
    "b = pruebas(mecanismo_enfriamiento,a)\n",
    "print(b)"
   ]
  },
  {
   "cell_type": "code",
   "execution_count": 28,
   "id": "34fdd2ab-4a2d-4437-adf4-86507c47f4ac",
   "metadata": {},
   "outputs": [
    {
     "data": {
      "image/png": "[encoded data removed]",
      "text/plain": [
       "<Figure size 640x480 with 1 Axes>"
      ]
     },
     "metadata": {},
     "output_type": "display_data"
    }
   ],
   "source": [
    "soluciones = pruebas_distribucion(mecanismo_enfriamiento,Loc=Localizaciones(filename='./data/US120.txt'))\n",
    "graficar(soluciones)"
   ]
  },
  {
   "cell_type": "code",
   "execution_count": 29,
   "id": "417ef129-2fd0-4943-96b0-abd624a03fd4",
   "metadata": {},
   "outputs": [
    {
     "data": {
      "text/plain": [
       "622.2887829536207"
      ]
     },
     "execution_count": 29,
     "metadata": {},
     "output_type": "execute_result"
    }
   ],
   "source": [
    "Loc = Localizaciones(filename='./data/grafo8cidades.txt')\n",
    "Sact = [0,1,2,3,4,5,6,7,0]\n",
    "SactCost = [0,7,2,4,5,1,6,0]\n",
    "cost(Sact,Loc)\n",
    "cost(SactCost,Loc)"
   ]
  },
  {
   "cell_type": "code",
   "execution_count": 30,
   "id": "edc3c7cc-c7f2-43a9-8bf3-3d0383fedc3c",
   "metadata": {},
   "outputs": [
    {
     "name": "stdout",
     "output_type": "stream",
     "text": [
      "Theta     Mu      C(S0)     T\n",
      "0.5       0.01    381.669   5.506333610983221\n",
      "0.99      0.01    381.669   37596.083121762735\n",
      "0.5       0.99    381.669   545.1270274873389\n",
      "0.5       0.01    619.172   8.977729411680173\n"
     ]
    }
   ],
   "source": [
    "print(\"Theta     Mu      C(S0)     T\")\n",
    "print(\"0.5       0.01    381.669  \", T_calculate(0.5,0.01,Sact,Loc))\n",
    "print(\"0.99      0.01    381.669  \", T_calculate(0.99,0.99,Sact,Loc))\n",
    "print(\"0.5       0.99    381.669  \", T_calculate(0.5,0.99,Sact,Loc))\n",
    "print(\"0.5       0.01    619.172  \", T_calculate(0.5,0.01,SactCost,Loc))"
   ]
  },
  {
   "cell_type": "markdown",
   "id": "df744a7f",
   "metadata": {},
   "source": [
    "❓ **Pregunta 3.1**. Confecciona una tabla que muestre la relación de 𝐶(𝑆0), 𝜙 y 𝜇 con T0 para los dos problemas utilizados anteriormente (ciudades gallegas y ciudades USA). Entonces, amplia de manera razonada la tabla con variaciones de 𝜙 y 𝜇 para cada uno de los problemas. ¿Qué combinación de 𝜙 y 𝜇 da mayor/menor T0?\n",
    "\n",
    "❓ **Pregunta 3.2**. Escoge 4 combinaciones variadas de parámetros (incluidos los que regulan el mecanismo de enfriamiento, e.g., 𝜆). Ejecuta el algoritmo de Temple Simulado con esas combinaciones. Guarda los resultados en una celda, y discute los resultados obtenidos en cuanto a la calidad de las soluciones obtenidas."
   ]
  },
  {
   "cell_type": "markdown",
   "id": "ac8d9805",
   "metadata": {},
   "source": [
    " \n",
    "## P1.2: Mejoras del algoritmo de Temple Simulado\n",
    "\n",
    "En esta sección el objetivo es realizar mejoras al algoritmo desarrollado previamente, de acuerdo con lo visto en las clases expositivas. Podrá modificarse cualquiera de los siguientes parámetros u operadores:\n",
    "- El valor inicial del parámetro de control (T0).\n",
    "- El mecanismo de enfriamiento.\n",
    "- La velocidad de enfriamiento.\n",
    "- El mecanismo de selección de las soluciones candidatas\n",
    "- El criterio de parada\n",
    "\n",
    "**Importante**: Debes mantener una implementación de la versión básica que pueda ser ejecutada en la evaluación. Así que se recomienda que la implementación del algoritmo con las mejoras sea implementada en otra función reservada para la versión mejorada. "
   ]
  },
  {
   "cell_type": "code",
   "execution_count": 38,
   "id": "65083e05-df97-4e49-bdd4-4617b722b9a4",
   "metadata": {},
   "outputs": [],
   "source": [
    "import matplotlib.pyplot as plt\n",
    "#Obtiene el coste de la mejor solución de una muestra de n_pruebas\n",
    "def pruebas(alpha, Loc):\n",
    "    n_pruebas = 300\n",
    "    solucion = []\n",
    "    coste = float('inf')\n",
    "    for i in range(0, n_pruebas):\n",
    "        solucionCand = simulated_annealing(mecanismo_enfriamiento,Loc)\n",
    "        costeCand = cost(solucionCand,Loc)\n",
    "        if (coste < costeCand):\n",
    "            continue\n",
    "        coste = costeCand\n",
    "        solucion = solucionCand\n",
    "\n",
    "    return (coste,solucion)\n",
    "\n",
    "#Obtiene todos los costes de una muestra de n_pruebas\n",
    "def pruebas_distribucion(alpha, Loc):\n",
    "    n_pruebas = 300\n",
    "    soluciones = {}\n",
    "    for i in range(0, n_pruebas):\n",
    "        solucionCand = simulated_annealing(mecanismo_enfriamiento,Loc)\n",
    "        costeCand = cost(solucionCand,Loc)\n",
    "        if (costeCand not in soluciones):\n",
    "            soluciones[costeCand]=1\n",
    "            continue\n",
    "        soluciones[costeCand]+=1\n",
    "    return soluciones\n",
    "\n",
    "#Genera un histograma de frecuencias, al pasarle un diccionario {costes, n_apariciones_coste}\n",
    "def graficar(soluciones):\n",
    "    fig, ax = plt.subplots()\n",
    "    ax.hist(soluciones)\n",
    "    "
   ]
  },
  {
   "cell_type": "markdown",
   "id": "4cd08d2e-dde0-4641-a374-8629c7fd3951",
   "metadata": {},
   "source": [
    "### Temple simulado P1.1"
   ]
  },
  {
   "cell_type": "code",
   "execution_count": 20,
   "id": "74e166b7-1936-48d8-8829-b82db18ef052",
   "metadata": {},
   "outputs": [],
   "source": [
    "#Temple simulado P1.1\n",
    "import numpy as np\n",
    "\n",
    "def T_calculate(tetha, mu, S0, Loc):\n",
    "    return (-mu/np.log(tetha)*cost(S0,Loc))\n"
   ]
  },
  {
   "cell_type": "code",
   "execution_count": 21,
   "id": "ac82ce56-098d-449c-8444-b5c813b4584a",
   "metadata": {},
   "outputs": [],
   "source": [
    "def N_solution(Sact):\n",
    "    Scand = Sact.copy()\n",
    "    swap_a = random.randint(1, len(Scand)-2) #posicion 1 cambiar\n",
    "    swap_b = random.randint(1, len(Scand)-2) #posicion 2 a cambiar\n",
    "    while(swap_a == swap_b): # posicion 1 != posicion 2\n",
    "        swap_b = random.randint(1, len(Scand)-2)\n",
    "    \n",
    "    #intercambio\n",
    "    bubble = Scand[swap_a]\n",
    "    Scand[swap_a] = Scand[swap_b]\n",
    "    Scand[swap_b] = bubble\n",
    "    \n",
    "    return Scand"
   ]
  },
  {
   "cell_type": "code",
   "execution_count": 22,
   "id": "009e11a7-f140-46d9-ba4a-98f7a311a13a",
   "metadata": {},
   "outputs": [],
   "source": [
    "def gen_initial_solution(Loc):\n",
    "    vector = [x for x in range (1,Loc.nciudades)] # Todas las posibles ciudades a añadir a initial_solution\n",
    "    random_value = random.randint(0, Loc.nciudades-2) # Primera posible ciudad \n",
    "    initial_solution = [0]; # Inicio en 0 siempre\n",
    "    \n",
    "    while(len(initial_solution) != Loc.nciudades): # Mientras no se hayan acabado las ciudades\n",
    "        \n",
    "        if(vector[random_value] != 0): # Si no se ha añadido la ciudad\n",
    "            initial_solution.append(vector[random_value])\n",
    "            vector[random_value] = 0 # Marcar como añadida la ciudad\n",
    "            \n",
    "        random_value = random.randint(0, Loc.nciudades-2)\n",
    "    \n",
    "    initial_solution.append(0) # Terminal en la misma ciudad que empezaste\n",
    "    return initial_solution "
   ]
  },
  {
   "cell_type": "code",
   "execution_count": 23,
   "id": "15de452f-7d05-4a90-a727-a2c42657d1e1",
   "metadata": {},
   "outputs": [],
   "source": [
    "def cost(Sact, Loc):\n",
    "    cost=0\n",
    "    for i in range(0,len(Sact)-1):\n",
    "        cost+= Loc.distancia(Sact[i], Sact[i+1])\n",
    "    return cost;"
   ]
  },
  {
   "cell_type": "code",
   "execution_count": 24,
   "id": "a2958f9a-5480-40d0-ae13-36e6050fe55f",
   "metadata": {},
   "outputs": [],
   "source": [
    "def mecanismo_enfriamiento(k):\n",
    "    return 20*math.exp(-0.0045*k)"
   ]
  },
  {
   "cell_type": "code",
   "execution_count": 25,
   "id": "e08b1673-aff5-4759-963c-52286e454386",
   "metadata": {},
   "outputs": [],
   "source": [
    "def simulated_annealing(alpha, Loc, L=1):\n",
    "    Sact = gen_initial_solution(Loc)\n",
    "    T0 = T_calculate(0.5,0.01,Sact,Loc)\n",
    "    T= T0\n",
    "    k = 0\n",
    "    while(k < 1000):\n",
    "        for i in range(0,L): # Velocidad de enfriamiento, cada cuato hay q enfriar\n",
    "            Scand = N_solution(Sact)\n",
    "            subtraction = cost(Scand,Loc) - cost(Sact,Loc)\n",
    "            if ( (subtraction < 0) or (random.uniform(0,1) < math.exp(-subtraction/T))):\n",
    "                Sact=Scand\n",
    "        T= alpha(k)\n",
    "        k+=1\n",
    "    return Sact"
   ]
  },
  {
   "cell_type": "code",
   "execution_count": 158,
   "id": "89aff9d8-2284-4654-81b7-7cab32c75f6b",
   "metadata": {},
   "outputs": [
    {
     "data": {
      "image/png": "[encoded data removed]",
      "text/plain": [
       "<Figure size 640x480 with 1 Axes>"
      ]
     },
     "metadata": {},
     "output_type": "display_data"
    }
   ],
   "source": [
    "soluciones = pruebas_distribucion(mecanismo_enfriamiento,Loc=Localizaciones(filename='./data/US120.txt'))\n",
    "graficar(soluciones)"
   ]
  },
  {
   "cell_type": "markdown",
   "id": "94cae54e-38fb-4ba9-b89c-9b01906981c1",
   "metadata": {},
   "source": [
    "### Temple simulado P1.2.1"
   ]
  },
  {
   "cell_type": "code",
   "execution_count": 28,
   "id": "7667d5a6-755f-4456-aff8-ee8f25b4cce8",
   "metadata": {},
   "outputs": [],
   "source": [
    "import numpy as np\n",
    "\n",
    "def mecanismo_enfriamiento(T0,k):\n",
    "    return (T0/(1+k))"
   ]
  },
  {
   "cell_type": "code",
   "execution_count": 14,
   "id": "386bc40a-346c-4b4c-b271-6950d910585d",
   "metadata": {},
   "outputs": [],
   "source": [
    "def simulated_annealing(alpha, Loc, L=1):\n",
    "    Sact = gen_initial_solution(Loc)\n",
    "    T0 = T_calculate(0.5,0.01,Sact,Loc)\n",
    "    T = T0\n",
    "    k = 0\n",
    "    while(k < 1000):\n",
    "        for i in range(0,L): # Velocidad de enfriamiento, cada cuato hay q enfriar\n",
    "            Scand = N_solution(Sact)\n",
    "            subtraction = cost(Scand,Loc) - cost(Sact,Loc)\n",
    "            if ( (subtraction < 0) or (random.uniform(0,1) < math.exp(-subtraction/T))):\n",
    "                Sact=Scand\n",
    "        T= alpha(T0,k)\n",
    "        k+=1\n",
    "    return Sact"
   ]
  },
  {
   "cell_type": "code",
   "execution_count": 139,
   "id": "3aacbd2a-0709-4542-8619-25a1a4939214",
   "metadata": {
    "scrolled": true
   },
   "outputs": [
    {
     "data": {
      "image/png": "[encoded data removed]",
      "text/plain": [
       "<Figure size 640x480 with 1 Axes>"
      ]
     },
     "metadata": {},
     "output_type": "display_data"
    }
   ],
   "source": [
    "soluciones = pruebas_distribucion(mecanismo_enfriamiento,Loc=Localizaciones(filename='./data/US120.txt'))\n",
    "graficar(soluciones)"
   ]
  },
  {
   "cell_type": "markdown",
   "id": "0e2ad1b8-adfb-403e-ab7e-6e4662960b71",
   "metadata": {},
   "source": [
    "### Temple simulado P1.2.2"
   ]
  },
  {
   "cell_type": "code",
   "execution_count": 41,
   "id": "84823357-18d9-4036-834a-508580289838",
   "metadata": {},
   "outputs": [],
   "source": [
    "def simulated_annealing(alpha, Loc, L=4):\n",
    "    Sact = gen_initial_solution(Loc)\n",
    "    T0 = T_calculate(0.5,0.01,Sact,Loc)\n",
    "    T = T0\n",
    "    k = 0\n",
    "    while(k < 1000):\n",
    "        for i in range(0,L): # Velocidad de enfriamiento, cada cuato hay q enfriar\n",
    "            Scand = N_solution(Sact)\n",
    "            subtraction = cost(Scand,Loc) - cost(Sact,Loc)\n",
    "            if ( (subtraction < 0) or (random.uniform(0,1) < math.exp(-subtraction/T))):\n",
    "                Sact=Scand\n",
    "        T= alpha(T0,k)\n",
    "        k+=1\n",
    "    return Sact"
   ]
  },
  {
   "cell_type": "code",
   "execution_count": 42,
   "id": "f92c4c5c-1d13-4cfd-a7bd-ed63b5e87632",
   "metadata": {},
   "outputs": [
    {
     "data": {
      "image/png": "[encoded data removed]",
      "text/plain": [
       "<Figure size 640x480 with 1 Axes>"
      ]
     },
     "metadata": {},
     "output_type": "display_data"
    }
   ],
   "source": [
    "soluciones = pruebas_distribucion(mecanismo_enfriamiento,Loc=Localizaciones(filename='./data/US120.txt'))\n",
    "graficar(soluciones)"
   ]
  },
  {
   "cell_type": "code",
   "execution_count": 43,
   "id": "ad2b86ce-bd6a-448e-9fe6-903a52e99af4",
   "metadata": {},
   "outputs": [],
   "source": [
    "def simulated_annealing(alpha, Loc, L=6):\n",
    "    Sact = gen_initial_solution(Loc)\n",
    "    T0 = T_calculate(0.5,0.01,Sact,Loc)\n",
    "    T = T0\n",
    "    k = 0\n",
    "    while(k < 1000):\n",
    "        for i in range(0,L): # Velocidad de enfriamiento, cada cuato hay q enfriar\n",
    "            Scand = N_solution(Sact)\n",
    "            subtraction = cost(Scand,Loc) - cost(Sact,Loc)\n",
    "            if ( (subtraction < 0) or (random.uniform(0,1) < math.exp(-subtraction/T))):\n",
    "                Sact=Scand\n",
    "        T= alpha(T0,k)\n",
    "        k+=1\n",
    "    return Sact"
   ]
  },
  {
   "cell_type": "code",
   "execution_count": 44,
   "id": "31ae9a1a-a307-4960-a8cb-3902e2d28cf7",
   "metadata": {},
   "outputs": [
    {
     "data": {
      "image/png": "[encoded data removed]",
      "text/plain": [
       "<Figure size 640x480 with 1 Axes>"
      ]
     },
     "metadata": {},
     "output_type": "display_data"
    }
   ],
   "source": [
    "soluciones = pruebas_distribucion(mecanismo_enfriamiento,Loc=Localizaciones(filename='./data/US120.txt'))\n",
    "graficar(soluciones)"
   ]
  },
  {
   "cell_type": "code",
   "execution_count": 62,
   "id": "620b1b06-4565-4c96-9d26-123f4d1d0f71",
   "metadata": {},
   "outputs": [],
   "source": [
    "def simulated_annealing(alpha, Loc, L=8):\n",
    "    Sact = gen_initial_solution(Loc)\n",
    "    T0 = T_calculate(0.5,0.01,Sact,Loc)\n",
    "    T = T0\n",
    "    k = 0\n",
    "    while(k < 1000):\n",
    "        for i in range(0,L): # Velocidad de enfriamiento, cada cuato hay q enfriar\n",
    "            Scand = N_solution(Sact)\n",
    "            subtraction = cost(Scand,Loc) - cost(Sact,Loc)\n",
    "            if ( (subtraction < 0) or (random.uniform(0,1) < math.exp(-subtraction/T))):\n",
    "                Sact=Scand\n",
    "        T= alpha(T0,k)\n",
    "        k+=1\n",
    "    return Sact"
   ]
  },
  {
   "cell_type": "code",
   "execution_count": 46,
   "id": "30b07c16-ca7f-408f-aeb2-3e689404ab65",
   "metadata": {},
   "outputs": [
    {
     "data": {
      "image/png": "[encoded data removed]",
      "text/plain": [
       "<Figure size 640x480 with 1 Axes>"
      ]
     },
     "metadata": {},
     "output_type": "display_data"
    }
   ],
   "source": [
    "soluciones = pruebas_distribucion(mecanismo_enfriamiento,Loc=Localizaciones(filename='./data/US120.txt'))\n",
    "graficar(soluciones)"
   ]
  },
  {
   "cell_type": "markdown",
   "id": "972780e6-ed2e-4854-93d2-c3ecabd13999",
   "metadata": {},
   "source": [
    "### Temple simulado P1.2.3"
   ]
  },
  {
   "cell_type": "code",
   "execution_count": 16,
   "id": "2fc3ef74-1a97-42ec-85c2-d32681054406",
   "metadata": {},
   "outputs": [],
   "source": [
    "def simulated_annealing(alpha, Loc, L=4):\n",
    "    Sact = gen_initial_solution(Loc)\n",
    "    T0 = T_calculate(0.5,0.01,Sact,Loc)\n",
    "    T = T0\n",
    "    k = 0\n",
    "    while(k < 1000 or math.trunc(T) > 0):\n",
    "        for i in range(0,L): # Velocidad de enfriamiento, cada cuato hay q enfriar\n",
    "            Scand = N_solution(Sact)\n",
    "            subtraction = cost(Scand,Loc) - cost(Sact,Loc)\n",
    "            if ( (subtraction < 0) or (random.uniform(0,1) < math.exp(-subtraction/T))):\n",
    "                Sact=Scand\n",
    "        T= alpha(T0,k)\n",
    "        k+=1\n",
    "    return Sact"
   ]
  },
  {
   "cell_type": "code",
   "execution_count": 69,
   "id": "17cd9f9f-af25-4db8-b3c0-0fcd86920b0d",
   "metadata": {},
   "outputs": [
    {
     "data": {
      "image/png": "[encoded data removed]",
      "text/plain": [
       "<Figure size 640x480 with 1 Axes>"
      ]
     },
     "metadata": {},
     "output_type": "display_data"
    }
   ],
   "source": [
    "soluciones = pruebas_distribucion(mecanismo_enfriamiento,Loc=Localizaciones(filename='./data/US120.txt'))\n",
    "graficar(soluciones)"
   ]
  },
  {
   "cell_type": "code",
   "execution_count": 78,
   "id": "5d6616a1-3fd4-4739-a2dd-fe95d8a1972c",
   "metadata": {},
   "outputs": [],
   "source": [
    "def simulated_annealing(alpha, Loc, L=6):\n",
    "    Sact = gen_initial_solution(Loc)\n",
    "    T0 = T_calculate(0.5,0.01,Sact,Loc)\n",
    "    T = T0\n",
    "    k = 0\n",
    "    while(k < 1000 or math.trunc(T) > 0):\n",
    "        for i in range(0,L): # Velocidad de enfriamiento, cada cuato hay q enfriar\n",
    "            Scand = N_solution(Sact)\n",
    "            subtraction = cost(Scand,Loc) - cost(Sact,Loc)\n",
    "            if ( (subtraction < 0) or (random.uniform(0,1) < math.exp(-subtraction/T))):\n",
    "                Sact=Scand\n",
    "        T= alpha(T0,k)\n",
    "        k+=1\n",
    "    return Sact"
   ]
  },
  {
   "cell_type": "code",
   "execution_count": 79,
   "id": "5d6bfdf0-012a-4f40-89e6-9f23d7dc4eab",
   "metadata": {},
   "outputs": [
    {
     "data": {
      "image/png": "[encoded data removed]",
      "text/plain": [
       "<Figure size 640x480 with 1 Axes>"
      ]
     },
     "metadata": {},
     "output_type": "display_data"
    }
   ],
   "source": [
    "soluciones = pruebas_distribucion(mecanismo_enfriamiento,Loc=Localizaciones(filename='./data/US120.txt'))\n",
    "graficar(soluciones)"
   ]
  },
  {
   "cell_type": "code",
   "execution_count": 82,
   "id": "d489e5ce-5665-4c56-9854-7de42c2083fb",
   "metadata": {},
   "outputs": [],
   "source": [
    "def simulated_annealing(alpha, Loc, L=8):\n",
    "    Sact = gen_initial_solution(Loc)\n",
    "    T0 = T_calculate(0.5,0.01,Sact,Loc)\n",
    "    T = T0\n",
    "    k = 0\n",
    "    while(k < 1000 or math.trunc(T) > 0):\n",
    "        for i in range(0,L): # Velocidad de enfriamiento, cada cuato hay q enfriar\n",
    "            Scand = N_solution(Sact)\n",
    "            subtraction = cost(Scand,Loc) - cost(Sact,Loc)\n",
    "            if ( (subtraction < 0) or (random.uniform(0,1) < math.exp(-subtraction/T))):\n",
    "                Sact=Scand\n",
    "        T= alpha(T0,k)\n",
    "        k+=1\n",
    "    return Sact"
   ]
  },
  {
   "cell_type": "code",
   "execution_count": 83,
   "id": "c38b25b9-ead9-477b-876a-261cbc896b04",
   "metadata": {},
   "outputs": [
    {
     "data": {
      "image/png": "[encoded data removed]",
      "text/plain": [
       "<Figure size 640x480 with 1 Axes>"
      ]
     },
     "metadata": {},
     "output_type": "display_data"
    }
   ],
   "source": [
    "soluciones = pruebas_distribucion(mecanismo_enfriamiento,Loc=Localizaciones(filename='./data/US120.txt'))\n",
    "graficar(soluciones)"
   ]
  },
  {
   "cell_type": "code",
   "execution_count": 26,
   "id": "36f28e6a-d963-4e70-9f95-22d20bb6550e",
   "metadata": {},
   "outputs": [],
   "source": [
    "def simulated_annealing(alpha, Loc, L=12):\n",
    "    Sact = gen_initial_solution(Loc)\n",
    "    T0 = T_calculate(0.5,0.01,Sact,Loc)\n",
    "    T = T0\n",
    "    k = 0\n",
    "    while(k < 1000 or math.trunc(T) > 0):\n",
    "        for i in range(0,L): # Velocidad de enfriamiento, cada cuato hay q enfriar\n",
    "            Scand = N_solution(Sact)\n",
    "            subtraction = cost(Scand,Loc) - cost(Sact,Loc)\n",
    "            if ( (subtraction < 0) or (random.uniform(0,1) < math.exp(-subtraction/T))):\n",
    "                Sact=Scand\n",
    "        T= alpha(T0,k)\n",
    "        k+=1\n",
    "    return Sact"
   ]
  },
  {
   "cell_type": "code",
   "execution_count": 34,
   "id": "ad1a87f7-aec1-40dc-9d7c-8cd804ce923c",
   "metadata": {},
   "outputs": [
    {
     "data": {
      "image/png": "[encoded data removed]",
      "text/plain": [
       "<Figure size 640x480 with 1 Axes>"
      ]
     },
     "metadata": {},
     "output_type": "display_data"
    }
   ],
   "source": [
    "soluciones = pruebas_distribucion(mecanismo_enfriamiento,Loc=Localizaciones(filename='./data/US120.txt'))\n",
    "graficar(soluciones)"
   ]
  },
  {
   "cell_type": "code",
   "execution_count": 45,
   "id": "7fcf5409-a8fe-401a-a71f-dcb187b6c778",
   "metadata": {},
   "outputs": [
    {
     "name": "stdout",
     "output_type": "stream",
     "text": [
      "1.7735247611999512\n",
      "47073.86853357832\n"
     ]
    }
   ],
   "source": [
    " inicio = time.time() \n",
    "a = simulated_annealing(mecanismo_enfriamiento,Loc=Localizaciones(filename='./data/US120.txt'))\n",
    "time.sleep(1)\n",
    "delta_time = time.time() - inicio\n",
    "print(delta_time)\n",
    "print(cost(a,Loc=Localizaciones(filename='./data/US120.txt')))"
   ]
  },
  {
   "cell_type": "code",
   "execution_count": null,
   "id": "a0227100-fdda-47a3-87be-c3fc6dcf9021",
   "metadata": {},
   "outputs": [],
   "source": []
  },
  {
   "cell_type": "markdown",
   "id": "0c0ccfd8",
   "metadata": {},
   "source": [
    "❓ **Pregunta 4. Implementa un laboratorio para evaluar el impacto de las mejoras consideradas. ¿Qué intervenciones de mejora te ha llevado a mejores resultados? ¿Cuáles no parecen haber funcionado tan bien como esperabas y por qué?  Explica brevemente las mejoras o intervenciones de mejora realizadas, cómo la has implementado, porqué las consideras buenas o no para el problema y presenta tus conclusiones acompañadas de los resultados obtenidos.**\n",
    "\n",
    "**Importante**: Aunque puedes obtener tantas celdas de ejecución de laboratorio y resultados como necesites, tu informe final en respuestas a la pregunta 4 no debería superar las 1200 palabras.\n"
   ]
  },
  {
   "cell_type": "markdown",
   "id": "82f11936",
   "metadata": {},
   "source": [
    "\n",
    "#### Respuestas a los ejercicios (10 puntos)\n",
    "\n",
    "Recordatorio: No olvides escribir tu nombre y apellidos en la segunda celda de este documento.\n",
    "Las respuestas a las preguntas deben venir acompañadas de las implementaciones necesarias para su respuesta, organizadas en celdas de tal forma que sea un documento fácil de leer y seguir.\n",
    "\n",
    "*P1.1: Implementación básica* (5 puntos)\n",
    "\n",
    "<ins>La implementación básica se evaluará mediante un cuestionario automático de evaluación. </ins> Este lo realizarás en la primera sesión de la próxima práctica, y se centrará en la resolución por tu parte de diversas cuestiones prácticas relacionadas con la implementación realizada, pudiendo ser necesaria la ejecución, adaptación y modificación de la misma. \n",
    "\n",
    "Aclaración: Independientemente del cuestionario automático de evaluación, siempre considera que las preguntas planteadas en el notebook deben ser respondidas también. Esas preguntas generales están diseñadas para formarte, y te servián para razonar y reflexionar sobre el tema, así como también para fomentar una discusión constructiva con los docentes en caso de dudas.\n",
    "\n",
    "*P1.2: Implementación mejoras* (5 puntos)\n",
    "\n",
    "Pregunta 4 (MAX. 1200 palabras)\n",
    "\n",
    "La evaluación de esta parte se llevará a cabo en términos de la completitud y correctitud del laboratorio implementado, y la calidad del propio informe, que debe ser conciso y preciso, pudiendo acompañarse de gráficas y tablas que faciliten y fundamenten la explicación e argumentación. Es muy importante explicar de manera clara, precisa y fundamentada. Se valorará más positivamente las intervenciones de mejora que tengan mayor dificultad de implementación que las triviales. Se reservará hasta un punto que se asignará en términos de la calidad de la mejor solución obtenida entre el conjunto de las prácticas entregadas (es por ello que no debes olvidar marcar en tu informe muy claramente cuál ha sido tu mejor solución y con qué configuración/versión). "
   ]
  },
  {
   "cell_type": "markdown",
   "id": "f5e73e27-b7ad-465a-83e5-c794690eecd7",
   "metadata": {},
   "source": [
    "❓ **Pregunta 1. Explica brevemente los detalles relevantes de tu código para entender tu implementación (p.ej., estructura de tu código, funciones, etc.)**\n",
    "\n",
    "Para resolver el problema del Viajante Comercio a través del algoritmo Temple Simulado se ha realizado la siguiente implementación.Donde se solicitan los siguientes parámetros: una temperatura inicial, una función que defina un mecanismo de enfriamiento, una velocidad de enfriamiento y un conjunto de localicaciones sobre los que se ejecutará el algoritmo.\n",
    "\n",
    "``` python\n",
    "def simulated_annealing(T0, alpha, L=1, Loc=Localizaciones(filename='./data/grafo8cidades.txt')):\n",
    "    T = T0\n",
    "    Sact = gen_initial_solution(Loc)\n",
    "    k = 0\n",
    "    while(k < 1000):\n",
    "        for i in range(0,L): # Velocidad de enfriamiento, cada cuato hay q enfriar\n",
    "            Scand = N_solution(Sact)\n",
    "            subtraction = cost(Scand,Loc) - cost(Sact,Loc)\n",
    "            if ( (random.uniform(0,1) < math.exp(-subtraction/T)) or (subtraction < 0)):\n",
    "                Sact=Scand\n",
    "        T= alpha(k)\n",
    "        k+=1\n",
    "    return Sact\n",
    "```\n",
    "El algoritmo al comenzar, deberá inicializar una posible solución que comience y termine en la ciudad inicial, 0. Para así ejecutar k veces el mecanismo de enfriamiento, alpha(), con una velocidad de enfriamiento, L, y se variará la solución actual en función a una condición, que se explicará más adelante.\n",
    "\n",
    "Para inicializar la primera solución actual, se utiliza la función gen_initial_solution(Loc), que genera un vector con la ciudad 0, en la primera y última posición del vector y el resto del vector se rellena con el resto de las ciudades sin repetirse y con un orden aleatorio.\n",
    "\n",
    "``` python\n",
    "def gen_initial_solution(Loc):\n",
    "    vector = [x for x in range (1,Loc.nciudades)] # Todas las posibles ciudades a añadir a initial_solution\n",
    "    random_value = random.randint(0, Loc.nciudades-2) # Primera posible ciudad \n",
    "    initial_solution = [0]; # Inicio en 0 siempre\n",
    "    \n",
    "    while(len(initial_solution) != Loc.nciudades): # Mientras no se hayan acabado las ciudades\n",
    "        \n",
    "        if(vector[random_value] != 0): # Si no se ha añadido la ciudad\n",
    "            initial_solution.append(vector[random_value])\n",
    "            vector[random_value] = 0 # Marcar como añadida la ciudad\n",
    "            \n",
    "        random_value = random.randint(0, Loc.nciudades-2)\n",
    "    \n",
    "    initial_solution.append(0) # Terminal en la misma ciudad que empezaste\n",
    "    return initial_solution \n",
    "```\n",
    "\n",
    "Al comenzar la ejecución del algoritmo, se calcula la solución candidata con respecto a la solución actual, N_solution(Sact). Esta función utiliza el operador de intercambio y genera la solución candidata a través de intercambiar dos posiciones, que no sean la primera ni la última. \n",
    "\n",
    "``` python\n",
    "def N_solution(Sact):\n",
    "    Scand = Sact.copy()\n",
    "    swap_a = random.randint(1, len(Scand)-2) #posicion 1 cambiar\n",
    "    swap_b = random.randint(1, len(Scand)-2) #posicion 2 a cambiar\n",
    "    while(swap_a == swap_b): # posicion 1 != posicion 2\n",
    "        swap_b = random.randint(1, len(Scand)-2)\n",
    "    \n",
    "    #intercambio\n",
    "    bubble = Scand[swap_a]\n",
    "    Scand[swap_a] = Scand[swap_b]\n",
    "    Scand[swap_b] = bubble\n",
    "    \n",
    "    return Scand\n",
    "```\n",
    "\n",
    "Posteriormente se evalua el coste de la solución candidata con respecto a la solución actual y esta se toma como nueva solución actual si el coste de la solución actual es mayor que el coste de la solución candidata o si el calculo de e^(-(costeSolucionActual-costeSolucionCandidata)/T) es mayor que un número random que sigue la distribución normal(0,1). Cada ejecución del algortimo implica, ejecutar L(velocidad de enfiramiento) veces el mecanismo de enfriamiento que es el encargado de disminuir la temperatura, T. Cuanto mayor sea la velocidad de enfriamiento, más veces se ejecutará el mecanismo de enfriamiento y antes disminuirá la temperatura que repercutirá en la probailidad de aceptar o no la condición de aceptar la solución candidata. Además se puede detener el algoritmo por las k iteracciones o si se pone un valor mínimo para la temperatura, pero en este caso solo se tendrán en cuenta las iteracciones.\n",
    "\n",
    "Para calcular el coste de una solución se suma la distancia desde la ciudad inicial, hasta volver a la ciudad final que en un ciclo hamiltoniano es la misma que la inicial.\n",
    "``` python\n",
    "def cost(Sact, Loc):\n",
    "    cost=0\n",
    "    for i in range(0,len(Sact)-1):\n",
    "        cost+= Loc.distancia(Sact[i], Sact[i+1])\n",
    "    return cost;\n",
    "```\n",
    "Para el mecanismo de enfriamiento, que se encarga de disminuir la termperatura, se utiliza la siguiente formula 𝑇(𝑘)=T0·𝑒^(−𝜆𝑘), donde 𝜆=0.0045 y T0=20.\n",
    "``` python\n",
    "def mecanismo_enfriamiento(k):\n",
    "    return 20*math.exp(-0.0045*k)\n",
    "```"
   ]
  },
  {
   "cell_type": "markdown",
   "id": "59b0222a-a886-43e3-bf9b-f30becdb9c6b",
   "metadata": {},
   "source": [
    "❓ **Pregunta 2. ¿Siempre obtienes soluciones óptimas en cada problema? ¿En qué proporción? Muestra cómo has realizado la verificación y explica brevemente los resultados obtenidos.**\n",
    "\n",
    "**Notas: sé conservador en tu estrategia para verificar tu implementación, especialmente cuando empleas ficheros de datos grandes como el del problema de las ciudades USA. Si dejas ejecutando tu algoritmo por un número elevado de iteraciones, puede resultarte útil medir el tiempo que tarda para tomar decisiones sobre donde establecer el límite.**\n",
    "\n",
    "Para analizar el funcinamiento del algoritmo se han diseñado dos algoritmos:\n",
    "\n",
    "``` python\n",
    "def pruebas(T0, alpha, Loc):\n",
    "    n_pruebas = 300\n",
    "    solucion = []\n",
    "    coste = float('inf')\n",
    "    for i in range(0, n_pruebas):\n",
    "        solucionCand = simulated_annealing(T0,mecanismo_enfriamiento,Loc)\n",
    "        costeCand = cost(solucionCand,Loc)\n",
    "        if (coste < costeCand):\n",
    "            continue\n",
    "        coste = costeCand\n",
    "        solucion = solucionCand\n",
    "\n",
    "    return (coste,solucion)\n",
    "```\n",
    "Este ejecuta n_pruebas veces el algoritmo Temple Simulado y se queda con la solución con menor coste de todas las n_pruebas. Ejecutando varias veces dicho algoritmo, se aprecia que en cada ejecución se obtiene una solución diferente, por lo que no siempre devuelve la óptima. Tras esta primera conclusión se procede a generar un nuevo algoritmo devuelva todas las distintas soluciones y su coste para graficarlos en un histograma de frecuencias. El algoritmo es el siguiente:\n",
    "\n",
    "``` python\n",
    "def pruebas_distribucion(T0, alpha, Loc):\n",
    "    n_pruebas = 300\n",
    "    soluciones = {}\n",
    "    for i in range(0, n_pruebas):\n",
    "        solucionCand = simulated_annealing(T0,mecanismo_enfriamiento,Loc)\n",
    "        costeCand = cost(solucionCand,Loc)\n",
    "        if (costeCand not in soluciones):\n",
    "            soluciones[costeCand]=1\n",
    "            continue\n",
    "        soluciones[costeCand]+=1\n",
    "    return soluciones\n",
    "```\n",
    "Devuelve un diccionario con key el coste de la solución y value el número de apariciones de ese coste. Para graficar dichas soluciones se ha generado la siguiente función:\n",
    "``` python\n",
    "import matplotlib.pyplot as plt\n",
    "def graficar(soluciones):\n",
    "    fig, ax = plt.subplots()\n",
    "    ax.hist(soluciones)\n",
    "```\n",
    "Para posteriormente utilizar todo de esta manera:\n",
    "\n",
    "``` python\n",
    "soluciones = pruebas_distribucion(20,mecanismo_enfriamiento,Loc=Localizaciones(filename='./data/US120.txt'))\n",
    "graficar(soluciones)\n",
    "```\n"
   ]
  },
  {
   "cell_type": "markdown",
   "id": "9a888224-7c4e-41ac-9dc9-cb7ab6de28b8",
   "metadata": {},
   "source": [
    "❓ **Pregunta 3.1. Confecciona una tabla que muestre la relación de 𝐶(𝑆0), 𝜙 y 𝜇 con T0 para los dos problemas utilizados anteriormente (ciudades gallegas y ciudades USA). Entonces, amplia de manera razonada la tabla con variaciones de 𝜙 y 𝜇 para cada uno de los problemas. ¿Qué combinación de 𝜙 y 𝜇 da mayor/menor T0?**\n",
    "\n",
    "Teniendo en cuenta esta ecuación para el calculo de la temoeratura 𝑇0 = (−𝜇/ln(𝜙))·𝐶(𝑆0), se puede hacer un estudio previo de como va afectar la variación de thetha, mu y el coste de la solución inicial:\n",
    "\n",
    "-> El coste de la S0 afectará directamente proporcional al valor de T0, por lo tanto cuanto mayor sea el coste, mayor será T0 y cuanto menor sea el coste de S0, menor será el valor de T0.\n",
    "\n",
    "-> El valor de mu, al estar en el numerador, cuanto mayor sea este, mayor será el resultado de la fracción y en consecuencia el de T0. Hay que tener en cuenta el signo negativo, que al estar dividido por un theta < 1 en un logaritmo, que dará un resultado negativo, obtendrá un cociente positivo.\n",
    "\n",
    "-> El valor de theta, esta envuelto en un logaritmo, situado en el denominador de la fracción. Por lo que si theta tiene un valor cercano a 1, el logatimo dará un número negativo cercano a 0, lo que proporcionará un mayor cociente (Recordar que el signo negativo se va con el del numerador).\n",
    "``` python\n",
    "Theta     Mu      C(S0)     T\n",
    "0.5       0.01    381.669   5.506333610983221\n",
    "0.99      0.01    381.669   37596.083121762735\n",
    "0.5       0.99    381.669   545.1270274873389\n",
    "0.5       0.01    619.172   8.977729411680173\n",
    "```\n",
    "Para obtener un mayor T0, la mejor solución es aumentar el valor de Theta cerca de 1. Por ejemplo 0.999.\n",
    "Para obtener un menor T0, la mejor solución puede ser disminuir Theta o reducir el tamaño de mu cerca de 0. Por ejemplu mu=0.0005\n"
   ]
  },
  {
   "cell_type": "markdown",
   "id": "219752ae-a3ff-4939-a8e3-1b50f46a2781",
   "metadata": {},
   "source": [
    "❓ **Pregunta 3.2. Escoge 4 combinaciones variadas de parámetros (incluidos los que regulan el mecanismo de enfriamiento, e.g., 𝜆). Ejecuta el algoritmo de Temple Simulado con esas combinaciones. Guarda los resultados en una celda, y discute los resultados obtenidos en cuanto a la calidad de las soluciones obtenidas.**\n",
    "\n"
   ]
  },
  {
   "cell_type": "markdown",
   "id": "fcc6d618-6f6b-4bf6-85a3-9333aef05e22",
   "metadata": {},
   "source": [
    "❓ **Pregunta 4. Implementa un laboratorio para evaluar el impacto de las mejoras consideradas. ¿Qué intervenciones de mejora te ha llevado a mejores resultados? ¿Cuáles no parecen haber funcionado tan bien como esperabas y por qué?  Explica brevemente las mejoras o intervenciones de mejora realizadas, cómo la has implementado, porqué las consideras buenas o no para el problema y presenta tus conclusiones acompañadas de los resultados obtenidos.**\n",
    "\n",
    "Para estudiar como influyen las mejoras en el algoritmo, se generará un gráfico, en concreto histograma de frecuencia, donde se podrá analizar la frecuencia con la que aparecen los costes de las mejores soluciones obtenidas. Con el fin de mejorar el algortimo desarrollado en la primera parte de la práctica se va a trabajar en rediseñar y reimplementar los siguientes aspectos:\n",
    "\n",
    "- **El valor inicial del parámetro de control (T0)**: El valor inicial de T0, da mejores resultados al algoritmo cuando no esta prefijado, ya que si es muy alto puede tardar en converger y si es muy bajo no llegar a la solución óptima. Por este motivo se debe precualcular, teniendo en cuenta que sea proporcional al tamaño del problema en el que nos encontramos. **Se utilizará 𝑇0 = (−𝜇/ln(𝜙))·𝐶(𝑆0).**\n",
    "\n",
    "- **El mecanismo de enfriamiento:** Es fundamental prederminar cuanto se va a disminuir la temperatura en cada iteración. En un primer momento se utilizó 𝑇(𝑘) = 20 · 𝑒(−0.0045𝑘),mientras que en esta nueva implementación se utilizará el **esquema de Cauchy: Tk = T0 / (1 + k)**, que hace una curva descendente, disminuyendo mucho la temperatura al inicio y cada vez menos.\n",
    "\n",
    "- **La velocidad de enfriamiento:** Es el número de veces que se ejecuta el algoritmo antes de ejecutar mecanismo de enfriamiento en una misma iteración, lo que permite generar más soluciones candidatas para un mismo valor de la temperatura. En la primera implementación este L(T) estaba prefijado a 1. En esta nueva implementación se podría hacer que sea dinámico y se calcule en cada iteración, pero por simplificarla se tomarán **varios valores mayores que 1** y se compararán.\n",
    "\n",
    "- **El mecanismo de selección de las soluciones candidatas:** El operador utilizado para la selección de una nueva posible solución es el de intercambio, a través de la aleatoridad, por lo que no resultará de mucha utilildad modificar dicho operador a inserción o inversión simple, ya que mantendrá esa aleatoriedad en la elección de en que posiciones actuar. Por lo que se mantendrá el **operador de intercambio.**\n",
    "\n",
    "- **El criterio de parada:** El criterio de parada utilizado hasta ahora es un limitador de hasta **1000 iteraciones**, en esta nueva implementación se va añadir la limitación de que **T > Tf=0** y estudiar si da un mejor o peor resultado.\n",
    "\n",
    "**Todas estas mejoras se irán añadiendo de forma incremental y en caso de no surtir efecto se descartarán, el índice de cada mejora corresponde a la sección donde esta la implementación, por ejemplo \"***(P1.2.1 Temple Simulado)***\" corresponde a la implementación de mejoras, y a la primera mejora**. \n",
    "\n",
    "***(P1.1 Temple Simulado)***:La gráfica de frecuencia que se genera tras las pruebas realizadas sobre la primera implementación:\n",
    "\n",
    "<center><img src=\"./img/g1.png\"/></center>\n",
    "\n",
    "***(P1.2.1 Temple Simulado)***: La primera mejora a implementar es el nuevo mecanismo de enfriamiento, con el cual se obtiene una mejora en la frecuencia de las soluciones, se sigue apreciando una distribución normal, pero movida hacia la izquierda y por lo tanto disminuyen las soluciones con costes superiores a 92.500 km. Aunque también disminuye la frecuencia con la que aperecen las soluciones más óptimas, aquellas infeores a 75.000 km.\n",
    "\n",
    "<center><img src=\"./img/g2.png\"/></center> \n",
    "\n",
    "***(P1.2.2 Temple Simulado)***: La segunda mejora que se aplicará será aumentar la velocidad de enfriamiento de forma aditiva al nuevo mecanismo de enfriamiento, que ya ha sido implementado, y que sigue el esquema de Cauchy. Al aumentar la velocidad de enfriamiento se han conseguido mejores resultados, además dichos resultados siguen mejorando cuanto más aumentes L(T), ya que estas calculando más soluciones candidatas para el mismo valor de temperatura. Como es lógico esto aumenta la complejidad temporal del algoritmo, ya que para un mismo valor de la temperatura se ejecutan L(T) veces el algoritmo. Para ser óptimos hay que buscar un equilibrio entre obtener un mejor coste(de la mejor solución) y el coste temporal, ya que llegará un valor de L(T) donde la mejora es menos relevante, pero su coste temporal es muy alto.\n",
    "\n",
    "<center><img src=\"./img/c1.png\"/></center>\n",
    "\n",
    "***(P1.2.3 Temple Simulado)***:La última mejora que se implementará será relacionada con la condición de parada. Se detendrá la ejecución al completar 1000 iteraciones, como se había declarado en la primera ejecución, o al llegar a una temperatura final, Tf, determianda. Lo habitual a nivel teórico sería Tf = 0, pero al tratarse de el esquema de Cauchy Tk = T0 / (1 + k), existe una asíntota horizontal en el eje y = 0, por lo que se tomará el valor entero del resultado. Es decir, si Tk = 0.1, se tomará como 0 y se detendrá la ejecución. Aplicando la condición de parada obtenemos aún mejores resultados y un menor coste temporal ya que no siempre se van a realizar las 1000 iteraciones. Esta mejoría en los resultados puede surgir de **evitar hacer iteraciones con temperarutas negativas que influyen en la condición de aceptar de una solución candidata**.\n",
    "\n",
    "<center><img src=\"./img/c2.png\"/></center>\n",
    "\n",
    "Como conclusión, las ideas implementadas han supuesto una mejora, desde el cambio de mecanismo de enfriamiento cuya mejora ha sido leve, hasta la implementación de la nueva condición de parada y el cambio en la velocidad de enfiramiento que han mejorado el algoritmo muy notable. **Comparando los resultados de la nueva implementación con la primera implementación, la mejora total es tan significativa que en la primera implementación el coste(de la mejor solución) con mayor frecuencia era de 87.500km y tras la última mejora y con una velocidad de enfriamiento 8, L(T) = 8, se consigue que el coste(de la mejor solución) con mayor frecuencia sea 47.500km, además que el mejor coste para la primera implementación rondaba los 72.500km y en la implementación con mejoras ronda los 37.500km, aproximadamente la mitad de distancia**.\n",
    "\n",
    "### Anexo: \n",
    "\n",
    "Las funciones utilizadas para genenar datos para analizar el rendimiento del algoritmo son las siguientes:\n",
    "\n",
    "``` python\n",
    "import matplotlib.pyplot as plt\n",
    "#Obtiene el coste de la mejor solución de una muestra de n_pruebas\n",
    "def pruebas(alpha, Loc):\n",
    "    n_pruebas = 300\n",
    "    solucion = []\n",
    "    coste = float('inf')\n",
    "    for i in range(0, n_pruebas):\n",
    "        solucionCand = simulated_annealing(mecanismo_enfriamiento,Loc)\n",
    "        costeCand = cost(solucionCand,Loc)\n",
    "        if (coste < costeCand):\n",
    "            continue\n",
    "        coste = costeCand\n",
    "        solucion = solucionCand\n",
    "\n",
    "    return (coste,solucion)\n",
    "\n",
    "#Obtiene todos los costes de una muestra de n_pruebas\n",
    "def pruebas_distribucion(alpha, Loc):\n",
    "    n_pruebas = 300\n",
    "    soluciones = {}\n",
    "    for i in range(0, n_pruebas):\n",
    "        solucionCand = simulated_annealing(mecanismo_enfriamiento,Loc)\n",
    "        costeCand = cost(solucionCand,Loc)\n",
    "        if (costeCand not in soluciones):\n",
    "            soluciones[costeCand]=1\n",
    "            continue\n",
    "        soluciones[costeCand]+=1\n",
    "    return soluciones\n",
    "\n",
    "#Genera un histograma de frecuencias, al pasarle un diccionario {costes, n_apariciones_coste}\n",
    "def graficar(soluciones):\n",
    "    fig, ax = plt.subplots()\n",
    "    ax.hist(soluciones)\n",
    "```\n"
   ]
  }
 ],
 "metadata": {
  "kernelspec": {
   "display_name": "Python 3 (ipykernel)",
   "language": "python",
   "name": "python3"
  },
  "language_info": {
   "codemirror_mode": {
    "name": "ipython",
    "version": 3
   },
   "file_extension": ".py",
   "mimetype": "text/x-python",
   "name": "python",
   "nbconvert_exporter": "python",
   "pygments_lexer": "ipython3",
   "version": "3.11.6"
  }
 },
 "nbformat": 4,
 "nbformat_minor": 5
}
