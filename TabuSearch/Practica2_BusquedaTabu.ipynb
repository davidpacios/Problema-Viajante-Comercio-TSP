{
 "cells": [
  {
   "cell_type": "markdown",
   "id": "3d57d457",
   "metadata": {},
   "source": [
    "\n",
    "# Práctica 2: Metaheurísticas basadas en trayectorias: Tabu Search"
   ]
  },
  {
   "cell_type": "markdown",
   "id": "dc9d72a9",
   "metadata": {},
   "source": [
    "<center><h3>\n",
    "    David Pacios Vazquez\n",
    "</h3></center>\n"
   ]
  },
  {
   "cell_type": "markdown",
   "id": "8087aede",
   "metadata": {
    "tags": []
   },
   "source": [
    "# Instrucciones"
   ]
  },
  {
   "cell_type": "markdown",
   "id": "a351019b",
   "metadata": {},
   "source": [
    "Igual que en la Práctica 1, utilizaremos un **Jupyter Notebook** para la resolución de esta práctica.\n",
    "\n",
    "Como ya sabéis, nos permite ir ejecutando celdas de código poco a poco, así como generar automáticamente un informe bien formateado de la práctica. Aun así, a continuación tenéis unas breves instrucciones sobre como funciona:\n",
    "\n",
    "* Puedes añadir una celda con el botón **\"Insert\"** de la barra de herramentas, y cambiar su tipo con **\"Cell > Cell Type\"**\n",
    "* Para ejecutar una celda de código, la seleccionaremos y pulsaremos el botón **\"▶ Run\"** de la barra de herramentas.\n",
    "* Para pasar el documento a HTML, seleccionaremos **\"File > Download as > HTML (.html)\"**\n",
    "\n",
    "Sigue este guión hasta el final. Ejecuta el código proporcionado paso a paso comprendiendo lo que estás haciendo y reflexionando sobre los resultados. Habrá preguntas intercaladas a lo largo del guión, responde a todas ellas en la sección reservada para ese fin: **\"Respuestas a los cuestionarios\"**. Por favor, no modifiques ninguna linea de código excepto cuando se te pida explícitamente.\n",
    "\n",
    "No olvides insertar tu **nombre y apellidos** en la celda superior.\n",
    "\n",
    "IMPORTANTE: Se te pedirán dos implementaciones del algoritmo de Búsqueda Tabú, una primera implementación obligatoria y una implementación mejorada optativa. Escribe el código de tu o tus soluciones en las celdas que se indican para ello. Además, a lo largo de la práctica se plantearán varias preguntas que debéis responder en la parte inferior del documento, incluyendo las celdas que veáis necesarias (si hacéis referencia a partes concretas de vuestro código, etc) para reponder a ellas."
   ]
  },
  {
   "cell_type": "markdown",
   "id": "3c804f80",
   "metadata": {},
   "source": [
    "## Entrega de la práctica"
   ]
  },
  {
   "cell_type": "markdown",
   "id": "797d20ec",
   "metadata": {},
   "source": [
    "La fecha límite de entrega será la indicada en el Campus Virtual. La entrega consistirá de un único archivo comprimido con nombre `APELIDOS_NOME_BusquedaTabu.zip` que contenga los seguientes ficheros:\n",
    "\n",
    " * `APELIDOS_NOME_BusquedaTabu.html`: Archivo HTML fruto de la exportación del presente Notebook, con las preguntas respondidas al final del documento.\n",
    " * `APELIDOS_NOME_BusquedaTabu.ipynb`: Archivo fuente Jupyter Notebook.\n",
    " * Archivo de datos de los problema utilizados en la resolución.\n",
    " \n",
    " ---"
   ]
  },
  {
   "cell_type": "markdown",
   "id": "f7f872a1",
   "metadata": {
    "tags": []
   },
   "source": [
    "\n",
    "# Preliminares adicionales sobre Python"
   ]
  },
  {
   "cell_type": "markdown",
   "id": "3c2f982c",
   "metadata": {},
   "source": [
    "Además de lo visto en las prácticas anteriores, conviene familiarizarse con algunas funciones disponibles en Python que pueden resultarte útiles más adelante en la realización de esta práctica y en el uso del lenguaje en general.\n"
   ]
  },
  {
   "cell_type": "markdown",
   "id": "440200d4",
   "metadata": {},
   "source": [
    "Por ejemplo, cuando necesitas consultar documentación sobre paquetes Python, conviene que conozcas la versión que estás utilizando en tu entorno para poder encontrar las especificidades de cada *release*. Fíjate que en la sección *Docs by version* de la web https://docs.python.org/3/ puedes seleccionar los documentos de referencia de la versión.\n",
    "\n",
    "Para averiguar la versión que está ejecutando este Jupyter Noteboook puedes emplear las siguientes líneas."
   ]
  },
  {
   "cell_type": "code",
   "execution_count": 1,
   "id": "d6354e9a",
   "metadata": {},
   "outputs": [
    {
     "name": "stdout",
     "output_type": "stream",
     "text": [
      "3.11.5\n"
     ]
    }
   ],
   "source": [
    "from platform import python_version\n",
    "\n",
    "print(python_version())\n"
   ]
  },
  {
   "cell_type": "markdown",
   "id": "a9c96428",
   "metadata": {},
   "source": [
    "Un paquete interesante puede ser statistics. Conociendo la versión, puedes puedes consultar la documentación y la lista completa de funciones disponibles: https://docs.python.org/3/library/statistics.html\n",
    "\n",
    "A modo ilustrativo, puedes obtener estadísticos sobre series de datos de la siguiente forma.\n"
   ]
  },
  {
   "cell_type": "code",
   "execution_count": 2,
   "id": "371102aa",
   "metadata": {},
   "outputs": [
    {
     "name": "stdout",
     "output_type": "stream",
     "text": [
      "3 1.5811388300841898\n",
      "3.3 1.5751984002023365\n"
     ]
    }
   ],
   "source": [
    "import statistics\n",
    "\n",
    "# ejemplo de obtención de medias y desviaciones típicas\n",
    "listav = [1, 2, 3, 4, 5]\n",
    "media = statistics.mean(listav)\n",
    "desvtip = statistics.stdev(listav)\n",
    "print(media, desvtip)\n",
    "\n",
    "listav = [1.0, 2.5, 3.75, 4.25, 5]\n",
    "media = statistics.mean(listav)\n",
    "desvtip = statistics.stdev(listav)\n",
    "print(media, desvtip)\n"
   ]
  },
  {
   "cell_type": "markdown",
   "id": "e4c8a62e",
   "metadata": {},
   "source": [
    "Otro paquete que puede resultarte útil a la hora de crear un informe o documentar tu práctica puede ser `matplotlib.pyplot`, que permite hacer gráficas de manera integrada en el propio Notebook. Puedes consultar sus capacidades en https://matplotlib.org/stable/gallery/index.html\n",
    "\n",
    "Veámos un ejemplo ilustrativo."
   ]
  },
  {
   "cell_type": "code",
   "execution_count": 3,
   "id": "d0a26e13-75fd-473d-b01e-b0e3e5e28da8",
   "metadata": {},
   "outputs": [],
   "source": [
    "def is_running_in_ipython():\n",
    "    try:\n",
    "        __IPYTHON__\n",
    "        return True\n",
    "    except NameError:\n",
    "        return False"
   ]
  },
  {
   "cell_type": "code",
   "execution_count": 4,
   "id": "fff25ba7-6225-4c04-bc8a-57a49e9ac1b1",
   "metadata": {},
   "outputs": [
    {
     "data": {
      "text/plain": [
       "True"
      ]
     },
     "execution_count": 4,
     "metadata": {},
     "output_type": "execute_result"
    }
   ],
   "source": [
    "is_running_in_ipython()"
   ]
  },
  {
   "cell_type": "code",
   "execution_count": 5,
   "id": "b4a134cd",
   "metadata": {},
   "outputs": [
    {
     "data": {
      "image/png": "[encoded data removed]",
      "text/plain": [
       "<Figure size 640x480 with 1 Axes>"
      ]
     },
     "metadata": {},
     "output_type": "display_data"
    }
   ],
   "source": [
    "# Indicamos al Notebook que queremos figuras interactivas (esto sólo es necesario hacerlo una vez)\n",
    "%matplotlib inline\n",
    "\n",
    "import matplotlib.pyplot as plt  # Importamos la librería (esto sólo es necesario hacerlo una vez)\n",
    "import math\n",
    "\n",
    "# definimos algunas líneas de tendencia arbitrarias\n",
    "vectorx = [x for x in range (1,10)]\n",
    "vectorlogy = [ math.log(i) for i in vectorx ]\n",
    "vectorpowy = [ math.pow(i, 2) for i in vectorx ]\n",
    "\n",
    "fig = plt.figure()  # Creamos una figura (contenedor para elementos a dibujar)\n",
    "ax = fig.add_subplot(111, projection='rectilinear')  # añadimos subplot-canvas a la figura (contiene los elementos del dibujo)\n",
    " \n",
    "# añadimos los plots\n",
    "ax.plot(vectorx, vectorlogy, '--', color=\"green\")\n",
    "ax.plot(vectorx, vectorpowy, '--', color=\"red\")\n",
    " \n",
    "ax.set_title(\"Ejemplo\")  # Ponemos un título\n",
    "ax.set_xlabel(\"Eje X\")  # Nombramos los ejes\n",
    "ax.set_ylabel(\"Eje Y\")\n",
    " \n",
    "plt.show()  # Mostramos a figura por pantalla, que se corresponde con la fig creada arriba"
   ]
  },
  {
   "cell_type": "markdown",
   "id": "f73d01d4",
   "metadata": {
    "tags": []
   },
   "source": [
    "---\n",
    "\n",
    "# El Problema del Viajante de Comercio (VC) con Búsqueda Tabú\n",
    "\n",
    "De nuevo, trataremos de resolver el problema del Viajante de Comercio, pero ahora con el algoritmo de Búsqueda Tabú.\n",
    "\n",
    "El objetivo de esta práctica es modelar e implementar un agente inteligente que sea capaz de resolver el problema del VC mediante la metaheurística (MH) de Busquedá Tabú (TS, del inglés Tabu Search). Para ello, realizarás una implementación del algoritmo básico visto en la clase expositiva y valorarás si la introducción de modificaciones en el diseño del algoritmo te permite mejorar la calidad de las soluciones alcanzadas."
   ]
  },
  {
   "cell_type": "markdown",
   "id": "8d0f75f2",
   "metadata": {},
   "source": [
    "\n",
    "## Definición del problema de Viajante de Comercio (VC)\n"
   ]
  },
  {
   "cell_type": "markdown",
   "id": "2d8f430b",
   "metadata": {},
   "source": [
    "\n",
    "El problema del viajante de comercio (VC) es el problema de la persona que quiere vender un producto, y que para ello quiere encontrar el viaje más corto posible a través de las ciudades de los clientes, haciendo una única visita a cada una, empezando y acabando el recorrido en su propia ciudad (recorrido circular desde la ciudad inicial).\n",
    "Típicamente, el problema parte de una representación mediante un grafo ponderado $G=(N, A)$, donde $N$ es el conjunto de $n=|N|$ nodos (ciudades), y siendo A el conjunto de arcos conectando los nodos. Cada arco $(i, j) ∈ A$ tiene asignado un peso $d_ij$ que representa la distancia entre las ciudades $i$ y $j$.\n",
    "El VC se reduce al problema de crear el circuito Hamiltoniano de longitud mínima sobre el grafo $G$. La solución a una instancia del problema del VC puede representarse como una permutación de los índices de las ciudades, donde lo importante es el orden de visita, que determinará el coste del viaje en términos de la distancia recorrida total. \n",
    "De este modo, el problema pertenece a la categoría de problemas NP, pues puede haber n permutaciones que se corresponden al espacio de búsqueda posible. Esto hace que resolver instancias de problemas con muchas ciudades (n grande) haga el problema impracticable con estrategias de búsqueda no-informadas y éste pueda beneficiarse de ciertas metaheurísticas, pudiendo abordar de problemas con tallas más grande a la vez que se obtienen soluciones razonablemente buenas.\n"
   ]
  },
  {
   "cell_type": "markdown",
   "id": "3a2d6367",
   "metadata": {},
   "source": [
    "### Nociones previas\n",
    "\n",
    "Para facilitar vuestra labor de implementación, os proporcionamos la clase `Localizaciones`, que permite cargar las localizaciones GPS que representan los vértices del grafo G de N ciudades, y permite calcular de manera transparente la distancia entre cualquier par de ciudades usando la [fórmula del semiverseno]( https://es.wikipedia.org/wiki/F%C3%B3rmula_del_semiverseno), que sirve para calcular las distancias teniendo en cuenta la curvatura de la Tierra. \n",
    "Es importante tener en cuenta que en la fórmula del semiverseno las coordenadas se expresan en radianes.\n",
    "\n",
    "\n",
    "En primer lugar importa el módulo Python que acompaña esta práctica, que trae alguna función de apoyo implementada así como la clase de carga de datos."
   ]
  },
  {
   "cell_type": "code",
   "execution_count": 6,
   "id": "7e422090",
   "metadata": {},
   "outputs": [],
   "source": [
    "from helpers_mod_sa import *"
   ]
  },
  {
   "cell_type": "markdown",
   "id": "6438416b",
   "metadata": {},
   "source": [
    "Inspecciona el código de carga de localizaciones mediante `psource(Localizaciones)`"
   ]
  },
  {
   "cell_type": "code",
   "execution_count": 7,
   "id": "b4b9896c",
   "metadata": {
    "scrolled": true
   },
   "outputs": [
    {
     "data": {
      "text/html": [
       "<!DOCTYPE html PUBLIC \"-//W3C//DTD HTML 4.01//EN\"\n",
       "   \"http://www.w3.org/TR/html4/strict.dtd\">\n",
       "<!--\n",
       "generated by Pygments <https://pygments.org/>\n",
       "Copyright 2006-2023 by the Pygments team.\n",
       "Licensed under the BSD license, see LICENSE for details.\n",
       "-->\n",
       "<html>\n",
       "<head>\n",
       "  <title></title>\n",
       "  <meta http-equiv=\"content-type\" content=\"text/html; charset=None\">\n",
       "  <style type=\"text/css\">\n",
       "/*\n",
       "generated by Pygments <https://pygments.org/>\n",
       "Copyright 2006-2023 by the Pygments team.\n",
       "Licensed under the BSD license, see LICENSE for details.\n",
       "*/\n",
       "pre { line-height: 125%; }\n",
       "td.linenos .normal { color: inherit; background-color: transparent; padding-left: 5px; padding-right: 5px; }\n",
       "span.linenos { color: inherit; background-color: transparent; padding-left: 5px; padding-right: 5px; }\n",
       "td.linenos .special { color: #000000; background-color: #ffffc0; padding-left: 5px; padding-right: 5px; }\n",
       "span.linenos.special { color: #000000; background-color: #ffffc0; padding-left: 5px; padding-right: 5px; }\n",
       "body .hll { background-color: #ffffcc }\n",
       "body { background: #f8f8f8; }\n",
       "body .c { color: #3D7B7B; font-style: italic } /* Comment */\n",
       "body .err { border: 1px solid #FF0000 } /* Error */\n",
       "body .k { color: #008000; font-weight: bold } /* Keyword */\n",
       "body .o { color: #666666 } /* Operator */\n",
       "body .ch { color: #3D7B7B; font-style: italic } /* Comment.Hashbang */\n",
       "body .cm { color: #3D7B7B; font-style: italic } /* Comment.Multiline */\n",
       "body .cp { color: #9C6500 } /* Comment.Preproc */\n",
       "body .cpf { color: #3D7B7B; font-style: italic } /* Comment.PreprocFile */\n",
       "body .c1 { color: #3D7B7B; font-style: italic } /* Comment.Single */\n",
       "body .cs { color: #3D7B7B; font-style: italic } /* Comment.Special */\n",
       "body .gd { color: #A00000 } /* Generic.Deleted */\n",
       "body .ge { font-style: italic } /* Generic.Emph */\n",
       "body .ges { font-weight: bold; font-style: italic } /* Generic.EmphStrong */\n",
       "body .gr { color: #E40000 } /* Generic.Error */\n",
       "body .gh { color: #000080; font-weight: bold } /* Generic.Heading */\n",
       "body .gi { color: #008400 } /* Generic.Inserted */\n",
       "body .go { color: #717171 } /* Generic.Output */\n",
       "body .gp { color: #000080; font-weight: bold } /* Generic.Prompt */\n",
       "body .gs { font-weight: bold } /* Generic.Strong */\n",
       "body .gu { color: #800080; font-weight: bold } /* Generic.Subheading */\n",
       "body .gt { color: #0044DD } /* Generic.Traceback */\n",
       "body .kc { color: #008000; font-weight: bold } /* Keyword.Constant */\n",
       "body .kd { color: #008000; font-weight: bold } /* Keyword.Declaration */\n",
       "body .kn { color: #008000; font-weight: bold } /* Keyword.Namespace */\n",
       "body .kp { color: #008000 } /* Keyword.Pseudo */\n",
       "body .kr { color: #008000; font-weight: bold } /* Keyword.Reserved */\n",
       "body .kt { color: #B00040 } /* Keyword.Type */\n",
       "body .m { color: #666666 } /* Literal.Number */\n",
       "body .s { color: #BA2121 } /* Literal.String */\n",
       "body .na { color: #687822 } /* Name.Attribute */\n",
       "body .nb { color: #008000 } /* Name.Builtin */\n",
       "body .nc { color: #0000FF; font-weight: bold } /* Name.Class */\n",
       "body .no { color: #880000 } /* Name.Constant */\n",
       "body .nd { color: #AA22FF } /* Name.Decorator */\n",
       "body .ni { color: #717171; font-weight: bold } /* Name.Entity */\n",
       "body .ne { color: #CB3F38; font-weight: bold } /* Name.Exception */\n",
       "body .nf { color: #0000FF } /* Name.Function */\n",
       "body .nl { color: #767600 } /* Name.Label */\n",
       "body .nn { color: #0000FF; font-weight: bold } /* Name.Namespace */\n",
       "body .nt { color: #008000; font-weight: bold } /* Name.Tag */\n",
       "body .nv { color: #19177C } /* Name.Variable */\n",
       "body .ow { color: #AA22FF; font-weight: bold } /* Operator.Word */\n",
       "body .w { color: #bbbbbb } /* Text.Whitespace */\n",
       "body .mb { color: #666666 } /* Literal.Number.Bin */\n",
       "body .mf { color: #666666 } /* Literal.Number.Float */\n",
       "body .mh { color: #666666 } /* Literal.Number.Hex */\n",
       "body .mi { color: #666666 } /* Literal.Number.Integer */\n",
       "body .mo { color: #666666 } /* Literal.Number.Oct */\n",
       "body .sa { color: #BA2121 } /* Literal.String.Affix */\n",
       "body .sb { color: #BA2121 } /* Literal.String.Backtick */\n",
       "body .sc { color: #BA2121 } /* Literal.String.Char */\n",
       "body .dl { color: #BA2121 } /* Literal.String.Delimiter */\n",
       "body .sd { color: #BA2121; font-style: italic } /* Literal.String.Doc */\n",
       "body .s2 { color: #BA2121 } /* Literal.String.Double */\n",
       "body .se { color: #AA5D1F; font-weight: bold } /* Literal.String.Escape */\n",
       "body .sh { color: #BA2121 } /* Literal.String.Heredoc */\n",
       "body .si { color: #A45A77; font-weight: bold } /* Literal.String.Interpol */\n",
       "body .sx { color: #008000 } /* Literal.String.Other */\n",
       "body .sr { color: #A45A77 } /* Literal.String.Regex */\n",
       "body .s1 { color: #BA2121 } /* Literal.String.Single */\n",
       "body .ss { color: #19177C } /* Literal.String.Symbol */\n",
       "body .bp { color: #008000 } /* Name.Builtin.Pseudo */\n",
       "body .fm { color: #0000FF } /* Name.Function.Magic */\n",
       "body .vc { color: #19177C } /* Name.Variable.Class */\n",
       "body .vg { color: #19177C } /* Name.Variable.Global */\n",
       "body .vi { color: #19177C } /* Name.Variable.Instance */\n",
       "body .vm { color: #19177C } /* Name.Variable.Magic */\n",
       "body .il { color: #666666 } /* Literal.Number.Integer.Long */\n",
       "\n",
       "  </style>\n",
       "</head>\n",
       "<body>\n",
       "<h2></h2>\n",
       "\n",
       "<div class=\"highlight\"><pre><span></span><span class=\"k\">class</span> <span class=\"nc\">Localizaciones</span> <span class=\"p\">():</span>\n",
       "\n",
       "    <span class=\"k\">def</span> <span class=\"fm\">__init__</span> <span class=\"p\">(</span><span class=\"bp\">self</span><span class=\"p\">,</span> <span class=\"n\">filename</span><span class=\"o\">=</span><span class=\"s1\">&#39;./data/grafo8cidades.txt&#39;</span><span class=\"p\">):</span>\n",
       "        <span class=\"bp\">self</span><span class=\"o\">.</span><span class=\"n\">filename</span> <span class=\"o\">=</span> <span class=\"n\">filename</span>\n",
       "        <span class=\"n\">file</span> <span class=\"o\">=</span> <span class=\"nb\">open</span><span class=\"p\">(</span><span class=\"n\">filename</span><span class=\"p\">,</span> <span class=\"s1\">&#39;r&#39;</span><span class=\"p\">)</span>\n",
       "        <span class=\"n\">Lines</span> <span class=\"o\">=</span> <span class=\"n\">file</span><span class=\"o\">.</span><span class=\"n\">readlines</span><span class=\"p\">()</span>\n",
       "\n",
       "        <span class=\"n\">count</span> <span class=\"o\">=</span> <span class=\"o\">-</span><span class=\"mi\">1</span>\n",
       "        <span class=\"bp\">self</span><span class=\"o\">.</span><span class=\"n\">nciudades</span> <span class=\"o\">=</span> <span class=\"mi\">0</span> \n",
       "        <span class=\"bp\">self</span><span class=\"o\">.</span><span class=\"n\">tablaciudades</span> <span class=\"o\">=</span> <span class=\"nb\">dict</span><span class=\"p\">()</span>\n",
       "        <span class=\"k\">for</span> <span class=\"n\">line</span> <span class=\"ow\">in</span> <span class=\"n\">Lines</span><span class=\"p\">:</span>\n",
       "            <span class=\"k\">if</span> <span class=\"n\">count</span> <span class=\"o\">==</span> <span class=\"o\">-</span><span class=\"mi\">1</span><span class=\"p\">:</span>\n",
       "                <span class=\"bp\">self</span><span class=\"o\">.</span><span class=\"n\">nciudades</span> <span class=\"o\">=</span> <span class=\"nb\">int</span><span class=\"p\">(</span><span class=\"n\">line</span><span class=\"o\">.</span><span class=\"n\">strip</span><span class=\"p\">()</span><span class=\"o\">.</span><span class=\"n\">split</span><span class=\"p\">()[</span><span class=\"mi\">0</span><span class=\"p\">])</span>        \n",
       "            <span class=\"k\">else</span><span class=\"p\">:</span>\n",
       "                <span class=\"n\">tokens</span> <span class=\"o\">=</span> <span class=\"n\">line</span><span class=\"o\">.</span><span class=\"n\">strip</span><span class=\"p\">()</span><span class=\"o\">.</span><span class=\"n\">split</span><span class=\"p\">()</span>\n",
       "                <span class=\"bp\">self</span><span class=\"o\">.</span><span class=\"n\">tablaciudades</span><span class=\"p\">[</span><span class=\"n\">count</span><span class=\"p\">]</span><span class=\"o\">=</span><span class=\"nb\">tuple</span><span class=\"p\">((</span><span class=\"nb\">float</span><span class=\"p\">(</span><span class=\"n\">tokens</span><span class=\"p\">[</span><span class=\"mi\">0</span><span class=\"p\">]),</span><span class=\"nb\">float</span><span class=\"p\">(</span><span class=\"n\">tokens</span><span class=\"p\">[</span><span class=\"mi\">1</span><span class=\"p\">])))</span>                \n",
       "\n",
       "            <span class=\"n\">count</span><span class=\"o\">+=</span><span class=\"mi\">1</span>\n",
       "    \n",
       "        <span class=\"bp\">self</span><span class=\"o\">.</span><span class=\"n\">matriz</span> <span class=\"o\">=</span> <span class=\"p\">[]</span>\n",
       "        <span class=\"k\">for</span> <span class=\"n\">c1</span> <span class=\"ow\">in</span> <span class=\"nb\">range</span><span class=\"p\">(</span><span class=\"bp\">self</span><span class=\"o\">.</span><span class=\"n\">nciudades</span><span class=\"p\">):</span>\n",
       "            <span class=\"n\">a</span> <span class=\"o\">=</span> <span class=\"p\">[</span><span class=\"mi\">0</span><span class=\"p\">]</span><span class=\"o\">*</span><span class=\"bp\">self</span><span class=\"o\">.</span><span class=\"n\">nciudades</span>\n",
       "            <span class=\"bp\">self</span><span class=\"o\">.</span><span class=\"n\">matriz</span><span class=\"o\">.</span><span class=\"n\">append</span><span class=\"p\">(</span><span class=\"n\">a</span><span class=\"p\">)</span>\n",
       "            <span class=\"k\">for</span> <span class=\"n\">c2</span> <span class=\"ow\">in</span> <span class=\"nb\">range</span><span class=\"p\">(</span><span class=\"bp\">self</span><span class=\"o\">.</span><span class=\"n\">nciudades</span><span class=\"p\">):</span>\n",
       "                <span class=\"bp\">self</span><span class=\"o\">.</span><span class=\"n\">matriz</span><span class=\"p\">[</span><span class=\"n\">c1</span><span class=\"p\">][</span><span class=\"n\">c2</span><span class=\"p\">]</span> <span class=\"o\">=</span> <span class=\"bp\">self</span><span class=\"o\">.</span><span class=\"n\">__distancia_semiverseno__</span><span class=\"p\">(</span><span class=\"n\">c1</span><span class=\"p\">,</span> <span class=\"n\">c2</span><span class=\"p\">)</span>\n",
       "    \n",
       "    <span class=\"k\">def</span> <span class=\"nf\">__distancia_semiverseno__</span> <span class=\"p\">(</span><span class=\"bp\">self</span><span class=\"p\">,</span> <span class=\"n\">c1</span><span class=\"p\">,</span> <span class=\"n\">c2</span><span class=\"p\">):</span>\n",
       "        <span class=\"n\">radioTierra</span> <span class=\"o\">=</span> <span class=\"mi\">6371</span>\n",
       "        <span class=\"n\">lat1</span> <span class=\"o\">=</span> <span class=\"n\">math</span><span class=\"o\">.</span><span class=\"n\">radians</span><span class=\"p\">(</span><span class=\"bp\">self</span><span class=\"o\">.</span><span class=\"n\">tablaciudades</span><span class=\"p\">[</span><span class=\"n\">c1</span><span class=\"p\">][</span><span class=\"mi\">0</span><span class=\"p\">]);</span>\n",
       "        <span class=\"n\">lon1</span> <span class=\"o\">=</span> <span class=\"n\">math</span><span class=\"o\">.</span><span class=\"n\">radians</span><span class=\"p\">(</span><span class=\"bp\">self</span><span class=\"o\">.</span><span class=\"n\">tablaciudades</span><span class=\"p\">[</span><span class=\"n\">c1</span><span class=\"p\">][</span><span class=\"mi\">1</span><span class=\"p\">]);</span>\n",
       "        <span class=\"n\">lat2</span> <span class=\"o\">=</span> <span class=\"n\">math</span><span class=\"o\">.</span><span class=\"n\">radians</span><span class=\"p\">(</span><span class=\"bp\">self</span><span class=\"o\">.</span><span class=\"n\">tablaciudades</span><span class=\"p\">[</span><span class=\"n\">c2</span><span class=\"p\">][</span><span class=\"mi\">0</span><span class=\"p\">]);</span>\n",
       "        <span class=\"n\">lon2</span> <span class=\"o\">=</span> <span class=\"n\">math</span><span class=\"o\">.</span><span class=\"n\">radians</span><span class=\"p\">(</span><span class=\"bp\">self</span><span class=\"o\">.</span><span class=\"n\">tablaciudades</span><span class=\"p\">[</span><span class=\"n\">c2</span><span class=\"p\">][</span><span class=\"mi\">1</span><span class=\"p\">]);</span>\n",
       "        \n",
       "        <span class=\"n\">sinChi</span> <span class=\"o\">=</span> <span class=\"n\">math</span><span class=\"o\">.</span><span class=\"n\">sin</span><span class=\"p\">((</span><span class=\"n\">lat2</span> <span class=\"o\">-</span> <span class=\"n\">lat1</span><span class=\"p\">)</span> <span class=\"o\">/</span> <span class=\"mi\">2</span><span class=\"p\">);</span>\n",
       "        <span class=\"n\">sinLambda</span> <span class=\"o\">=</span> <span class=\"n\">math</span><span class=\"o\">.</span><span class=\"n\">sin</span><span class=\"p\">((</span><span class=\"n\">lon2</span> <span class=\"o\">-</span> <span class=\"n\">lon1</span><span class=\"p\">)</span> <span class=\"o\">/</span> <span class=\"mi\">2</span><span class=\"p\">);</span>\n",
       "\n",
       "        <span class=\"n\">raiz</span> <span class=\"o\">=</span> <span class=\"p\">(</span><span class=\"n\">sinChi</span> <span class=\"o\">*</span> <span class=\"n\">sinChi</span><span class=\"p\">)</span> <span class=\"o\">+</span> <span class=\"n\">math</span><span class=\"o\">.</span><span class=\"n\">cos</span><span class=\"p\">(</span><span class=\"n\">lat1</span><span class=\"p\">)</span> <span class=\"o\">*</span> <span class=\"n\">math</span><span class=\"o\">.</span><span class=\"n\">cos</span><span class=\"p\">(</span><span class=\"n\">lat2</span><span class=\"p\">)</span> <span class=\"o\">*</span> <span class=\"p\">(</span><span class=\"n\">sinLambda</span> <span class=\"o\">*</span> <span class=\"n\">sinLambda</span><span class=\"p\">);</span>\n",
       "\n",
       "        <span class=\"k\">return</span> <span class=\"mi\">2</span> <span class=\"o\">*</span> <span class=\"n\">radioTierra</span> <span class=\"o\">*</span> <span class=\"n\">math</span><span class=\"o\">.</span><span class=\"n\">asin</span><span class=\"p\">(</span><span class=\"n\">math</span><span class=\"o\">.</span><span class=\"n\">sqrt</span><span class=\"p\">(</span><span class=\"n\">raiz</span><span class=\"p\">));</span>\n",
       "    \n",
       "    <span class=\"k\">def</span> <span class=\"nf\">distancia</span> <span class=\"p\">(</span><span class=\"bp\">self</span><span class=\"p\">,</span> <span class=\"n\">c1</span><span class=\"p\">,</span> <span class=\"n\">c2</span><span class=\"p\">):</span>        \n",
       "        <span class=\"k\">return</span> <span class=\"bp\">self</span><span class=\"o\">.</span><span class=\"n\">matriz</span> <span class=\"p\">[</span><span class=\"n\">c1</span><span class=\"p\">][</span><span class=\"n\">c2</span><span class=\"p\">]</span>\n",
       "</pre></div>\n",
       "</body>\n",
       "</html>\n"
      ],
      "text/plain": [
       "<IPython.core.display.HTML object>"
      ]
     },
     "metadata": {},
     "output_type": "display_data"
    }
   ],
   "source": [
    "psource (Localizaciones)"
   ]
  },
  {
   "cell_type": "markdown",
   "id": "87ee11d6",
   "metadata": {},
   "source": [
    "Fíjate que por defecto se carga el fichero `./data/grafo8cidades.txt`, que contiene las coordenadas GPS de 8 ciudades gallegas, siendo Santiago de Compostela la primera de ellas. La primera línea de estos ficheros indica el número de ciudades n, mientras que cada una de las líneas sucesivas especifican las coordenadas de cada ciudad, especificadas como coordenadas GPS (latitud y longitud en grados).\n",
    "\n",
    "Puedes cargar otro fichero haciendo uso del parámetro `filename` como se muestra a continuación. Si todo va bien, la primera distancia entre la ciudad 0 y 1 debe ser unos 55 km.\n",
    "\n",
    "❗ Para esta práctica, **debéis utilizar** el fichero `./data/grafo100cidades.txt` que contiene las coordenadas de 100 concellos gallegos."
   ]
  },
  {
   "cell_type": "code",
   "execution_count": 8,
   "id": "12ff980c",
   "metadata": {},
   "outputs": [
    {
     "name": "stdout",
     "output_type": "stream",
     "text": [
      "55.88273580792048\n",
      "119.30959564041359\n",
      "68.81748609463234\n"
     ]
    }
   ],
   "source": [
    "g1=Localizaciones(filename='./data/grafo8cidades.txt')\n",
    "print (g1.distancia(0,1))\n",
    "g2=Localizaciones(filename='./data/grafos10_10/grafo_1.txt')\n",
    "print (g2.distancia(0,1))\n",
    "g3=Localizaciones(filename='./data/grafo100cidades.txt')\n",
    "print(g3.distancia(0,1))"
   ]
  },
  {
   "cell_type": "markdown",
   "id": "045122c3",
   "metadata": {},
   "source": [
    "\n",
    "## P2.1: Implementación básica de Búsqueda Tabú (especificación obligatoria, 6pts)\n"
   ]
  },
  {
   "cell_type": "markdown",
   "id": "88a4e0a6",
   "metadata": {
    "tags": []
   },
   "source": [
    "\n",
    "En este apartado debes desarrollar una **versión básica del algoritmo de Búsqueda Tabú que resuelva el problema del viajante de comercio (TSP)** aplicado a los concellos de Galicia. La especificación del algoritmo será muy detallada, ya que el objetivo principal de esta primera parte es que dispongas de una implementación totalmente funcional y verificada que resuelva el problema correctamente.\n",
    "Igual que en la práctica anterior (P1), consideramos que el recorrido es circular (empieza y termina en el mismo concello) y que tienen que pasar por N=100 concellos de Galicia. Implementa el algoritmo básico de Búsqueda Tabú para resolver el problema del VC enunciado arriba. Para ello, revisa la descripción algorítmica de la MH vista en la clase expositiva.\n",
    "\n",
    "Ten en cuenta las **siguientes consideraciones** de diseño para completar la implementación básica:\n",
    "- **Representación  de  las  soluciones:**  representación  de  orden  (permutaciones)  **comenzando y finalizando en la ciudad 0**. Es decir, utilizamos una representación de orden formada por una secuencia de valores numéricos que representan cada uno de los concellos {0, 1, ..., 99}. Consideramos siempre como punto de partida y retorno el concello 0, por lo que efectivamente una solución *S* se representa como una permutación de los demás valores {1, ..., 99}. \n",
    "\n",
    "\n",
    "- **Solución inicial:** generación **totalmente aleatoria** de una permutación válida como está explicado en los apartados previos. \n",
    "\n",
    "❗  **NOTA: Es importante que la generación de la solución inicial se implemente en una función propia y que después, esta solución inicial se pase a la función que implementa el algoritmo de búsqueda tabú *per se*.**\n",
    "\n",
    "\n",
    "- **Operador  de  generación de vecindario de una solución** (generación de la solución  siguiente  $S_{cand}$  a  partir  de  la  actual  $S_{act}$): Se utilizará el **operador  de  intercambio** y se generarán *todos los posibles intercambios**. Es decir, con este operador, se explota el vecindario de forma completa, con lo que se genera el siguiente número de vecinos:\n",
    "\n",
    "$$ \\sum_{i=1}^{L-1}i = \\frac{L(L-1)}{2} $$\n",
    "\n",
    "donde *L* es la longitud de la solución y se ha tenido en cuenta que es lo mismo intercambiar los vecinos *i, j* que *j, i*.\n",
    "\n",
    "❗  **NOTA: Es importante que la generación del vecindario de una solución se implemente en una función propia y que después, el vecino seleccionado, se pase a la función que implementa el algoritmo de búsqueda tabú *per se*.**\n",
    "\n",
    "\n",
    "\n",
    "- **Función de coste:** suma de las distancias del camino según el orden del recorrido teniendo en cuenta que se parte de y se llega al concello 0.  La distancia se calcula teniendo en cuenta los siguientes tres elementos:\n",
    "    - Distancia desde el concello 0 al primer concello de la solución: 0 -> S[0]\n",
    "    - Distancia recorrida en la solución: S[0] -> S[1] -> ... -> S[-1]\n",
    "    - Distancia recorrida desde el concello final al concello 0: S[-1] ->0\n",
    "    \n",
    "\n",
    "\n",
    "- **Lista Tabú:** La lista tabú (LT) estará formada por los **movimientos de intercambio de índices** {i,j} que den lugar a las soluciones que forman la trayectoria de búsqueda. Tenéis que establecer **N=100** como parámetro de tenencia tabú, esto es, el tamaño de la lista tabú será de **N** elementos, de forma que un movimiento {i,j} saldrá de la lista tabú después de **N=100** operaciones y volverá a estar permitido.\n",
    "\n",
    "\n",
    "- **Reinicialización:** En el caso de que transcurran **1000 iteraciones consecutivas** sin que mejore la solución óptima $S_{opt}$ alcanzada hasta el momento, se hará una reinicialización desde ella: $S_{opt}$. Se trata por tanto de una estrategia de reinicialización por **intensificación**. En el reinicio **no se restaura la lista tabú**, para dar opción a visitar vecinos no visitados anteriormente ya que determinados intercambios prohibidos al estar incluidos en la lista tabú. Es decir, cuando se hace un reinicio, se vuelve a la solución $S_{opt}$ y **se vacía la lista tabú.**\n",
    "\n",
    "\n",
    "- **Criterio de parada:** Se finaliza la ejecución cuando se alcanzan **10.000 iteraciones** del algoritmo.\n",
    "\n"
   ]
  },
  {
   "cell_type": "code",
   "execution_count": 9,
   "id": "fb2147e0-9bfb-4a51-835d-b83e0c793e72",
   "metadata": {},
   "outputs": [],
   "source": [
    "def cost(sol_act, Loc):\n",
    "    cost=0\n",
    "    aux = [0] + sol_act + [0]\n",
    "    for i in range(0,len(aux)-1):\n",
    "        cost+= Loc.distancia(aux[i], aux[i+1])\n",
    "    return cost;"
   ]
  },
  {
   "cell_type": "code",
   "execution_count": 10,
   "id": "520b464e-d90c-4803-9d0f-c0e88e53045b",
   "metadata": {},
   "outputs": [],
   "source": [
    "def cost_vecino(coste, sol_act, intercambio, Loc):\n",
    "    \n",
    "    i, j = intercambio\n",
    "    aux= [0] + sol_act + [0]\n",
    "    i+=1\n",
    "    j+=1\n",
    "    \n",
    "    coste_nuevo = coste - Loc.distancia(aux[i-1], aux[i]) - Loc.distancia(aux[i], aux[i+1])- Loc.distancia(aux[j-1], aux[j]) - Loc.distancia(aux[j], aux[j+1]) #Elimino rutas que ya no voy a hacer\n",
    "    aux[i], aux[j] = aux[j], aux[i] # Genero el intercambio\n",
    "    coste_nuevo = coste_nuevo + Loc.distancia(aux[i-1], aux[i]) + Loc.distancia(aux[i], aux[i+1]) + Loc.distancia(aux[j-1], aux[j]) + Loc.distancia(aux[j], aux[j+1])\n",
    "\n",
    "    return coste_nuevo\n"
   ]
  },
  {
   "cell_type": "code",
   "execution_count": 11,
   "id": "70d62560-9981-4aa4-9ac7-fab1f4b3fd0c",
   "metadata": {},
   "outputs": [],
   "source": [
    "import random\n",
    "def gen_initial_solution(Loc):\n",
    "    vector = [x for x in range (1,Loc.nciudades)] # Todas las posibles ciudades a añadir a initial_solution\n",
    "    random_value = random.randint(0, Loc.nciudades-2) # Primera posible ciudad \n",
    "    initial_solution = []; # Inicio en 0 siempre\n",
    "    while(len(initial_solution) != Loc.nciudades-1): # Mientras no se hayan acabado las ciudades\n",
    "        \n",
    "        if(vector[random_value] != 0): # Si no se ha añadido la ciudad\n",
    "            initial_solution.append(vector[random_value])\n",
    "            vector[random_value] = 0 # Marcar como añadida la ciudad\n",
    "            \n",
    "        random_value = random.randint(0, Loc.nciudades-2)\n",
    "    return initial_solution "
   ]
  },
  {
   "cell_type": "code",
   "execution_count": 12,
   "id": "12f74c2f-9448-428d-aad1-6a42bce56f29",
   "metadata": {},
   "outputs": [],
   "source": [
    "from itertools import permutations\n",
    "def gen_neighbours(sol_act):\n",
    "    n = len(sol_act)\n",
    "    indices = list(range(n))\n",
    "    vecinos = []\n",
    "\n",
    "    for perm in permutations(indices, 2):\n",
    "        i, j = perm\n",
    "        if i < j:\n",
    "            vecinos.append([i,j])\n",
    "            \n",
    "    return vecinos"
   ]
  },
  {
   "cell_type": "code",
   "execution_count": 13,
   "id": "703b4d15-ff43-43f2-9ef8-f9716fb64aa5",
   "metadata": {},
   "outputs": [],
   "source": [
    "def remove_first(lista_tabu):\n",
    "    return lista_tabu[1:]"
   ]
  },
  {
   "cell_type": "code",
   "execution_count": 19,
   "id": "843df1d9-58ba-4eef-a470-0c1e2c8c8c8d",
   "metadata": {},
   "outputs": [],
   "source": [
    "import time \n",
    "\n",
    "def tabu(loc):\n",
    "    lista_tabu = []\n",
    "    max_size_lista_tabu = 100\n",
    "\n",
    "    #s0 = gen_initial_solution(loc)  \n",
    "    #s0= [25, 6, 43, 23, 13, 47, 4, 11, 46, 41, 15, 38, 21, 26, 14, 42, 49, 32, 33, 3, 12, 20, 8, 48, 39, 28, 37, 45, 36, 2, 17, 9, 31, 29, 7, 24, 1, 5, 18, 35, 44, 22, 16, 30, 34, 10, 40, 19, 27]\n",
    "    #s0=[77, 9, 43, 73, 2, 53, 12, 83, 92, 33, 50, 63, 54, 59, 64, 74, 55, 14, 35, 5, 58, 87, 37, 7, 69, 79, 89, 21, 23, 80, 20, 56, 75, 68, 27, 95, 78, 25, 88, 51, 47, 91, 49, 60, 13, 36, 70, 42, 11, 22, 40, 72, 28, 97, 19, 71, 29, 90, 85, 76, 16, 24, 81, 84, 34, 8, 31, 38, 67, 45, 44, 32, 96, 10, 61, 94, 17, 18, 93, 30, 52, 66, 99, 26, 46, 39, 15, 86, 41, 4, 62, 1, 48, 82, 57, 98, 3, 65, 6]\n",
    "    s0=[12, 112, 59, 94, 105, 41, 73, 78, 111, 93, 61, 90, 24, 83, 109, 30, 33, 39, 113, 9, 60, 50, 91, 82, 79, 104, 7, 23, 118, 86, 117, 67, 47, 11, 8, 18, 77, 48, 96, 53, 88, 4, 14, 2, 52, 17, 71, 102, 106, 98, 63, 34, 87, 36, 97, 56, 22, 115, 26, 28, 42, 15, 101, 31, 21, 65, 44, 85, 1, 16, 37, 89, 84, 108, 5, 3, 6, 70, 66, 116, 110, 68, 76, 25, 51, 35, 72, 32, 54, 46, 103, 57, 95, 13, 64, 99, 27, 58, 69, 45, 43, 19, 10, 20, 29, 49, 80, 75, 107, 74, 92, 100, 55, 38, 114, 81, 62, 40, 119]\n",
    "    coste_solucion_aux = cost(s0, loc)\n",
    "    coste_solucion_actual = coste_solucion_aux\n",
    "    \n",
    "    solucion_actual = s0.copy()\n",
    "    solucion_mejor = s0.copy()\n",
    "    \n",
    "    coste_solucion_mejor = float('inf')\n",
    "    \n",
    "    it = 0\n",
    "    r = 0\n",
    "    k = 0\n",
    "\n",
    "    while k < 10000:\n",
    "        k += 1\n",
    "        \n",
    "        vecinos = gen_neighbours(solucion_actual)\n",
    "\n",
    "        solucion_aux = solucion_actual.copy()\n",
    "        coste_solucion_aux = coste_solucion_actual    \n",
    "\n",
    "        coste_solucion_actual = float('inf')\n",
    "\n",
    "        for par in vecinos:\n",
    "            vecino = solucion_aux.copy()\n",
    "            vecino[par[0]], vecino[par[1]] = vecino[par[1]], vecino[par[0]]\n",
    "            \n",
    "            coste_vecino = cost_vecino(coste_solucion_aux, solucion_aux, par, loc)\n",
    "\n",
    "            if (par not in lista_tabu) and (coste_vecino < coste_solucion_actual):\n",
    "                solucion_actual = vecino\n",
    "                coste_solucion_actual = coste_vecino\n",
    "                pos = par \n",
    "\n",
    "        if coste_solucion_actual == float('inf'):\n",
    "            k += 1\n",
    "            break\n",
    "\n",
    "        if coste_solucion_actual < coste_solucion_mejor:\n",
    "            solucion_mejor = solucion_actual\n",
    "            coste_solucion_mejor = coste_solucion_actual\n",
    "            it = k\n",
    "            r = 0\n",
    "        else:\n",
    "            r += 1\n",
    "\n",
    "        if r == 1000:\n",
    "            lista_tabu = []\n",
    "            solucion_actual = solucion_mejor\n",
    "            coste_solucion_actual = coste_solucion_mejor\n",
    "            r = 0\n",
    "\n",
    "        lista_tabu.append(pos)\n",
    "\n",
    "        if len(lista_tabu) > max_size_lista_tabu:\n",
    "            lista_tabu = remove_first(lista_tabu) \n",
    "\n",
    "    print(\"Se han ejecutado\", k, \"iteraciones\")\n",
    "    print(\"La solución se encontró en la iteración:\", it)\n",
    "    print(\"La mejor solucion es:\", solucion_mejor)\n",
    "    print(\"El coste de la mejor solución es:\", coste_solucion_mejor)\n",
    "    return k, it, solucion_mejor, coste_solucion_mejor\n",
    "\n"
   ]
  },
  {
   "cell_type": "code",
   "execution_count": 172,
   "id": "6888cc82-ea06-4963-9b7d-7451438b7b6c",
   "metadata": {},
   "outputs": [
    {
     "name": "stdout",
     "output_type": "stream",
     "text": [
      "Se han ejecutado 10000 iteraciones\n",
      "La solución se encontró en la iteración: 4280\n",
      "La mejor solucion es: [16, 21, 28, 23, 37, 39, 7, 2, 34, 13, 38, 27, 33, 6, 22, 20, 4, 32, 17, 46, 18, 36, 11, 26, 14, 9, 15, 41, 48, 25, 45, 35, 5, 40, 19, 47, 43, 12, 49, 1, 31, 30, 10, 44, 8, 29, 3, 42, 24]\n",
      "El coste de la mejor solución es: 1032.7605049585536\n",
      "El tiempo que ha tardado es:  33.50818395614624\n"
     ]
    }
   ],
   "source": [
    "inicio = time.time() \n",
    "tabu(Localizaciones(filename='./data/grafo50cidadesA.txt'))\n",
    "delta_time = time.time() - inicio\n",
    "print(\"El tiempo que ha tardado es: \", delta_time)"
   ]
  },
  {
   "cell_type": "code",
   "execution_count": 16,
   "id": "269fa628-af1d-4f96-be44-20f76bdfd7b1",
   "metadata": {},
   "outputs": [
    {
     "name": "stdout",
     "output_type": "stream",
     "text": [
      "Se han ejecutado 10000 iteraciones\n",
      "La solución se encontró en la iteración: 4280\n",
      "La mejor solucion es: [16, 21, 28, 23, 37, 39, 7, 2, 34, 13, 38, 27, 33, 6, 22, 20, 4, 32, 17, 46, 18, 36, 11, 26, 14, 9, 15, 41, 48, 25, 45, 35, 5, 40, 19, 47, 43, 12, 49, 1, 31, 30, 10, 44, 8, 29, 3, 42, 24]\n",
      "El coste de la mejor solución es: 1032.7605049585536\n",
      "El tiempo que ha tardado es:  34.166197299957275\n"
     ]
    }
   ],
   "source": [
    "inicio = time.time() \n",
    "tabu(Localizaciones(filename='./data/grafo50cidadesA.txt'))\n",
    "delta_time = time.time() - inicio\n",
    "print(\"El tiempo que ha tardado es: \", delta_time)"
   ]
  },
  {
   "cell_type": "code",
   "execution_count": 174,
   "id": "9fa2314d-4a76-4047-8340-2741e3c73daf",
   "metadata": {},
   "outputs": [
    {
     "name": "stdout",
     "output_type": "stream",
     "text": [
      "Se han ejecutado 10000 iteraciones\n",
      "La solución se encontró en la iteración: 4633\n",
      "La mejor solucion es: [59, 69, 75, 53, 44, 10, 87, 12, 73, 38, 94, 41, 51, 15, 9, 99, 46, 32, 17, 92, 64, 37, 55, 23, 65, 79, 20, 4, 62, 86, 11, 63, 72, 26, 14, 48, 35, 60, 83, 70, 98, 47, 43, 58, 85, 19, 40, 5, 96, 68, 45, 25, 50, 89, 74, 27, 33, 97, 7, 84, 21, 16, 67, 66, 88, 29, 95, 8, 81, 31, 30, 49, 93, 61, 1, 78, 34, 13, 2, 80, 56, 82, 6, 22, 36, 71, 18, 91, 52, 90, 54, 57, 39, 28, 76, 24, 42, 77, 3]\n",
      "El coste de la mejor solución es: 1663.1801510027726\n",
      "El tiempo que ha tardado es:  164.8315553665161\n"
     ]
    }
   ],
   "source": [
    "inicio = time.time() \n",
    "tabu(Localizaciones(filename='./data/grafo100cidades.txt'))\n",
    "delta_time = time.time() - inicio\n",
    "print(\"El tiempo que ha tardado es: \", delta_time)"
   ]
  },
  {
   "cell_type": "code",
   "execution_count": 18,
   "id": "134fdc3f-3f64-4fa6-8bc0-7ee214c78542",
   "metadata": {},
   "outputs": [
    {
     "name": "stdout",
     "output_type": "stream",
     "text": [
      "Se han ejecutado 10000 iteraciones\n",
      "La solución se encontró en la iteración: 4633\n",
      "La mejor solucion es: [59, 69, 75, 53, 44, 10, 87, 12, 73, 38, 94, 41, 51, 15, 9, 99, 46, 32, 17, 92, 64, 37, 55, 23, 65, 79, 20, 4, 62, 86, 11, 63, 72, 26, 14, 48, 35, 60, 83, 70, 98, 47, 43, 58, 85, 19, 40, 5, 96, 68, 45, 25, 50, 89, 74, 27, 33, 97, 7, 84, 21, 16, 67, 66, 88, 29, 95, 8, 81, 31, 30, 49, 93, 61, 1, 78, 34, 13, 2, 80, 56, 82, 6, 22, 36, 71, 18, 91, 52, 90, 54, 57, 39, 28, 76, 24, 42, 77, 3]\n",
      "El coste de la mejor solución es: 1663.1801510027726\n",
      "El tiempo que ha tardado es:  165.21723341941833\n"
     ]
    }
   ],
   "source": [
    "inicio = time.time() \n",
    "tabu(Localizaciones(filename='./data/grafo100cidades.txt'))\n",
    "delta_time = time.time() - inicio\n",
    "print(\"El tiempo que ha tardado es: \", delta_time)"
   ]
  },
  {
   "cell_type": "code",
   "execution_count": 176,
   "id": "b04e0c0e-2bee-469a-ba38-2e625be9d393",
   "metadata": {},
   "outputs": [
    {
     "name": "stdout",
     "output_type": "stream",
     "text": [
      "Se han ejecutado 10000 iteraciones\n",
      "La solución se encontró en la iteración: 2716\n",
      "La mejor solucion es: [13, 83, 69, 84, 37, 74, 64, 58, 11, 14, 113, 110, 2, 82, 71, 42, 50, 53, 3, 28, 93, 65, 27, 86, 47, 60, 9, 111, 49, 117, 52, 23, 26, 24, 41, 63, 75, 62, 55, 21, 34, 92, 17, 25, 103, 96, 46, 104, 88, 73, 70, 20, 7, 66, 18, 16, 59, 4, 35, 94, 99, 98, 56, 19, 31, 72, 54, 112, 87, 116, 29, 102, 44, 30, 45, 6, 76, 39, 106, 115, 61, 12, 67, 15, 118, 5, 95, 85, 33, 108, 48, 97, 57, 1, 36, 105, 40, 38, 8, 89, 119, 109, 81, 91, 78, 77, 10, 101, 79, 51, 32, 43, 90, 100, 68, 22, 107, 114, 80]\n",
      "El coste de la mejor solución es: 28792.038019097152\n",
      "El tiempo que ha tardado es:  238.25101113319397\n"
     ]
    }
   ],
   "source": [
    "inicio = time.time() \n",
    "tabu(Localizaciones(filename='./data/US120.txt'))\n",
    "delta_time = time.time() - inicio\n",
    "print(\"El tiempo que ha tardado es: \", delta_time)"
   ]
  },
  {
   "cell_type": "markdown",
   "id": "a981c2f1",
   "metadata": {
    "jp-MarkdownHeadingCollapsed": true
   },
   "source": [
    "### Preguntas sobre la especificación básica obligatoria (se responde al final del notebook)\n",
    "\n",
    "❓ **Pregunta 1**. Explica brevemente los detalles relevantes de tu código para entender tu implementación (p.ej., estructura de tu código, funciones, etc.)"
   ]
  },
  {
   "cell_type": "markdown",
   "id": "d2ae5035",
   "metadata": {},
   "source": [
    "❓ **Pregunta 2**. La parte experimental de la práctica consiste en realizar **10 ejecuciones diferentes** de la implementación realizada y reportar:\n",
    "- **Media y desviación** estándar de la mejor solución obtenida.\n",
    "- El **número de iteración** en el que se obtuvo la mejor solución (por lo que debéis mantener además de la solución óptima hasta el momento $S_{opt}$, la iteración en la que se obtiene). \n",
    "- El **tiempo de ejecución** del algoritmo (en las nociones previas se explica cómo hacer esto)."
   ]
  },
  {
   "cell_type": "markdown",
   "id": "f9c05313",
   "metadata": {},
   "source": [
    "\n",
    "\n"
   ]
  },
  {
   "cell_type": "markdown",
   "id": "ac8d9805",
   "metadata": {
    "jp-MarkdownHeadingCollapsed": true
   },
   "source": [
    " \n",
    "## P2.2: Mejoras del algoritmo de Búsqueda Tabú (especificación opcional, 4pts)\n",
    "En este apartado el objetivo es aplicar la resolución del problema que acabáis de programar a un nuevo conjunto de 120 localizaciones tomadas del archivo de [50.000 lugares históricos del Registro Nacional de los EE.UU](http://www.math.uwaterloo.ca/tsp/us/data.html), tal y como se describe en la web del [Traveller Salesman Problem (TSP)](http://www.math.uwaterloo.ca/tsp/) del [Department of Combinatorics and Optimization](https://uwaterloo.ca/combinatorics-and-optimization/) de la University of Waterloo CA [(Prof. William Cook)](http://www.math.uwaterloo.ca/~bico/).\n",
    "Para evitar problemas de tiempo excesivo de cómputo, reduciremos el problema a 120 localizaciones que se indican en el fichero **US120.txt**.\n",
    "\n",
    "**NOTA:** Si alguno de vosotros quiere realizar pruebas con todos los lugares indicados, puede obtener el fichero de texto original en el [siguiente enlace](http://www.math.uwaterloo.ca/tsp/us/files/us50000_latlong.txt).\n",
    "\n",
    "\n",
    "En esta sección el objetivo es realizar mejoras al algoritmo desarrollado previamente, de acuerdo a lo visto en las clases expositivas. Podrá modificarse cualquier parámetro u operador, como por ejemplo:\n",
    "- **Generación de la solución inicial** (inicialización greedy, ...)\n",
    "- **Gestión de la lista tabú** con la inclusión de algún criterio de aspiración (por ejemplo excluir de la lista una solución si mejora a la mejor solución hasta el momento)\n",
    "- El **operador de generación de vecinos** (por ejemplo no considerar todos los pares de índices, cambiar el operador de generación, ...)\n",
    "- Utilizar **otras estrategias de reinicialización** por intensificación (por ejemplo reiniciar desde una solución aleatoria de un conjunto de las N mejores soluciones hasta ahora, restaurar la lista tabú, ...).\n",
    "- Cambiar la **estrategia de reinicialización para dar diversificación** con una estrategia de **memoria a largo plazo**. Como puede ser utilizar una matriz simétriza *frec* que almacene elnúmero de veces que cada par de ciudades han sido consecutivas en las soluciones aceptadas hasta el momento. Con esta matriz de frecuencias se podría realizar una inicialización voraz sobre una matriz de distancias modificada que incluya las frecuencias almacenadas en memoria y penalice los pares de ciudads con mayor frecuencia, incrementando ficticiamente su distancia:\n",
    "\n",
    "$$ D(i,j)_{MOD} = D(i,j) + \\mu (D_{MAX} - D_{min}) \\frac{frec(i,j)}{frec_{MAX}} $$\n",
    "\n",
    "- Utilizar un criterio de **oscilación estratégica** que alterne entre las estrategias de intensificación y diversificación**-"
   ]
  },
  {
   "cell_type": "markdown",
   "id": "0c0ccfd8",
   "metadata": {},
   "source": [
    "### Preguntas sobre la práctica optativa con las mejoras (se responde al final del notebook)\n",
    "\n",
    "❓ **Pregunta 3**. ¿Qué intervenciones de mejora te ha llevado a mejores resultados? Explica brevemente las mejoras o intervenciones de mejora realizadas, cómo la has implementado, porqué las consideras buenas para el problema y presenta tus conclusiones acompañadas de los resultados obtenidos.\n"
   ]
  },
  {
   "cell_type": "markdown",
   "id": "82f11936",
   "metadata": {},
   "source": [
    "---\n",
    "\n",
    "# Respuestas a las preguntas y evaluación\n",
    "\n",
    "**Recordatorio:** No olvides escribir tu nombre y apellidos en la segunda celda de este documento.\n",
    "La respuestas a las preguntas deben venir acompañadas de las implementaciones necesarias para su respuesta.\n",
    "\n",
    "## P2.1 Especificación obligatoria (6pt)\n",
    "\n",
    "La implementación básica se evaluará mediante un cuestionario automático de evaluación. Es también necesaria **realizar la implementación del algoritmo** y **responder a las preguntas 1 y 2** respectivamente. El cuestionario de evaluación lo realizarás en la primera sesión de la próxima práctica, y se centrará en la resolución por tu parte de diversas cuestiones prácticas relacionadas con la implementación realizada, pudiendo ser necesaria la ejecución, adaptación y modificación de la misma.\n",
    "\n",
    "Aclaración: Independientemente del cuestionario automático de evaluación, siempre considera que las preguntas planteadas en el notebook deben ser respondidas también. Esas preguntas generales están diseñadas para formarte, y te servián para razonar y reflexionar sobre el tema, así como también para fomentar una discusión constructiva con los docentes en caso de dudas.\n",
    "\n",
    "\n",
    "### **Pregunta 1** \n",
    "\n",
    "Explica brevemente los detalles relevantes de tu código para entender tu implementación (p.ej., estructura de tu código, funciones, etc.)\n",
    "\n",
    "*Incluye todas las celdas que consideres oportunas para que sea legible y fácil de seguir.*\n",
    "\n",
    "<div class=\"alert alert-block alert-danger\">\n",
    "    <b>NOTA:</b> ¿Cómo me aseguro de que mi implementación es correcta?\n",
    "    \n",
    "Es importante que para poder comprobar la correcta implementación de tu solución, tu código tenga en cuenta los siguientes elementos:\n",
    "-  Mantener en cada iteración la mejor solución encontrada hasta el momento y la iteración en la que se encontró\n",
    "-  Que puedas imprimir los elementos que se encuentran en la lista tabú\n",
    "-  Saber en qué iteraciones se llevaron a cabo los reinicios\n",
    "</div>\n",
    "\n",
    "<div class=\"alert alert-block alert-success\">\n",
    "<b>NOTA:</b>  Para verificar tu implementación, debes utilizar el fichero de localizaciones de los 100 concellos gallegos (grafo100cidades.txt). Puedes utilizar como prueba para verificar que la implementaición es correcta inicialmente, el fichero de localizaciones de 8 ciudades gallegas (grafo8cidades.txt). La solución óptima resuelta con una búsqueda informada como A* se situa en torno a los 382km para el problema de prueba con 8 ciudades.\n",
    "</div>\n",
    "    \n",
    "<div class=\"alert alert-block alert-success\">    \n",
    "<b>AYUDA EXTRA</b>: Si quieres comprobar la implementación de tu práctica puedes probar a utilizar como solución inicial la solución siguiente (pasándosela directamente a la función que implementa el algoritmo de búsqueda tabú):\n",
    "    \n",
    "<b> Solución inicial: </b> \n",
    "- [77, 9, 43, 73, 2, 53, 12, 83, 92, 33, 50, 63, 54, 59, 64, 74, 55, 14, 35, 5, 58, 87, 37, 7, 69, 79, 89, 21, 23, 80, 20, 56, 75, 68, 27, 95, 78, 25, 88, 51, 47, 91, 49, 60, 13, 36, 70, 42, 11, 22, 40, 72, 28, 97, 19, 71, 29, 90, 85, 76, 16, 24, 81, 84, 34, 8, 31, 38, 67, 45, 44, 32, 96, 10, 61, 94, 17, 18, 93, 30, 52, 66, 99, 26, 46, 39, 15, 86, 41, 4, 62, 1, 48, 82, 57, 98, 3, 65, 6]\n",
    "\n",
    "Como resultados, deberías obtener los siguientes:\n",
    "- <b>Mejor solución:</b> [59, 69, 75, 53, 44, 10, 87, 12, 73, 38, 94, 41, 51, 15, 9, 99, 46, 32, 17, 92, 64, 37, 55, 23, 65, 79, 20, 4, 62, 86, 11, 63, 72, 26, 14, 48, 35, 60, 83, 70, 98, 47, 43, 58, 85, 19, 40, 5, 96, 68, 45, 25, 50, 89, 74, 27, 33, 97, 7, 84, 21, 16, 67, 66, 88, 29, 95, 8, 81, 31, 30, 49, 93, 61, 1, 78, 34, 13, 2, 80, 56, 82, 6, 22, 36, 71, 18, 91, 52, 90, 54, 57, 39, 28, 76, 24, 42, 77, 3]\n",
    "- <b> Coste de la solución: </b> 1663.18\n",
    "- <b>Iteración en la que se encuentra la mejor solución (empezando a contar en 1):</b> 4633\n",
    "    \n",
    "    \n",
    "    \n",
    "<b>Prueba adicional con el fichero de grafo50cidadesA.txt</b>:\n",
    "    \n",
    "<b> Solución inicial: </b> \n",
    "- [25, 6, 43, 23, 13, 47, 4, 11, 46, 41, 15, 38, 21, 26, 14, 42, 49, 32, 33, 3, 12, 20, 8, 48, 39, 28, 37, 45, 36, 2, 17, 9, 31, 29, 7, 24, 1, 5, 18, 35, 44, 22, 16, 30, 34, 10, 40, 19, 27]\n",
    "\n",
    "Como resultados, deberías obtener los siguientes:\n",
    "- <b>Mejor solución:</b> [16, 21, 28, 23, 37, 39, 7, 2, 34, 13, 38, 27, 33, 6, 22, 20, 4, 32, 17, 46, 18, 36, 11, 26, 14, 9, 15, 41, 48, 25, 45, 35, 5, 40, 19, 47, 43, 12, 49, 1, 31, 30, 10, 44, 8, 29, 3, 42, 24]\n",
    "- <b> Coste de la solución: </b> 1032.76\n",
    "- <b>Iteración en la que se encuentra la mejor solución (empezando a contar en 1):</b> 4280\n",
    "</div>\n",
    "\n",
    "\n"
   ]
  },
  {
   "cell_type": "markdown",
   "id": "1fa1c83d-c8ff-4152-a4cf-59ae58bb71b3",
   "metadata": {},
   "source": [
    "### Código implementación base\n"
   ]
  },
  {
   "cell_type": "code",
   "execution_count": null,
   "id": "38700b07-3036-4a33-a1ff-421a7bd00898",
   "metadata": {},
   "outputs": [],
   "source": [
    "# funcion de generacion de solucion inicial\n",
    "import random\n",
    "def gen_initial_solution(Loc):\n",
    "    vector = [x for x in range (1,Loc.nciudades)] # Todas las posibles ciudades a añadir a initial_solution\n",
    "    random_value = random.randint(0, Loc.nciudades-2) # Primera posible ciudad \n",
    "    initial_solution = []; # Inicio en 0 siempre\n",
    "    while(len(initial_solution) != Loc.nciudades-1): # Mientras no se hayan acabado las ciudades\n",
    "        \n",
    "        if(vector[random_value] != 0): # Si no se ha añadido la ciudad\n",
    "            initial_solution.append(vector[random_value])\n",
    "            vector[random_value] = 0 # Marcar como añadida la ciudad\n",
    "            \n",
    "        random_value = random.randint(0, Loc.nciudades-2)\n",
    "    return initial_solution \n",
    "    "
   ]
  },
  {
   "cell_type": "code",
   "execution_count": null,
   "id": "19908867-0595-447b-8cd3-afcbd23fff32",
   "metadata": {},
   "outputs": [],
   "source": [
    "# funcion de generacion de vencindario\n",
    "from itertools import permutations\n",
    "def gen_neighbours(sol_act):\n",
    "    n = len(sol_act)\n",
    "    indices = list(range(n))\n",
    "    vecinos = []\n",
    "\n",
    "    for perm in permutations(indices, 2):\n",
    "        i, j = perm\n",
    "        if i < j:\n",
    "            vecinos.append([i,j])\n",
    "            \n",
    "    return vecinos\n",
    "    "
   ]
  },
  {
   "cell_type": "code",
   "execution_count": null,
   "id": "442da9c1-76f4-4713-ab17-1e6b29a69b2c",
   "metadata": {},
   "outputs": [],
   "source": [
    "def cost(sol_act, Loc):\n",
    "    cost=0\n",
    "    aux = [0] + sol_act + [0]\n",
    "    for i in range(0,len(aux)-1):\n",
    "        cost+= Loc.distancia(aux[i], aux[i+1])\n",
    "    return cost;"
   ]
  },
  {
   "cell_type": "code",
   "execution_count": null,
   "id": "ad228ab9-0e80-49d7-97ba-2fd26a2a19ee",
   "metadata": {},
   "outputs": [],
   "source": [
    "def cost_vecino(coste, sol_act, intercambio, Loc):\n",
    "    i, j = intercambio\n",
    "    aux= [0] + sol_act + [0]\n",
    "    i+=1\n",
    "    j+=1\n",
    "    \n",
    "    coste_nuevo = coste - Loc.distancia(aux[i-1], aux[i]) - Loc.distancia(aux[i], aux[i+1])- Loc.distancia(aux[j-1], aux[j]) - Loc.distancia(aux[j], aux[j+1]) #Elimino rutas que ya no voy a hacer\n",
    "    aux[i], aux[j] = aux[j], aux[i] # Genero el intercambio\n",
    "    coste_nuevo = coste_nuevo + Loc.distancia(aux[i-1], aux[i]) + Loc.distancia(aux[i], aux[i+1]) + Loc.distancia(aux[j-1], aux[j]) + Loc.distancia(aux[j], aux[j+1])\n",
    "    \n",
    "    return coste_nuevo\n",
    "\n"
   ]
  },
  {
   "cell_type": "code",
   "execution_count": null,
   "id": "be70a575-a965-470f-967b-5b608704b89d",
   "metadata": {},
   "outputs": [],
   "source": [
    "def remove_first(lista_tabu):\n",
    "    return lista_tabu[1:]"
   ]
  },
  {
   "cell_type": "code",
   "execution_count": 181,
   "id": "d925ce44",
   "metadata": {},
   "outputs": [],
   "source": [
    "# funcion que implementa el algoritmo búsqueda tabú\n",
    "def tabu(loc):\n",
    "    lista_tabu = []\n",
    "    max_size_lista_tabu = 100\n",
    "        \n",
    "    s0 = gen_initial_solution(loc)\n",
    "    #s0 = gen_initial_solution(loc)  \n",
    "    #s0= [25, 6, 43, 23, 13, 47, 4, 11, 46, 41, 15, 38, 21, 26, 14, 42, 49, 32, 33, 3, 12, 20, 8, 48, 39, 28, 37, 45, 36, 2, 17, 9, 31, 29, 7, 24, 1, 5, 18, 35, 44, 22, 16, 30, 34, 10, 40, 19, 27]\n",
    "    #s0=[77, 9, 43, 73, 2, 53, 12, 83, 92, 33, 50, 63, 54, 59, 64, 74, 55, 14, 35, 5, 58, 87, 37, 7, 69, 79, 89, 21, 23, 80, 20, 56, 75, 68, 27, 95, 78, 25, 88, 51, 47, 91, 49, 60, 13, 36, 70, 42, 11, 22, 40, 72, 28, 97, 19, 71, 29, 90, 85, 76, 16, 24, 81, 84, 34, 8, 31, 38, 67, 45, 44, 32, 96, 10, 61, 94, 17, 18, 93, 30, 52, 66, 99, 26, 46, 39, 15, 86, 41, 4, 62, 1, 48, 82, 57, 98, 3, 65, 6]\n",
    "    s0=[12, 112, 59, 94, 105, 41, 73, 78, 111, 93, 61, 90, 24, 83, 109, 30, 33, 39, 113, 9, 60, 50, 91, 82, 79, 104, 7, 23, 118, 86, 117, 67, 47, 11, 8, 18, 77, 48, 96, 53, 88, 4, 14, 2, 52, 17, 71, 102, 106, 98, 63, 34, 87, 36, 97, 56, 22, 115, 26, 28, 42, 15, 101, 31, 21, 65, 44, 85, 1, 16, 37, 89, 84, 108, 5, 3, 6, 70, 66, 116, 110, 68, 76, 25, 51, 35, 72, 32, 54, 46, 103, 57, 95, 13, 64, 99, 27, 58, 69, 45, 43, 19, 10, 20, 29, 49, 80, 75, 107, 74, 92, 100, 55, 38, 114, 81, 62, 40, 119]\n",
    "    coste_solucion_aux = cost(s0, loc)\n",
    "    coste_solucion_actual = coste_solucion_aux\n",
    "    \n",
    "    solucion_actual = s0.copy()\n",
    "    solucion_mejor = s0.copy()\n",
    "    \n",
    "    coste_solucion_mejor = float('inf')\n",
    "    \n",
    "    it = 0\n",
    "    r = 0\n",
    "    k = 0\n",
    "\n",
    "    while k < 10000:\n",
    "        k += 1\n",
    "        \n",
    "        vecinos = gen_neighbours(solucion_actual)\n",
    "\n",
    "        solucion_aux = solucion_actual.copy()\n",
    "        coste_solucion_aux = coste_solucion_actual    \n",
    "\n",
    "        coste_solucion_actual = float('inf')\n",
    "\n",
    "        for par in vecinos:\n",
    "            vecino = solucion_aux.copy()\n",
    "            vecino[par[0]], vecino[par[1]] = vecino[par[1]], vecino[par[0]]\n",
    "            \n",
    "            coste_vecino = cost_vecino(coste_solucion_aux, solucion_aux, par, loc)\n",
    "\n",
    "            if (par not in lista_tabu) and (coste_vecino < coste_solucion_actual):\n",
    "                solucion_actual = vecino\n",
    "                coste_solucion_actual = coste_vecino\n",
    "                pos = par \n",
    "\n",
    "        if coste_solucion_actual == float('inf'):\n",
    "            k += 1\n",
    "            break\n",
    "\n",
    "        if coste_solucion_actual < coste_solucion_mejor:\n",
    "            solucion_mejor = solucion_actual\n",
    "            coste_solucion_mejor = coste_solucion_actual\n",
    "            it = k\n",
    "            r = 0\n",
    "        else:\n",
    "            r += 1\n",
    "\n",
    "        if r == 1000:\n",
    "            lista_tabu = []\n",
    "            solucion_actual = solucion_mejor\n",
    "            coste_solucion_actual = coste_solucion_mejor\n",
    "            r = 0\n",
    "\n",
    "        lista_tabu.append(pos)\n",
    "\n",
    "        if len(lista_tabu) > max_size_lista_tabu:\n",
    "            lista_tabu = remove_first(lista_tabu) \n",
    "\n",
    "    print(\"Se han ejecutado\", k, \"iteraciones\")\n",
    "    print(\"La solución se encontró en la iteración:\", it)\n",
    "    print(\"La mejor solucion es:\", solucion_mejor)\n",
    "    print(\"El coste de la mejor solución es:\", coste_solucion_mejor)\n",
    "    return k, it, solucion_mejor, coste_solucion_mejor\n",
    "\n",
    "\n"
   ]
  },
  {
   "cell_type": "code",
   "execution_count": 178,
   "id": "5a067f24-f00b-4752-a298-4c90ca8b28c7",
   "metadata": {},
   "outputs": [
    {
     "name": "stdout",
     "output_type": "stream",
     "text": [
      "Se han ejecutado 10000 iteraciones\n",
      "La solución se encontró en la iteración: 4280\n",
      "La mejor solucion es: [16, 21, 28, 23, 37, 39, 7, 2, 34, 13, 38, 27, 33, 6, 22, 20, 4, 32, 17, 46, 18, 36, 11, 26, 14, 9, 15, 41, 48, 25, 45, 35, 5, 40, 19, 47, 43, 12, 49, 1, 31, 30, 10, 44, 8, 29, 3, 42, 24]\n",
      "El coste de la mejor solución es: 1032.7605049585536\n",
      "El tiempo que ha tardado es:  32.38981032371521\n"
     ]
    }
   ],
   "source": [
    "inicio = time.time() \n",
    "tabu(Localizaciones(filename='./data/grafo50cidadesA.txt'))\n",
    "delta_time = time.time() - inicio\n",
    "print(\"El tiempo que ha tardado es: \", delta_time)"
   ]
  },
  {
   "cell_type": "code",
   "execution_count": 180,
   "id": "fb68397f-adab-4325-9b08-67bb1dbe9d0a",
   "metadata": {},
   "outputs": [
    {
     "name": "stdout",
     "output_type": "stream",
     "text": [
      "Se han ejecutado 10000 iteraciones\n",
      "La solución se encontró en la iteración: 4633\n",
      "La mejor solucion es: [59, 69, 75, 53, 44, 10, 87, 12, 73, 38, 94, 41, 51, 15, 9, 99, 46, 32, 17, 92, 64, 37, 55, 23, 65, 79, 20, 4, 62, 86, 11, 63, 72, 26, 14, 48, 35, 60, 83, 70, 98, 47, 43, 58, 85, 19, 40, 5, 96, 68, 45, 25, 50, 89, 74, 27, 33, 97, 7, 84, 21, 16, 67, 66, 88, 29, 95, 8, 81, 31, 30, 49, 93, 61, 1, 78, 34, 13, 2, 80, 56, 82, 6, 22, 36, 71, 18, 91, 52, 90, 54, 57, 39, 28, 76, 24, 42, 77, 3]\n",
      "El coste de la mejor solución es: 1663.1801510027726\n",
      "El tiempo que ha tardado es:  161.2503788471222\n"
     ]
    }
   ],
   "source": [
    "inicio = time.time() \n",
    "tabu(Localizaciones(filename='./data/grafo100cidades.txt'))\n",
    "delta_time = time.time() - inicio\n",
    "print(\"El tiempo que ha tardado es: \", delta_time)"
   ]
  },
  {
   "cell_type": "code",
   "execution_count": 182,
   "id": "a3f860bc-7bed-4fab-ab33-42e80d7b385e",
   "metadata": {},
   "outputs": [
    {
     "name": "stdout",
     "output_type": "stream",
     "text": [
      "Se han ejecutado 10000 iteraciones\n",
      "La solución se encontró en la iteración: 2716\n",
      "La mejor solucion es: [13, 83, 69, 84, 37, 74, 64, 58, 11, 14, 113, 110, 2, 82, 71, 42, 50, 53, 3, 28, 93, 65, 27, 86, 47, 60, 9, 111, 49, 117, 52, 23, 26, 24, 41, 63, 75, 62, 55, 21, 34, 92, 17, 25, 103, 96, 46, 104, 88, 73, 70, 20, 7, 66, 18, 16, 59, 4, 35, 94, 99, 98, 56, 19, 31, 72, 54, 112, 87, 116, 29, 102, 44, 30, 45, 6, 76, 39, 106, 115, 61, 12, 67, 15, 118, 5, 95, 85, 33, 108, 48, 97, 57, 1, 36, 105, 40, 38, 8, 89, 119, 109, 81, 91, 78, 77, 10, 101, 79, 51, 32, 43, 90, 100, 68, 22, 107, 114, 80]\n",
      "El coste de la mejor solución es: 28792.038019097152\n",
      "El tiempo que ha tardado es:  232.32444643974304\n"
     ]
    }
   ],
   "source": [
    "inicio = time.time() \n",
    "tabu(Localizaciones(filename='./data/US120.txt'))\n",
    "delta_time = time.time() - inicio\n",
    "print(\"El tiempo que ha tardado es: \", delta_time)"
   ]
  },
  {
   "cell_type": "markdown",
   "id": "214a8163",
   "metadata": {
    "jp-MarkdownHeadingCollapsed": true
   },
   "source": [
    "###  **Pregunta 2**\n",
    "\n",
    "La parte experimental de la práctica consiste en realizar **10 ejecuciones diferentes** de la implementación realizada y reportar:\n",
    "- **Media y desviación** estándar de las soluciones obtenidas.\n",
    "- El **número de iteración** en el que se obtuvo la mejor solución (por lo que debéis mantener además de la solución óptima hasta el momento $S_{opt}$, la iteración en la que se obtiene). \n",
    "- El **tiempo de ejecución** del algoritmo (en las nociones previas se explica cómo hacer esto).\n",
    "\n",
    "*Incluye todas las celdas que consideres oportunas para que sea legible y fácil de seguir.*\n"
   ]
  },
  {
   "cell_type": "code",
   "execution_count": 166,
   "id": "8347e120",
   "metadata": {},
   "outputs": [],
   "source": [
    "# escribe aquí el código que utilizas para realizar la parte experimental de la práctica\n",
    "import time \n",
    "def pruebas(loc):\n",
    "    soluciones = []\n",
    "    costes = []\n",
    "    iteraciones_necesarias = []\n",
    "    mejores_iteraciones = []\n",
    "    tiempo_total = 0\n",
    "    tiempos = []\n",
    "\n",
    "    print(\"Pruebas para: \" ,loc.filename)\n",
    "    for i in range(0,10):\n",
    "        inicio = time.time() \n",
    "        resultado = tabu(loc)\n",
    "        delta_time = time.time() - inicio\n",
    "\n",
    "        print(\"La ejecucion \", i+1, \"ha tardado \" , delta_time)\n",
    "        tiempos.append(delta_time)\n",
    "\n",
    "        iteraciones_necesarias.append(resultado[0])\n",
    "        mejores_iteraciones.append(resultado[1])\n",
    "        soluciones.append(resultado[2])\n",
    "        costes.append(resultado[3])\n",
    "\n",
    "        tiempo_total+=delta_time\n",
    "\n",
    "    print(\"Las iteraciones necesarias son: \", iteraciones_necesarias)\n",
    "    print(\"Las mejores iteraciones son: \", mejores_iteraciones)\n",
    "    print(\"La media de las mejores iteraciones es: \", statistics.mean(mejores_iteraciones))\n",
    "    print(\"La desviacion de las mejores iteraciones es: \", statistics.stdev(mejores_iteraciones))\n",
    "    print(\"Las soluciones son: \", soluciones)\n",
    "    print(\"Los costes son: \", costes)\n",
    "    print(\"La media de los costes es: \", statistics.mean(costes))\n",
    "    print(\"La desviacion de los costes es: \", statistics.stdev(costes))\n",
    "    print(\"Los tiempos son: \", tiempos)\n",
    "    print(\"La media de los tiempos es: \", statistics.mean(tiempos))\n",
    "    print(\"La desviacion de los tiempos es: \", statistics.stdev(tiempos))"
   ]
  },
  {
   "cell_type": "code",
   "execution_count": 167,
   "id": "154eb8d9-82f7-456c-ae80-2510683197ca",
   "metadata": {
    "scrolled": true
   },
   "outputs": [
    {
     "name": "stdout",
     "output_type": "stream",
     "text": [
      "Pruebas para:  ./data/grafo50cidadesA.txt\n",
      "Se han ejecutado 10000 iteraciones\n",
      "La solución se encontró en la iteración: 3785\n",
      "La mejor solucion es: [16, 21, 28, 39, 23, 37, 20, 4, 32, 17, 46, 18, 36, 22, 6, 33, 27, 14, 26, 11, 9, 15, 41, 48, 35, 25, 45, 38, 2, 7, 34, 13, 5, 40, 19, 47, 43, 12, 49, 1, 31, 30, 10, 44, 8, 29, 3, 42, 24]\n",
      "El coste de la mejor solución es: 1025.6143710256495\n",
      "La ejecucion  1 ha tardado  40.00483179092407\n",
      "Se han ejecutado 10000 iteraciones\n",
      "La solución se encontró en la iteración: 3785\n",
      "La mejor solucion es: [16, 21, 28, 39, 23, 37, 20, 4, 32, 17, 46, 18, 36, 22, 6, 33, 27, 14, 26, 11, 9, 15, 41, 48, 35, 25, 45, 38, 2, 7, 34, 13, 5, 40, 19, 47, 43, 12, 49, 1, 31, 30, 10, 44, 8, 29, 3, 42, 24]\n",
      "El coste de la mejor solución es: 1025.6143710256495\n",
      "La ejecucion  2 ha tardado  40.02687931060791\n",
      "Se han ejecutado 10000 iteraciones\n",
      "La solución se encontró en la iteración: 3785\n",
      "La mejor solucion es: [16, 21, 28, 39, 23, 37, 20, 4, 32, 17, 46, 18, 36, 22, 6, 33, 27, 14, 26, 11, 9, 15, 41, 48, 35, 25, 45, 38, 2, 7, 34, 13, 5, 40, 19, 47, 43, 12, 49, 1, 31, 30, 10, 44, 8, 29, 3, 42, 24]\n",
      "El coste de la mejor solución es: 1025.6143710256495\n",
      "La ejecucion  3 ha tardado  40.34101343154907\n",
      "Se han ejecutado 10000 iteraciones\n",
      "La solución se encontró en la iteración: 3785\n",
      "La mejor solucion es: [16, 21, 28, 39, 23, 37, 20, 4, 32, 17, 46, 18, 36, 22, 6, 33, 27, 14, 26, 11, 9, 15, 41, 48, 35, 25, 45, 38, 2, 7, 34, 13, 5, 40, 19, 47, 43, 12, 49, 1, 31, 30, 10, 44, 8, 29, 3, 42, 24]\n",
      "El coste de la mejor solución es: 1025.6143710256495\n",
      "La ejecucion  4 ha tardado  41.018285274505615\n",
      "Se han ejecutado 10000 iteraciones\n",
      "La solución se encontró en la iteración: 3785\n",
      "La mejor solucion es: [16, 21, 28, 39, 23, 37, 20, 4, 32, 17, 46, 18, 36, 22, 6, 33, 27, 14, 26, 11, 9, 15, 41, 48, 35, 25, 45, 38, 2, 7, 34, 13, 5, 40, 19, 47, 43, 12, 49, 1, 31, 30, 10, 44, 8, 29, 3, 42, 24]\n",
      "El coste de la mejor solución es: 1025.6143710256495\n",
      "La ejecucion  5 ha tardado  40.055660009384155\n",
      "Se han ejecutado 10000 iteraciones\n",
      "La solución se encontró en la iteración: 3785\n",
      "La mejor solucion es: [16, 21, 28, 39, 23, 37, 20, 4, 32, 17, 46, 18, 36, 22, 6, 33, 27, 14, 26, 11, 9, 15, 41, 48, 35, 25, 45, 38, 2, 7, 34, 13, 5, 40, 19, 47, 43, 12, 49, 1, 31, 30, 10, 44, 8, 29, 3, 42, 24]\n",
      "El coste de la mejor solución es: 1025.6143710256495\n",
      "La ejecucion  6 ha tardado  39.80332589149475\n",
      "Se han ejecutado 10000 iteraciones\n",
      "La solución se encontró en la iteración: 3785\n",
      "La mejor solucion es: [16, 21, 28, 39, 23, 37, 20, 4, 32, 17, 46, 18, 36, 22, 6, 33, 27, 14, 26, 11, 9, 15, 41, 48, 35, 25, 45, 38, 2, 7, 34, 13, 5, 40, 19, 47, 43, 12, 49, 1, 31, 30, 10, 44, 8, 29, 3, 42, 24]\n",
      "El coste de la mejor solución es: 1025.6143710256495\n",
      "La ejecucion  7 ha tardado  40.16112542152405\n",
      "Se han ejecutado 10000 iteraciones\n",
      "La solución se encontró en la iteración: 3785\n",
      "La mejor solucion es: [16, 21, 28, 39, 23, 37, 20, 4, 32, 17, 46, 18, 36, 22, 6, 33, 27, 14, 26, 11, 9, 15, 41, 48, 35, 25, 45, 38, 2, 7, 34, 13, 5, 40, 19, 47, 43, 12, 49, 1, 31, 30, 10, 44, 8, 29, 3, 42, 24]\n",
      "El coste de la mejor solución es: 1025.6143710256495\n",
      "La ejecucion  8 ha tardado  39.86205744743347\n",
      "Se han ejecutado 10000 iteraciones\n",
      "La solución se encontró en la iteración: 3785\n",
      "La mejor solucion es: [16, 21, 28, 39, 23, 37, 20, 4, 32, 17, 46, 18, 36, 22, 6, 33, 27, 14, 26, 11, 9, 15, 41, 48, 35, 25, 45, 38, 2, 7, 34, 13, 5, 40, 19, 47, 43, 12, 49, 1, 31, 30, 10, 44, 8, 29, 3, 42, 24]\n",
      "El coste de la mejor solución es: 1025.6143710256495\n",
      "La ejecucion  9 ha tardado  40.129615783691406\n",
      "Se han ejecutado 10000 iteraciones\n",
      "La solución se encontró en la iteración: 3785\n",
      "La mejor solucion es: [16, 21, 28, 39, 23, 37, 20, 4, 32, 17, 46, 18, 36, 22, 6, 33, 27, 14, 26, 11, 9, 15, 41, 48, 35, 25, 45, 38, 2, 7, 34, 13, 5, 40, 19, 47, 43, 12, 49, 1, 31, 30, 10, 44, 8, 29, 3, 42, 24]\n",
      "El coste de la mejor solución es: 1025.6143710256495\n",
      "La ejecucion  10 ha tardado  39.21029186248779\n",
      "Las iteraciones necesarias son:  [10000, 10000, 10000, 10000, 10000, 10000, 10000, 10000, 10000, 10000]\n",
      "Las mejores iteraciones son:  [3785, 3785, 3785, 3785, 3785, 3785, 3785, 3785, 3785, 3785]\n",
      "La media de las mejores iteraciones es:  3785\n",
      "La desviacion de las mejores iteraciones es:  0.0\n",
      "Las soluciones son:  [[16, 21, 28, 39, 23, 37, 20, 4, 32, 17, 46, 18, 36, 22, 6, 33, 27, 14, 26, 11, 9, 15, 41, 48, 35, 25, 45, 38, 2, 7, 34, 13, 5, 40, 19, 47, 43, 12, 49, 1, 31, 30, 10, 44, 8, 29, 3, 42, 24], [16, 21, 28, 39, 23, 37, 20, 4, 32, 17, 46, 18, 36, 22, 6, 33, 27, 14, 26, 11, 9, 15, 41, 48, 35, 25, 45, 38, 2, 7, 34, 13, 5, 40, 19, 47, 43, 12, 49, 1, 31, 30, 10, 44, 8, 29, 3, 42, 24], [16, 21, 28, 39, 23, 37, 20, 4, 32, 17, 46, 18, 36, 22, 6, 33, 27, 14, 26, 11, 9, 15, 41, 48, 35, 25, 45, 38, 2, 7, 34, 13, 5, 40, 19, 47, 43, 12, 49, 1, 31, 30, 10, 44, 8, 29, 3, 42, 24], [16, 21, 28, 39, 23, 37, 20, 4, 32, 17, 46, 18, 36, 22, 6, 33, 27, 14, 26, 11, 9, 15, 41, 48, 35, 25, 45, 38, 2, 7, 34, 13, 5, 40, 19, 47, 43, 12, 49, 1, 31, 30, 10, 44, 8, 29, 3, 42, 24], [16, 21, 28, 39, 23, 37, 20, 4, 32, 17, 46, 18, 36, 22, 6, 33, 27, 14, 26, 11, 9, 15, 41, 48, 35, 25, 45, 38, 2, 7, 34, 13, 5, 40, 19, 47, 43, 12, 49, 1, 31, 30, 10, 44, 8, 29, 3, 42, 24], [16, 21, 28, 39, 23, 37, 20, 4, 32, 17, 46, 18, 36, 22, 6, 33, 27, 14, 26, 11, 9, 15, 41, 48, 35, 25, 45, 38, 2, 7, 34, 13, 5, 40, 19, 47, 43, 12, 49, 1, 31, 30, 10, 44, 8, 29, 3, 42, 24], [16, 21, 28, 39, 23, 37, 20, 4, 32, 17, 46, 18, 36, 22, 6, 33, 27, 14, 26, 11, 9, 15, 41, 48, 35, 25, 45, 38, 2, 7, 34, 13, 5, 40, 19, 47, 43, 12, 49, 1, 31, 30, 10, 44, 8, 29, 3, 42, 24], [16, 21, 28, 39, 23, 37, 20, 4, 32, 17, 46, 18, 36, 22, 6, 33, 27, 14, 26, 11, 9, 15, 41, 48, 35, 25, 45, 38, 2, 7, 34, 13, 5, 40, 19, 47, 43, 12, 49, 1, 31, 30, 10, 44, 8, 29, 3, 42, 24], [16, 21, 28, 39, 23, 37, 20, 4, 32, 17, 46, 18, 36, 22, 6, 33, 27, 14, 26, 11, 9, 15, 41, 48, 35, 25, 45, 38, 2, 7, 34, 13, 5, 40, 19, 47, 43, 12, 49, 1, 31, 30, 10, 44, 8, 29, 3, 42, 24], [16, 21, 28, 39, 23, 37, 20, 4, 32, 17, 46, 18, 36, 22, 6, 33, 27, 14, 26, 11, 9, 15, 41, 48, 35, 25, 45, 38, 2, 7, 34, 13, 5, 40, 19, 47, 43, 12, 49, 1, 31, 30, 10, 44, 8, 29, 3, 42, 24]]\n",
      "Los costes son:  [1025.6143710256495, 1025.6143710256495, 1025.6143710256495, 1025.6143710256495, 1025.6143710256495, 1025.6143710256495, 1025.6143710256495, 1025.6143710256495, 1025.6143710256495, 1025.6143710256495]\n",
      "La media de los costes es:  1025.6143710256495\n",
      "La desviacion de los costes es:  0.0\n",
      "Los tiempos son:  [40.00483179092407, 40.02687931060791, 40.34101343154907, 41.018285274505615, 40.055660009384155, 39.80332589149475, 40.16112542152405, 39.86205744743347, 40.129615783691406, 39.21029186248779]\n",
      "La media de los tiempos es:  40.06130862236023\n",
      "La desviacion de los tiempos es:  0.45259264456914533\n"
     ]
    }
   ],
   "source": [
    "pruebas(Localizaciones(filename='./data/grafo50cidadesA.txt'))"
   ]
  },
  {
   "cell_type": "markdown",
   "id": "fc1d87f6",
   "metadata": {
    "tags": []
   },
   "source": [
    "❗  **NOTA: sé conservador en tu estrategia para verificar tu implementación**, especialmente cuando empleas ficheros de datos grandes como el del problema de las 100 ciudades. Si dejas ejecutando tu algoritmo por un número elevado de iteraciones, puede resultarte útil medir el tiempo que tarda para tomar decisiones sobre donde establecer el límite. \n",
    "\n",
    "## P2.2 Implementación de las mejoras (4 pt)\n",
    "\n",
    "### **Pregunta 3** \n",
    "\n",
    "¿Qué intervenciones de mejora te ha llevado a mejores resultados? Prepara un informe en el que explices brevemente las mejoras o intervenciones de mejora realizadas, cómo las has implementado, y diseña un laboratorio para obtener resultados que te permitan explicar porqué las consideras buenas para el problema y soportar tus conclusiones acompañadas de los resultados obtenidos. (MAX. aprox. 1200 palabras)\n",
    "\n",
    "Aclaraciones: La evaluación de esta parte se llevará a cabo en términos de la completitud y correctitud del laboratorio implementado, así como de la calidad del propio informe, que debe ser conciso y preciso, pudiendo acompañarse de gráficas y tablas que faciliten y fundamenten la explicación e argumentación. Es muy importante explicar de manera clara, precisa y fundamentada. Se valorará más positivamente las intervenciones de mejora que tengan mayor dificultad de implementación que las triviales. Se reservará hasta un punto que se asignará en términos de la calidad de la mejor solución obtenida entre el conjunto de las prácticas entregadas (es por ello que no debes olvidar marcar en tu informe muy claramente cuál ha sido tu mejor solución y con qué configuración/versión).\n",
    "\n",
    "*Incluye todas las celdas que consideres oportunas para que sea legible y fácil de seguir*"
   ]
  },
  {
   "cell_type": "markdown",
   "id": "ecb6f2ac-b2a9-4d72-ae4c-b7ecbb0ba2e7",
   "metadata": {},
   "source": [
    "## Búsqueda Tabú mejorada\n",
    "\n",
    "Para este laboratorio se va a tratar de buscar mejoras en distintas partes del algoritmo inicial, con el fin de disminuir su complejidad temporal y de encontrar la mejor solución del problema. El intento de mejorar la complejidad temporal y de encontrar la mejor solución del problema, puede llegar a ser contradictorio ya que disminuyendo la complejidad temporal será más difícil encontrar la mejor solución del problema, por este motivo se va a tratar de buscar la solución óptima para el problema, que implica un equilibrio entre la una solución lo suficientemente buena y un coste temporal asumible. El coste medio de la soluciones óptimas para la implemetación base es 31.533 km.\n",
    "\n",
    "Con todo esto, se van a estudiar las siguientes partes del algoritmo:\n",
    "\n",
    "**Generación de la solución inicial:** Para la generación de una solución inicial se implementó una función manualmente *gen_initial_solution()*, pero esta se podría mejorar a través de funciones propias de python que ya están optimizadas para estas operaciones, de ahí se implementa la nueva función *gen_initial_solution_improved()* más sencilla y más rápida. Mientras que *gen_initial_solution()* tenia un coste medio temporal de 0.011592245101928711 segundos, *gen_initial_solution_improved()* tiene un coste medio temporal de 0.00844264030456543. En comparación, *gen_initial_solution_improved()* es hasta un 137% más rápida.\n",
    "\n",
    "<center><img src=\"./img/i1.png\"/></center>\n",
    "<br>\n",
    "\n",
    "Sin embargo, la generación de la solución inicial es totalmente aleatoria. En una aplicación real del algorimto esto no es del todo eficiente en cuanto al coste, se puede intentar comenzar con una solución inicial con un coste controlado, a pesar de necesitar más tiempo para calcularse. Para ello se ha desarrollado una función llamada *gen_initial_solution_improved_greedy*:\n",
    "``` python\n",
    "def gen_initial_solution_improved_greedy(loc):\n",
    "    solucion_inicial = []\n",
    "    parada = 0\n",
    "    nodo_actual = 0\n",
    "\n",
    "    while parada < loc.nciudades - 1:\n",
    "        mejor_distancia = float('inf')\n",
    "        for siguiente_nodo in range(1, loc.nciudades):\n",
    "            if siguiente_nodo not in solucion_inicial:\n",
    "                distancia = loc.distancia(nodo_actual, siguiente_nodo)\n",
    "                if distancia < mejor_distancia:\n",
    "                    mejor_distancia = distancia\n",
    "                    mejor_siguiente_nodo = siguiente_nodo\n",
    "\n",
    "        solucion_inicial.append(mejor_siguiente_nodo)\n",
    "        nodo_actual = mejor_siguiente_nodo\n",
    "        parada += 1\n",
    "\n",
    "    return solucion_inicial\n",
    "```\n",
    "Los resultados son muy satisfactorios en cuanto al coste. Con las funciones anteriores se obtenían soluciones con costes muy variables en un tiempo muy satisfactorio. Por ejemplo, una solución generada con la función *gen_initial_solution_improved()* es [12, 112, 59, 94, 105, 41, 73, 78, 111, 93, 61, 90, 24, 83, 109, 30, 33, 39, 113, 9, 60, 50, 91, 82, 79, 104, 7, 23, 118, 86, 117, 67, 47, 11, 8, 18, 77, 48, 96, 53, 88, 4, 14, 2, 52, 17, 71, 102, 106, 98, 63, 34, 87, 36, 97, 56, 22, 115, 26, 28, 42, 15, 101, 31, 21, 65, 44, 85, 1, 16, 37, 89, 84, 108, 5, 3, 6, 70, 66, 116, 110, 68, 76, 25, 51, 35, 72, 32, 54, 46, 103, 57, 95, 13, 64, 99, 27, 58, 69, 45, 43, 19, 10, 20, 29, 49, 80, 75, 107, 74, 92, 100, 55, 38, 114, 81, 62, 40, 119] con un coste de 184657.80912676253 km, mientras que la nueva función siempre genera la misma solución para el problema, ya que siempre utiliza la misma estrategia greedy de escoger la ciudad más cercana y que no haya sido visitada, esta solución es [91, 81, 109, 119, 89, 8, 40, 38, 105, 36, 42, 4, 59, 16, 35, 94, 18, 66, 3, 53, 50, 64, 74, 37, 84, 2, 69, 83, 82, 13, 78, 80, 114, 107, 77, 10, 101, 79, 51, 22, 68, 90, 100, 43, 32, 71, 110, 113, 14, 58, 11, 62, 75, 63, 41, 24, 21, 55, 28, 93, 65, 27, 86, 47, 60, 9, 111, 20, 49, 25, 17, 92, 34, 117, 52, 23, 103, 96, 70, 73, 88, 31, 72, 54, 112, 95, 85, 33, 108, 48, 97, 57, 6, 45, 30, 102, 44, 76, 39, 29, 116, 87, 5, 118, 15, 67, 12, 61, 115, 106, 1, 98, 99, 56, 7, 19, 104, 46, 26] con un coste de 27033.84988200304 km, casi 7 veces menor que la anterior. Aún consiguiendo una mejor solución, su coste temporal no es muy alto, ya que tarda 0.01328890323638916 segundos, similar a la primera implementación *gen_initial_solution* y aun que es peor que la *gen_initial_solution_improved*, esta función solo se ejecuta al principio del algoritmo por lo que no es un tiempo relevante. \n",
    "\n",
    "**Gestión de la lista tabú:** Para la lista tabu en el algoritmo base se ha tomado una tenencia tabú, de valor 100 para todos los problemas. Esto no es del todo eficiente, ya que no todos los problemas tienen el mismo tamaño, este tamaño debería ser adaptativo al problema. Alguna de las soluciones estudiadas podrían ser: tenencia tabú = 3 * n o tenencia tabú = n / 3. Sin embargo, hay que ser precavidos con tu tamaño, ya que cuanto mayor sea esta, mayor coste temporal ya que cada comprobación, de si el movimiento ya se ha analizado, implica recorrer una lista tabú más larga. En la siguientes gráficas se puede ver como evoluciona el coste de la solución óptima en función el tamaño de la tenencia tabú de la lista tabú, así como el coste temporal de calcular dicha solución.\n",
    "\n",
    "<center><img src=\"./img/i5.png\"/></center>\n",
    "<br>\n",
    "\n",
    "Es fácil concluir que se neceita un balance entre el coste y el tiempo necesario, de esta forma se tomará como tenencia tabú, n =~ 100 que representa un 20% aproximandamente sobre el tamaño total del problema, ya que es la que mejor coste obtenido y su tiempo es muy inferior de la media total de todos los tiempos que son 309.94 segundos de media y el coste temporal para esta tenencia tabú es de 226.41 segundos.\n",
    "\n",
    "**El operador de generación de vecinos:** Para generar el entorno o los vecinos de la solución actual en la implementación base se utilizó el operador de intercambio, generando todas las permutaciones posibles sobre la solución actual, obviamente no se puede intercambiar la posición inicial ni final. Esta opción es muy completa permitiendo explorar todos los vecinos. Con la finalidad de mejorar los vecinos y generando una mayor diversificación se desarrollo una alternativa que se basaba en el intercambio de tres posiciones. La implemetación de esta alternativa es la siguiente:\n",
    " ``` python\n",
    "from itertools import permutations\n",
    "def gen_neighbours(sol_act):\n",
    "    n = len(sol_act)\n",
    "    indices = list(range(n))\n",
    "    vecinos = []\n",
    "\n",
    "    for perm in permutations(indices, 3):\n",
    "        i, j,k = perm\n",
    "        if i < j and j < k:\n",
    "            vecinos.append([i,j,k])\n",
    "    return vecinos\n",
    "```\n",
    "Se procedió a realizar un estudio sobre ella, al incluirla en la implemetación ya desarrollada previamente. Posteriormente, no quedó otra que descartarla por su alto coste computacional, ya que genera permutaciones de tamaño tres sobre cada una de las soluciones actuales. Para hacerse una idea en un problema de tamaño 50 como el *grafo50cidadesA* para cada solución actual se generán 18.424 permutaciones, mientras que utilizando solo las permutaciones de dos posiciones se generan 1.176. Por esta razón se mantuvo la implementación base. Si se dispusiese de más tiempo se podría diseñar una heurística para recuperar aquellos vecinos más prometedores y no el total de ellos.\n",
    "\n",
    "**Estrategia de reinicialización para dar diversificación con una estrategia de memoria a largo plazo:** Para tratar de mejorar la estrategia de reinicialización que se utiliza en la implementación base, se ha diseñado una matriz de frecuencia que almacena el número de veces que se ha visitado una ciudad, y aumentar el coste de ir a dicha ciudad para tratar de diversificar y explorar más caminos. La implemetación que se ha desarrollado es la que se puede ver en el último apartado de las mejoras **Búsqueda Tabú mejorada: Estrategia de reinicialización para dar diversificación con una estrategia de memoria a largo plazo**.\n",
    "\n",
    "A pesar de ser una implementación más compleja de implementar, los resultados no son los esperados, ya que el coste de su solución óptima es ligeramente mayor con respecto a la reinicialización inicial:\n",
    "<center><img src=\"./img/i6.png\"/></center>\n",
    "<br>\n",
    "\n",
    "En conclusión, muchas de las posibles mejoras no han resultado efecto, incluso algunas con una mayor complejidad de diseño e implementación. De todos modos las mejoras de forma general han surtido efecto, ya que se ha mantenido el coste temporal lo máximo posible y se ha mejorado el coste desde un coste medio de 31.533 km en la implementación base, hasta un coste medio de 25619.98 km en la implementación con mejoras. La mejora que mayor impacto ha tenido es la generación de una solución inicial greedy, que junto a una tenencia tabú óptima han conseguido reducir el coste en un 18.78% de media sobre el coste de la  implementación base."
   ]
  },
  {
   "cell_type": "markdown",
   "id": "b22d1c6b-69e8-4619-9dc7-260ff3d356ee",
   "metadata": {},
   "source": [
    "### Búsqueda Tabú mejorada: Implementación"
   ]
  },
  {
   "cell_type": "code",
   "execution_count": 183,
   "id": "2de829f0-95cf-4977-8819-1b5e11235b5b",
   "metadata": {},
   "outputs": [],
   "source": [
    "def cost(sol_act, Loc):\n",
    "    cost=0\n",
    "    aux = [0] + sol_act + [0]\n",
    "    for i in range(0,len(aux)-1):\n",
    "        cost+= Loc.distancia(aux[i], aux[i+1])\n",
    "    return cost;"
   ]
  },
  {
   "cell_type": "code",
   "execution_count": 184,
   "id": "fde35704-3f5b-4e73-9554-5f752243095b",
   "metadata": {},
   "outputs": [],
   "source": [
    "def cost_vecino(coste, sol_act, intercambio, Loc):\n",
    "    i, j = intercambio\n",
    "    aux= [0] + sol_act + [0]\n",
    "    i+=1\n",
    "    j+=1\n",
    "    \n",
    "    coste_nuevo = coste - Loc.distancia(aux[i-1], aux[i]) - Loc.distancia(aux[i], aux[i+1])- Loc.distancia(aux[j-1], aux[j]) - Loc.distancia(aux[j], aux[j+1]) #Elimino rutas que ya no voy a hacer\n",
    "    aux[i], aux[j] = aux[j], aux[i] # Genero el intercambio\n",
    "    coste_nuevo = coste_nuevo + Loc.distancia(aux[i-1], aux[i]) + Loc.distancia(aux[i], aux[i+1]) + Loc.distancia(aux[j-1], aux[j]) + Loc.distancia(aux[j], aux[j+1])\n",
    "    \n",
    "    return coste_nuevo"
   ]
  },
  {
   "cell_type": "code",
   "execution_count": 185,
   "id": "0b98fd9d-344e-459d-9fa6-ff52dbd85880",
   "metadata": {},
   "outputs": [],
   "source": [
    "def gen_initial_solution_improved_greedy(loc):\n",
    "    solucion_inicial = []\n",
    "    parada = 0\n",
    "    nodo_actual = 0\n",
    "\n",
    "    while parada < loc.nciudades - 1:\n",
    "        mejor_distancia = float('inf')\n",
    "        for siguiente_nodo in range(1, loc.nciudades):\n",
    "            if siguiente_nodo not in solucion_inicial:\n",
    "                distancia = loc.distancia(nodo_actual, siguiente_nodo)\n",
    "                if distancia < mejor_distancia:\n",
    "                    mejor_distancia = distancia\n",
    "                    mejor_siguiente_nodo = siguiente_nodo\n",
    "\n",
    "        solucion_inicial.append(mejor_siguiente_nodo)\n",
    "        nodo_actual = mejor_siguiente_nodo\n",
    "        parada += 1\n",
    "\n",
    "    return solucion_inicial"
   ]
  },
  {
   "cell_type": "code",
   "execution_count": 186,
   "id": "4dd858f3-ebf8-45e1-b212-ca6cbc19c4d2",
   "metadata": {},
   "outputs": [],
   "source": [
    "from itertools import permutations\n",
    "def gen_neighbours(sol_act):\n",
    "    n = len(sol_act)\n",
    "    indices = list(range(n))\n",
    "    vecinos = []\n",
    "\n",
    "    for perm in permutations(indices, 2):\n",
    "        i, j = perm\n",
    "        if i < j:\n",
    "            vecinos.append([i,j])\n",
    "            \n",
    "    return vecinos"
   ]
  },
  {
   "cell_type": "code",
   "execution_count": 187,
   "id": "0c923a95-b7bb-4783-8209-485dcbe59aed",
   "metadata": {},
   "outputs": [],
   "source": [
    "def remove_first(lista_tabu):\n",
    "    return lista_tabu[1:]"
   ]
  },
  {
   "cell_type": "code",
   "execution_count": 188,
   "id": "3291d179-dfa0-41db-8cff-6d3748bad7fd",
   "metadata": {},
   "outputs": [],
   "source": [
    "def tabu(loc):\n",
    "    lista_tabu = []\n",
    "    max_size_lista_tabu = int(0.8*loc.nciudades)\n",
    "        \n",
    "    s0 = gen_initial_solution_improved_greedy(loc)  \n",
    "    coste_solucion_aux = cost(s0, loc)\n",
    "    coste_solucion_actual = coste_solucion_aux\n",
    "    \n",
    "    solucion_actual = s0.copy()\n",
    "    solucion_mejor = s0.copy()\n",
    "    \n",
    "    coste_solucion_mejor = float('inf')\n",
    "    \n",
    "    it = 0\n",
    "    r = 0\n",
    "    k = 0\n",
    "\n",
    "    while k < 10000:\n",
    "        k += 1\n",
    "        \n",
    "        vecinos = gen_neighbours(solucion_actual)\n",
    "\n",
    "        solucion_aux = solucion_actual.copy()\n",
    "        coste_solucion_aux = coste_solucion_actual    \n",
    "\n",
    "        coste_solucion_actual = float('inf')\n",
    "\n",
    "        for par in vecinos:\n",
    "            vecino = solucion_aux.copy()\n",
    "            vecino[par[0]], vecino[par[1]] = vecino[par[1]], vecino[par[0]]\n",
    "            \n",
    "            coste_vecino = cost_vecino(coste_solucion_aux, solucion_aux, par, loc)\n",
    "             \n",
    "            if (par not in lista_tabu) and (coste_vecino < coste_solucion_actual):\n",
    "                solucion_actual = vecino\n",
    "                coste_solucion_actual = coste_vecino\n",
    "                pos = par \n",
    "\n",
    "        if coste_solucion_actual == float('inf'):\n",
    "            k += 1\n",
    "            break\n",
    "\n",
    "        if coste_solucion_actual < coste_solucion_mejor:\n",
    "            solucion_mejor = solucion_actual\n",
    "            coste_solucion_mejor = coste_solucion_actual\n",
    "            it = k\n",
    "            r = 0\n",
    "        else:\n",
    "            r += 1\n",
    "\n",
    "        if r == 1000:\n",
    "            lista_tabu = []\n",
    "            solucion_actual = solucion_mejor\n",
    "            coste_solucion_actual = coste_solucion_mejor\n",
    "            r = 0\n",
    "\n",
    "        lista_tabu.append(pos)\n",
    "\n",
    "        if len(lista_tabu) > max_size_lista_tabu:\n",
    "            lista_tabu = remove_first(lista_tabu) \n",
    "\n",
    "    print(\"Se han ejecutado\", k, \"iteraciones\")\n",
    "    print(\"La solución se encontró en la iteración:\", it)\n",
    "    print(\"La mejor solucion es:\", solucion_mejor)\n",
    "    print(\"El coste de la mejor solución es:\", coste_solucion_mejor)\n",
    "    return k, it, solucion_mejor, coste_solucion_mejor"
   ]
  },
  {
   "cell_type": "code",
   "execution_count": 162,
   "id": "b18ac120-8fb1-445f-b853-e278b80f9c54",
   "metadata": {},
   "outputs": [
    {
     "name": "stdout",
     "output_type": "stream",
     "text": [
      "Se han ejecutado 10000 iteraciones\n",
      "La solución se encontró en la iteración: 3615\n",
      "La mejor solucion es: [24, 42, 3, 29, 8, 31, 30, 44, 10, 49, 1, 34, 13, 38, 2, 7, 39, 21, 16, 28, 23, 37, 20, 4, 32, 17, 46, 18, 36, 22, 6, 33, 27, 14, 26, 11, 9, 15, 41, 48, 25, 45, 35, 5, 40, 19, 47, 43, 12]\n",
      "El coste de la mejor solución es: 1073.3404674039389\n",
      "El tiempo que ha tardado es:  23.563109159469604\n"
     ]
    }
   ],
   "source": [
    "inicio = time.time() \n",
    "tabu(Localizaciones(filename='./data/grafo50cidadesA.txt'))\n",
    "delta_time = time.time() - inicio\n",
    "print(\"El tiempo que ha tardado es: \", delta_time)"
   ]
  },
  {
   "cell_type": "code",
   "execution_count": 163,
   "id": "193304a6-be76-483c-a216-19d789f11bff",
   "metadata": {},
   "outputs": [
    {
     "name": "stdout",
     "output_type": "stream",
     "text": [
      "Se han ejecutado 10000 iteraciones\n",
      "La solución se encontró en la iteración: 1180\n",
      "La mejor solucion es: [66, 88, 29, 84, 67, 16, 76, 28, 21, 39, 80, 56, 82, 6, 57, 33, 14, 54, 26, 72, 63, 11, 86, 91, 52, 90, 9, 99, 18, 46, 32, 17, 92, 64, 20, 4, 36, 71, 62, 22, 97, 7, 2, 13, 34, 95, 8, 81, 30, 31, 78, 1, 61, 73, 12, 93, 49, 87, 10, 44, 53, 75, 69, 59, 77, 42, 24, 3, 58, 85, 43, 47, 98, 70, 83, 60, 19, 40, 5, 38, 94, 74, 27, 89, 50, 25, 45, 68, 96, 35, 48, 41, 51, 15, 65, 79, 37, 55, 23]\n",
      "El coste de la mejor solución es: 1620.1187760559253\n",
      "El tiempo que ha tardado es:  146.901629447937\n"
     ]
    }
   ],
   "source": [
    "inicio = time.time() \n",
    "tabu(Localizaciones(filename='./data/grafo100cidades.txt'))\n",
    "delta_time = time.time() - inicio\n",
    "print(\"El tiempo que ha tardado es: \", delta_time)"
   ]
  },
  {
   "cell_type": "code",
   "execution_count": 164,
   "id": "bda38a16-5fb3-47d5-a592-e4686bc9a38b",
   "metadata": {},
   "outputs": [
    {
     "name": "stdout",
     "output_type": "stream",
     "text": [
      "Se han ejecutado 10000 iteraciones\n",
      "La solución se encontró en la iteración: 2660\n",
      "La mejor solucion es: [91, 81, 109, 119, 89, 8, 38, 40, 71, 42, 105, 36, 4, 35, 59, 16, 18, 66, 3, 53, 50, 64, 74, 37, 84, 82, 77, 51, 79, 101, 10, 22, 68, 100, 90, 43, 32, 107, 114, 80, 78, 13, 83, 69, 2, 110, 113, 14, 58, 11, 26, 24, 41, 63, 75, 62, 55, 21, 28, 93, 65, 27, 86, 47, 60, 9, 20, 111, 49, 25, 17, 34, 92, 23, 52, 117, 103, 96, 70, 73, 88, 31, 72, 54, 112, 95, 85, 33, 108, 48, 97, 57, 6, 45, 30, 44, 102, 76, 39, 29, 116, 87, 5, 118, 15, 67, 12, 115, 106, 1, 61, 98, 99, 19, 104, 46, 7, 56, 94]\n",
      "El coste de la mejor solución es: 25728.235934688866\n",
      "El tiempo que ha tardado es:  232.56044149398804\n"
     ]
    }
   ],
   "source": [
    "inicio = time.time() \n",
    "tabu(Localizaciones(filename='./data/US120.txt'))\n",
    "delta_time = time.time() - inicio\n",
    "print(\"El tiempo que ha tardado es: \", delta_time)"
   ]
  },
  {
   "cell_type": "markdown",
   "id": "e88cbbc4-1acd-4fc3-8295-061fcdd21e4f",
   "metadata": {},
   "source": [
    "### Búsqueda Tabú mejorada: Generación de la solución inicial"
   ]
  },
  {
   "cell_type": "code",
   "execution_count": 43,
   "id": "5f82e097-3405-42fb-8c25-f34e5a8a417a",
   "metadata": {},
   "outputs": [
    {
     "name": "stdout",
     "output_type": "stream",
     "text": [
      "[12, 112, 59, 94, 105, 41, 73, 78, 111, 93, 61, 90, 24, 83, 109, 30, 33, 39, 113, 9, 60, 50, 91, 82, 79, 104, 7, 23, 118, 86, 117, 67, 47, 11, 8, 18, 77, 48, 96, 53, 88, 4, 14, 2, 52, 17, 71, 102, 106, 98, 63, 34, 87, 36, 97, 56, 22, 115, 26, 28, 42, 15, 101, 31, 21, 65, 44, 85, 1, 16, 37, 89, 84, 108, 5, 3, 6, 70, 66, 116, 110, 68, 76, 25, 51, 35, 72, 32, 54, 46, 103, 57, 95, 13, 64, 99, 27, 58, 69, 45, 43, 19, 10, 20, 29, 49, 80, 75, 107, 74, 92, 100, 55, 38, 114, 81, 62, 40, 119]\n"
     ]
    }
   ],
   "source": [
    "print(gen_initial_solution_improved(Localizaciones(filename='./data/US120.txt')) )"
   ]
  },
  {
   "cell_type": "code",
   "execution_count": null,
   "id": "65ee779a-f4a0-472f-bd5f-edd59390c43e",
   "metadata": {},
   "outputs": [],
   "source": [
    "import random\n",
    "def gen_initial_solution(Loc):\n",
    "    vector = [x for x in range (1,Loc.nciudades)] # Todas las posibles ciudades a añadir a initial_solution\n",
    "    random_value = random.randint(0, Loc.nciudades-2) # Primera posible ciudad \n",
    "    initial_solution = []; # Inicio en 0 siempre\n",
    "    while(len(initial_solution) != Loc.nciudades-1): # Mientras no se hayan acabado las ciudades\n",
    "        \n",
    "        if(vector[random_value] != 0): # Si no se ha añadido la ciudad\n",
    "            initial_solution.append(vector[random_value])\n",
    "            vector[random_value] = 0 # Marcar como añadida la ciudad\n",
    "            \n",
    "        random_value = random.randint(0, Loc.nciudades-2)\n",
    "    return initial_solution"
   ]
  },
  {
   "cell_type": "code",
   "execution_count": null,
   "id": "45b86f50-f94e-45bc-b115-dcaff54a1de1",
   "metadata": {},
   "outputs": [],
   "source": [
    "def gen_initial_solution_improved(Loc):\n",
    "    initial_solution = list(range(1, Loc.nciudades))\n",
    "    random.shuffle(initial_solution)\n",
    "    return initial_solution"
   ]
  },
  {
   "cell_type": "code",
   "execution_count": 192,
   "id": "81d63bf1-4e4c-4473-a00a-e2d49bcdec7d",
   "metadata": {},
   "outputs": [
    {
     "name": "stdout",
     "output_type": "stream",
     "text": [
      "El tiempo medio que ha tardado es:  0.011592245101928711\n"
     ]
    }
   ],
   "source": [
    "inicio = time.time()\n",
    "for i in range(10):\n",
    "    gen_initial_solution(Localizaciones(filename='./data/US120.txt'))\n",
    "delta_time = time.time() - inicio\n",
    "print(\"El tiempo medio que ha tardado es: \", delta_time/10)"
   ]
  },
  {
   "cell_type": "code",
   "execution_count": 196,
   "id": "ce2795e8-bfa6-41b3-adee-1f1c42e082aa",
   "metadata": {},
   "outputs": [
    {
     "name": "stdout",
     "output_type": "stream",
     "text": [
      "El tiempo medio que ha tardado es:  0.00844264030456543\n"
     ]
    }
   ],
   "source": [
    "inicio = time.time() \n",
    "for i in range(10):\n",
    "    gen_initial_solution_improved(Localizaciones(filename='./data/US120.txt'))\n",
    "delta_time = time.time() - inicio\n",
    "print(\"El tiempo medio que ha tardado es: \", delta_time/10)"
   ]
  },
  {
   "cell_type": "code",
   "execution_count": 197,
   "id": "b0ca7d5c-76b0-4a03-a496-a97ffff5ff7d",
   "metadata": {},
   "outputs": [
    {
     "data": {
      "text/plain": [
       "1.3730592188867867"
      ]
     },
     "execution_count": 197,
     "metadata": {},
     "output_type": "execute_result"
    }
   ],
   "source": [
    "0.011592245101928711/0.00844264030456543\n"
   ]
  },
  {
   "cell_type": "code",
   "execution_count": 30,
   "id": "52dda304-8d81-421b-88d2-c45f6521d1cc",
   "metadata": {},
   "outputs": [],
   "source": [
    "def gen_initial_solution_improved_greedy(loc):\n",
    "    solucion_inicial = []\n",
    "    parada = 0\n",
    "    nodo_actual = 0\n",
    "\n",
    "    while parada < loc.nciudades - 1:\n",
    "        mejor_distancia = float('inf')\n",
    "        for siguiente_nodo in range(1, loc.nciudades):\n",
    "            if siguiente_nodo not in solucion_inicial:\n",
    "                distancia = loc.distancia(nodo_actual, siguiente_nodo)\n",
    "                if distancia < mejor_distancia:\n",
    "                    mejor_distancia = distancia\n",
    "                    mejor_siguiente_nodo = siguiente_nodo\n",
    "\n",
    "        solucion_inicial.append(mejor_siguiente_nodo)\n",
    "        nodo_actual = mejor_siguiente_nodo\n",
    "        parada += 1\n",
    "\n",
    "    return solucion_inicial"
   ]
  },
  {
   "cell_type": "code",
   "execution_count": 36,
   "id": "327fb6b4-5cc2-424c-baaa-617a3f65c94f",
   "metadata": {},
   "outputs": [
    {
     "name": "stdout",
     "output_type": "stream",
     "text": [
      "El tiempo medio que ha tardado es:  0.01328890323638916\n",
      "Sol:  [91, 81, 109, 119, 89, 8, 40, 38, 105, 36, 42, 4, 59, 16, 35, 94, 18, 66, 3, 53, 50, 64, 74, 37, 84, 2, 69, 83, 82, 13, 78, 80, 114, 107, 77, 10, 101, 79, 51, 22, 68, 90, 100, 43, 32, 71, 110, 113, 14, 58, 11, 62, 75, 63, 41, 24, 21, 55, 28, 93, 65, 27, 86, 47, 60, 9, 111, 20, 49, 25, 17, 92, 34, 117, 52, 23, 103, 96, 70, 73, 88, 31, 72, 54, 112, 95, 85, 33, 108, 48, 97, 57, 6, 45, 30, 102, 44, 76, 39, 29, 116, 87, 5, 118, 15, 67, 12, 61, 115, 106, 1, 98, 99, 56, 7, 19, 104, 46, 26]\n",
      "El coste es:  27033.84988200304\n"
     ]
    }
   ],
   "source": [
    "inicio = time.time() \n",
    "for i in range(10):\n",
    "    sol = gen_initial_solution_improved_greedy(Localizaciones(filename='./data/US120.txt'))\n",
    "delta_time = time.time() - inicio\n",
    "print(\"El tiempo medio que ha tardado es: \", delta_time/10)\n",
    "print(\"Sol: \", sol)\n",
    "print(\"El coste es: \", cost(sol,Localizaciones(filename='./data/US120.txt')))"
   ]
  },
  {
   "cell_type": "code",
   "execution_count": 28,
   "id": "b0a43b94-2f6b-46d2-b253-a2ac10c4e88c",
   "metadata": {},
   "outputs": [
    {
     "data": {
      "text/plain": [
       "184657.80912676253"
      ]
     },
     "execution_count": 28,
     "metadata": {},
     "output_type": "execute_result"
    }
   ],
   "source": [
    "#solucion generada sin ninguna estrategia\n",
    "cost([12, 112, 59, 94, 105, 41, 73, 78, 111, 93, 61, 90, 24, 83, 109, 30, 33, 39, 113, 9, 60, 50, 91, 82, 79, 104, 7, 23, 118, 86, 117, 67, 47, 11, 8, 18, 77, 48, 96, 53, 88, 4, 14, 2, 52, 17, 71, 102, 106, 98, 63, 34, 87, 36, 97, 56, 22, 115, 26, 28, 42, 15, 101, 31, 21, 65, 44, 85, 1, 16, 37, 89, 84, 108, 5, 3, 6, 70, 66, 116, 110, 68, 76, 25, 51, 35, 72, 32, 54, 46, 103, 57, 95, 13, 64, 99, 27, 58, 69, 45, 43, 19, 10, 20, 29, 49, 80, 75, 107, 74, 92, 100, 55, 38, 114, 81, 62, 40, 119],Localizaciones(filename='./data/US120.txt'))"
   ]
  },
  {
   "cell_type": "code",
   "execution_count": 33,
   "id": "154f5c0a-3321-46e8-b42f-bb5b302a320f",
   "metadata": {},
   "outputs": [
    {
     "data": {
      "text/plain": [
       "6.830614578861475"
      ]
     },
     "execution_count": 33,
     "metadata": {},
     "output_type": "execute_result"
    }
   ],
   "source": [
    "184657.80912676253/27033.84988200304"
   ]
  },
  {
   "cell_type": "markdown",
   "id": "474cc007-193d-4840-9fda-ee4afab838db",
   "metadata": {
    "jp-MarkdownHeadingCollapsed": true
   },
   "source": [
    "### Búsqueda Tabú mejorada: Gestión de la lista tabú"
   ]
  },
  {
   "cell_type": "code",
   "execution_count": 89,
   "id": "48df756d-ad84-4953-a46a-0e3d3c01d804",
   "metadata": {},
   "outputs": [],
   "source": [
    "def tabu_prueba(loc,n):\n",
    "    print(n)\n",
    "    lista_tabu = []\n",
    "    max_size_lista_tabu = n\n",
    "        \n",
    "    s0 = gen_initial_solution_improved_greedy(loc)  \n",
    "    coste_solucion_aux = cost(s0, loc)\n",
    "    coste_solucion_actual = coste_solucion_aux\n",
    "    \n",
    "    solucion_actual = s0.copy()\n",
    "    solucion_mejor = s0.copy()\n",
    "    \n",
    "    coste_solucion_mejor = float('inf')\n",
    "    \n",
    "    it = 0\n",
    "    r = 0\n",
    "    k = 0\n",
    "\n",
    "    while k < 10000:\n",
    "        k += 1\n",
    "        \n",
    "        vecinos = gen_neighbours(solucion_actual)\n",
    "\n",
    "        solucion_aux = solucion_actual.copy()\n",
    "        coste_solucion_aux = coste_solucion_actual    \n",
    "\n",
    "        coste_solucion_actual = float('inf')\n",
    "\n",
    "        for par in vecinos:\n",
    "            vecino = solucion_aux.copy()\n",
    "            vecino[par[0]], vecino[par[1]] = vecino[par[1]], vecino[par[0]]\n",
    "                 \n",
    "            coste_vecino = cost_vecino(coste_solucion_aux, solucion_aux, par, loc)\n",
    "            \n",
    "            if (par not in lista_tabu) and (coste_vecino < coste_solucion_actual):\n",
    "                solucion_actual = vecino\n",
    "                coste_solucion_actual = coste_vecino\n",
    "                pos = par \n",
    "\n",
    "        if coste_solucion_actual == float('inf'):\n",
    "            k += 1\n",
    "            break\n",
    "\n",
    "        if coste_solucion_actual < coste_solucion_mejor:\n",
    "            solucion_mejor = solucion_actual\n",
    "            coste_solucion_mejor = coste_solucion_actual\n",
    "            it = k\n",
    "            r = 0\n",
    "        else:\n",
    "            r += 1\n",
    "\n",
    "        if r == 1000:\n",
    "            lista_tabu = []\n",
    "            solucion_actual = solucion_mejor\n",
    "            coste_solucion_actual = coste_solucion_mejor\n",
    "            r = 0\n",
    "\n",
    "        lista_tabu.append(pos)\n",
    "\n",
    "        if len(lista_tabu) > max_size_lista_tabu:\n",
    "            lista_tabu = remove_first(lista_tabu) \n",
    "\n",
    "    return k, it, solucion_mejor, coste_solucion_mejor\n"
   ]
  },
  {
   "cell_type": "code",
   "execution_count": 90,
   "id": "5aa7434c-23f5-4534-99ac-f97c51a16ea6",
   "metadata": {},
   "outputs": [],
   "source": [
    "import time \n",
    "def pruebas_2(loc, n):\n",
    "    costes = []\n",
    "    tiempos = []\n",
    "\n",
    "    print(\"Pruebas_2 para: \" ,loc.filename)\n",
    "    for i in range(0,len(n)):\n",
    "        inicio = time.time() \n",
    "        resultado = tabu_prueba(loc,n[i])\n",
    "        delta_time = time.time() - inicio\n",
    "        print(\"La ejecucion \", i+1, \"ha tardado \" , delta_time)\n",
    "        tiempos.append(delta_time)\n",
    "        costes.append(resultado[3])\n",
    "\n",
    "    return (costes,tiempos,n)"
   ]
  },
  {
   "cell_type": "code",
   "execution_count": 92,
   "id": "dd9d5ea2-0712-48ba-9dfe-d25b469088c9",
   "metadata": {},
   "outputs": [
    {
     "name": "stdout",
     "output_type": "stream",
     "text": [
      "Pruebas_2 para:  ./data/US120.txt\n",
      "50\n",
      "La ejecucion  1 ha tardado  175.41048884391785\n",
      "100\n",
      "La ejecucion  2 ha tardado  226.40843033790588\n",
      "119\n",
      "La ejecucion  3 ha tardado  245.14429140090942\n",
      "120\n",
      "La ejecucion  4 ha tardado  247.20565533638\n",
      "238\n",
      "La ejecucion  5 ha tardado  350.8017044067383\n",
      "240\n",
      "La ejecucion  6 ha tardado  353.36968541145325\n",
      "357\n",
      "La ejecucion  7 ha tardado  440.55031752586365\n",
      "360\n",
      "La ejecucion  8 ha tardado  440.601238489151\n"
     ]
    }
   ],
   "source": [
    "n = [50, 100, (120-1), 120, 2*(120-1), 240, 3*(120-1), 360]\n",
    "c = pruebas_2(Localizaciones(filename='./data/US120.txt'), n)"
   ]
  },
  {
   "cell_type": "code",
   "execution_count": 96,
   "id": "44b72542-5e99-4a8b-a1db-37c57a0d3fa6",
   "metadata": {},
   "outputs": [
    {
     "name": "stdout",
     "output_type": "stream",
     "text": [
      "N:  [50, 100, 119, 120, 238, 240, 357, 360]\n",
      "Tiempos:  [175.41048884391785, 226.40843033790588, 245.14429140090942, 247.20565533638, 350.8017044067383, 353.36968541145325, 440.55031752586365, 440.601238489151]\n",
      "Costes:  [25642.47567464752, 25619.98301685082, 25858.032944269096, 25745.23679913663, 25875.82079737433, 25875.82079737433, 25875.82079737433, 25875.82079737433]\n"
     ]
    }
   ],
   "source": [
    "print(\"N: \", c[2])\n",
    "n = c[2]\n",
    "print(\"Tiempos: \", c[1])\n",
    "tiempos = c[1]\n",
    "print(\"Costes: \", c[0])\n",
    "costes = c[0]"
   ]
  },
  {
   "cell_type": "code",
   "execution_count": 97,
   "id": "7539c7ff-4037-46c4-b91c-a76a33ef7912",
   "metadata": {},
   "outputs": [
    {
     "data": {
      "image/png": "[encoded data removed]",
      "text/plain": [
       "<Figure size 640x480 with 1 Axes>"
      ]
     },
     "metadata": {},
     "output_type": "display_data"
    }
   ],
   "source": [
    "import matplotlib\n",
    "import matplotlib.pyplot as plt\n",
    "import numpy as np\n",
    "plt.plot(n, costes)\n",
    "plt.xlabel('Tamaño Tenencia Tabú')\n",
    "plt.ylabel('Coste')\n",
    "plt.title(\"Coste - Tenencia Tabú\")\n",
    "plt.savefig('i3.png')\n",
    "plt.show()"
   ]
  },
  {
   "cell_type": "code",
   "execution_count": 98,
   "id": "2bd1495d-28b1-4d4d-afc0-bdbc3684d910",
   "metadata": {},
   "outputs": [
    {
     "data": {
      "image/png": "[encoded data removed]",
      "text/plain": [
       "<Figure size 640x480 with 1 Axes>"
      ]
     },
     "metadata": {},
     "output_type": "display_data"
    }
   ],
   "source": [
    "import matplotlib\n",
    "import matplotlib.pyplot as plt\n",
    "import numpy as np\n",
    "plt.plot(n, tiempos, color='red')\n",
    "plt.xlabel('Tamaño Tenencia Tabú')\n",
    "plt.ylabel('Tiempo')\n",
    "plt.title(\"Tiempo - Tenencia Tabú\")\n",
    "plt.savefig('i4.png')\n",
    "plt.show()"
   ]
  },
  {
   "cell_type": "code",
   "execution_count": 99,
   "id": "bd5c153c-0ee0-4103-a1d5-1024fb8dc381",
   "metadata": {},
   "outputs": [
    {
     "data": {
      "image/png": "[encoded data removed]",
      "text/plain": [
       "<Figure size 640x480 with 2 Axes>"
      ]
     },
     "metadata": {},
     "output_type": "display_data"
    }
   ],
   "source": [
    "fig1 = plt.figure(\"Filtro\")\n",
    "fig1.subplots_adjust(hspace=0, wspace=0.5)\n",
    "\n",
    "ax = fig1.add_subplot(2, 2, 1)\n",
    "ax.plot(n, tiempos, color='red')\n",
    "ax.set_xlabel('Tenencia Tabú')\n",
    "ax.set_ylabel('Tiempo')\n",
    "ax.set_title(\"Tiempo - Tenencia Tabú\")\n",
    "ax.grid(color='gray', linestyle='dashed', linewidth=1, alpha=0.4)\n",
    "ax.axhline(0, color='black', linewidth=0.5)\n",
    "\n",
    "ax = fig1.add_subplot(2, 2, 2)\n",
    "ax.plot(n, costes, color='green')\n",
    "ax.set_xlabel('Tenencia Tabú')\n",
    "ax.set_ylabel('Costes')\n",
    "ax.set_title(\"Costes - Tenencia Tabú\")\n",
    "ax.grid(color='gray', linestyle='dashed', linewidth=1, alpha=0.4)\n",
    "ax.axhline(0, color='black', linewidth=0.5)\n",
    "\n",
    "plt.show()"
   ]
  },
  {
   "cell_type": "code",
   "execution_count": 103,
   "id": "bd9dde1d-7fd7-4fb4-9f39-e20e501c957a",
   "metadata": {},
   "outputs": [
    {
     "name": "stdout",
     "output_type": "stream",
     "text": [
      "309.9364764690399\n"
     ]
    }
   ],
   "source": [
    "import statistics\n",
    "media = statistics.mean(tiempos)\n",
    "print(media)"
   ]
  },
  {
   "cell_type": "markdown",
   "id": "b3d60f69-ecfb-424c-a3e4-e307214fe0ff",
   "metadata": {
    "jp-MarkdownHeadingCollapsed": true
   },
   "source": [
    "### Búsqueda Tabú mejorada: El operador de generación de vecinos"
   ]
  },
  {
   "cell_type": "code",
   "execution_count": 147,
   "id": "d75ae3f0-21f2-4680-bbed-2ef82889be84",
   "metadata": {},
   "outputs": [
    {
     "name": "stdout",
     "output_type": "stream",
     "text": [
      "3 posiciones:  18424\n",
      "2 posiciones:  1176\n"
     ]
    }
   ],
   "source": [
    "from itertools import permutations\n",
    "def gen_neighbours_tres(sol_act):\n",
    "    n = len(sol_act)\n",
    "    indices = list(range(n))\n",
    "    vecinos = []\n",
    "\n",
    "    for perm in permutations(indices, 3):\n",
    "        i, j,k = perm\n",
    "        if i < j and j < k:\n",
    "            vecinos.append([i,j,k])\n",
    "    return len(vecinos)\n",
    "    \n",
    "def gen_neighbours_dos(sol_act):\n",
    "    n = len(sol_act)\n",
    "    indices = list(range(n))\n",
    "    vecinos = []\n",
    "\n",
    "    for perm in permutations(indices, 2):\n",
    "        i, j = perm\n",
    "        if i < j:\n",
    "            vecinos.append([i,j])\n",
    "            \n",
    "    return len(vecinos)\n",
    "\n",
    "\n",
    "sol_act = [25, 6, 43, 23, 13, 47, 4, 11, 46, 41, 15, 38, 21, 26, 14, 42, 49, 32, 33, 3, 12, 20, 8, 48, 39, 28, 37, 45, 36, 2, 17, 9, 31, 29, 7, 24, 1, 5, 18, 35, 44, 22, 16, 30, 34, 10, 40, 19, 27]\n",
    "neighbors = gen_neighbours_tres(sol_act)\n",
    "print(\"3 posiciones: \" ,neighbors)\n",
    "neighbors = gen_neighbours_dos(sol_act)\n",
    "print(\"2 posiciones: \" ,neighbors)"
   ]
  },
  {
   "cell_type": "markdown",
   "id": "1c103cb1-d4a1-4dfe-82a8-273dd8629e21",
   "metadata": {},
   "source": [
    "### Búsqueda Tabú mejorada: Estrategia de reinicialización para dar diversificación con una estrategia de memoria a largo plazo"
   ]
  },
  {
   "cell_type": "code",
   "execution_count": 189,
   "id": "5b78f2cc-4326-40c1-8cbe-35507f2ceaed",
   "metadata": {},
   "outputs": [],
   "source": [
    "def tabu(loc):\n",
    "    lista_tabu = []\n",
    "    max_size_lista_tabu = int(0.8*loc.nciudades)\n",
    "        \n",
    "    s0 = gen_initial_solution_improved_greedy(loc)  \n",
    "    coste_solucion_aux = cost(s0, loc)\n",
    "    coste_solucion_actual = coste_solucion_aux\n",
    "    \n",
    "    solucion_actual = s0.copy()\n",
    "    solucion_mejor = s0.copy()\n",
    "    \n",
    "    coste_solucion_mejor = float('inf')\n",
    "    \n",
    "    it = 0\n",
    "    r = 0\n",
    "    k = 0\n",
    "\n",
    "    distancias = [loc.distancia(i, j) for i in range(loc.nciudades) for j in range(i+1, loc.nciudades)]\n",
    "    d_max = max(distancias)\n",
    "    d_min = min(distancias)\n",
    "    d_diff = d_max - d_min\n",
    "\n",
    "    frec = [[0] * loc.nciudades for i in range(loc.nciudades)]\n",
    "    max_frec = 0\n",
    "\n",
    "    while k < 10000:\n",
    "        k += 1\n",
    "        \n",
    "        vecinos = gen_neighbours(solucion_actual)\n",
    "\n",
    "        solucion_aux = solucion_actual.copy()\n",
    "        coste_solucion_aux = coste_solucion_actual    \n",
    "\n",
    "        coste_solucion_actual = float('inf')\n",
    "\n",
    "        for par in vecinos:\n",
    "            vecino = solucion_aux.copy()\n",
    "            vecino[par[0]], vecino[par[1]] = vecino[par[1]], vecino[par[0]]\n",
    "\n",
    "            if max_frec == 0:\n",
    "                u = 0\n",
    "            else:\n",
    "                u = d_diff * (frec[par[0]][par[1]] / max_frec)\n",
    "\n",
    "            coste_vecino = cost_vecino(coste_solucion_aux, solucion_aux, par, loc)\n",
    "            coste_vecino+=u   \n",
    "            \n",
    "            \n",
    "            if (par not in lista_tabu) and (coste_vecino < coste_solucion_actual):\n",
    "                solucion_actual = vecino\n",
    "                coste_solucion_actual = coste_vecino\n",
    "                pos = par \n",
    "\n",
    "        if coste_solucion_actual == float('inf'):\n",
    "            k += 1\n",
    "            break\n",
    "\n",
    "        frec[pos[0]][pos[1]]+= 1\n",
    "        if frec[pos[0]][pos[1]] > max_frec:\n",
    "            max_frec = frec[pos[0]][pos[1]]\n",
    "\n",
    "        if coste_solucion_actual < coste_solucion_mejor:\n",
    "            solucion_mejor = solucion_actual\n",
    "            coste_solucion_mejor = coste_solucion_actual\n",
    "            it = k\n",
    "\n",
    "        lista_tabu.append(pos)\n",
    "\n",
    "        if len(lista_tabu) > max_size_lista_tabu:\n",
    "            lista_tabu = remove_first(lista_tabu) \n",
    "\n",
    "    print(\"Se han ejecutado\", k, \"iteraciones\")\n",
    "    print(\"La solución se encontró en la iteración:\", it)\n",
    "    print(\"La mejor solucion es:\", solucion_mejor)\n",
    "    print(\"El coste de la mejor solución es:\", coste_solucion_mejor)\n",
    "    return k, it, solucion_mejor, coste_solucion_mejor"
   ]
  },
  {
   "cell_type": "code",
   "execution_count": 190,
   "id": "943d4667-28dc-40be-b340-653a13d956d7",
   "metadata": {},
   "outputs": [
    {
     "name": "stdout",
     "output_type": "stream",
     "text": [
      "Se han ejecutado 10000 iteraciones\n",
      "La solución se encontró en la iteración: 23\n",
      "La mejor solucion es: [24, 42, 3, 29, 8, 44, 10, 31, 30, 49, 12, 1, 34, 13, 2, 7, 39, 16, 21, 28, 23, 37, 20, 4, 36, 18, 46, 17, 32, 22, 6, 33, 27, 14, 26, 11, 9, 15, 41, 48, 25, 45, 35, 47, 43, 19, 40, 5, 38]\n",
      "El coste de la mejor solución es: 1094.843602924698\n",
      "El tiempo que ha tardado es:  22.76244878768921\n"
     ]
    }
   ],
   "source": [
    "inicio = time.time() \n",
    "tabu(Localizaciones(filename='./data/grafo50cidadesA.txt'))\n",
    "delta_time = time.time() - inicio\n",
    "print(\"El tiempo que ha tardado es: \", delta_time)"
   ]
  },
  {
   "cell_type": "code",
   "execution_count": 191,
   "id": "ddc65c74-a810-402d-956a-55ef7987c3e7",
   "metadata": {},
   "outputs": [
    {
     "name": "stdout",
     "output_type": "stream",
     "text": [
      "Se han ejecutado 10000 iteraciones\n",
      "La solución se encontró en la iteración: 20\n",
      "La mejor solucion es: [66, 88, 29, 67, 16, 76, 28, 21, 84, 39, 80, 56, 82, 6, 57, 33, 14, 54, 26, 72, 63, 11, 86, 91, 52, 90, 9, 99, 18, 46, 17, 32, 92, 64, 20, 4, 36, 71, 62, 22, 97, 7, 2, 13, 34, 95, 8, 81, 31, 30, 93, 49, 78, 1, 61, 73, 12, 87, 10, 44, 53, 75, 69, 59, 77, 42, 24, 3, 58, 85, 43, 47, 98, 83, 70, 60, 19, 40, 5, 38, 45, 25, 50, 89, 27, 74, 94, 96, 68, 35, 48, 41, 51, 15, 65, 79, 37, 55, 23]\n",
      "El coste de la mejor solución es: 1645.1097398740126\n",
      "El tiempo que ha tardado es:  146.90749764442444\n"
     ]
    }
   ],
   "source": [
    "inicio = time.time() \n",
    "tabu(Localizaciones(filename='./data/grafo100cidades.txt'))\n",
    "delta_time = time.time() - inicio\n",
    "print(\"El tiempo que ha tardado es: \", delta_time)"
   ]
  },
  {
   "cell_type": "code",
   "execution_count": 130,
   "id": "4cba2213-99e1-4ec8-9e6c-d0cacefb7ca2",
   "metadata": {},
   "outputs": [
    {
     "name": "stdout",
     "output_type": "stream",
     "text": [
      "Se han ejecutado 10000 iteraciones\n",
      "La solución se encontró en la iteración: 13\n",
      "La mejor solucion es: [91, 81, 109, 119, 89, 8, 38, 40, 105, 36, 42, 4, 59, 16, 35, 94, 18, 66, 3, 53, 50, 64, 74, 37, 84, 71, 82, 69, 83, 13, 78, 80, 114, 107, 77, 51, 79, 101, 10, 22, 68, 100, 90, 43, 32, 2, 110, 113, 14, 11, 58, 62, 75, 63, 24, 41, 21, 55, 28, 93, 65, 27, 86, 47, 60, 9, 20, 111, 49, 25, 17, 34, 92, 23, 52, 117, 103, 96, 70, 73, 88, 31, 72, 54, 112, 95, 85, 33, 108, 48, 97, 57, 6, 45, 30, 44, 102, 76, 39, 29, 116, 87, 5, 118, 15, 67, 12, 61, 115, 106, 1, 98, 99, 56, 7, 19, 104, 46, 26]\n",
      "El coste de la mejor solución es: 26528.31039772939\n",
      "El tiempo que ha tardado es:  268.1195478439331\n"
     ]
    }
   ],
   "source": [
    "inicio = time.time() \n",
    "tabu(Localizaciones(filename='./data/US120.txt'))\n",
    "delta_time = time.time() - inicio\n",
    "print(\"El tiempo que ha tardado es: \", delta_time)"
   ]
  }
 ],
 "metadata": {
  "kernelspec": {
   "display_name": "Python 3 (ipykernel)",
   "language": "python",
   "name": "python3"
  },
  "language_info": {
   "codemirror_mode": {
    "name": "ipython",
    "version": 3
   },
   "file_extension": ".py",
   "mimetype": "text/x-python",
   "name": "python",
   "nbconvert_exporter": "python",
   "pygments_lexer": "ipython3",
   "version": "3.11.5"
  }
 },
 "nbformat": 4,
 "nbformat_minor": 5
}
